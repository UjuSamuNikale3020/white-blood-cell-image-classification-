{
  "nbformat": 4,
  "nbformat_minor": 0,
  "metadata": {
    "colab": {
      "provenance": [],
      "gpuType": "T4"
    },
    "kernelspec": {
      "name": "python3",
      "display_name": "Python 3"
    },
    "language_info": {
      "name": "python"
    },
    "accelerator": "GPU"
  },
  "cells": [
    {
      "cell_type": "markdown",
      "source": [
        "# WHITE BLOOD CELL CLASSIFICATION\n",
        "\n"
      ],
      "metadata": {
        "id": "afSmsheqKQq1"
      }
    },
    {
      "cell_type": "code",
      "source": [
        "from google.colab import files\n",
        "from IPython.display import Image\n",
        "\n",
        "uploaded = files.upload()\n",
        "Image(filename='images.jpeg',width=500)"
      ],
      "metadata": {
        "colab": {
          "base_uri": "https://localhost:8080/",
          "height": 573
        },
        "id": "DRo_7v4AGmpn",
        "outputId": "cddfb042-589e-4fd2-a05d-a862a2f4e635"
      },
      "execution_count": null,
      "outputs": [
        {
          "output_type": "display_data",
          "data": {
            "text/plain": [
              "<IPython.core.display.HTML object>"
            ],
            "text/html": [
              "\n",
              "     <input type=\"file\" id=\"files-9007dd2f-92ed-4e4b-8d46-1ef56b0a511b\" name=\"files[]\" multiple disabled\n",
              "        style=\"border:none\" />\n",
              "     <output id=\"result-9007dd2f-92ed-4e4b-8d46-1ef56b0a511b\">\n",
              "      Upload widget is only available when the cell has been executed in the\n",
              "      current browser session. Please rerun this cell to enable.\n",
              "      </output>\n",
              "      <script>// Copyright 2017 Google LLC\n",
              "//\n",
              "// Licensed under the Apache License, Version 2.0 (the \"License\");\n",
              "// you may not use this file except in compliance with the License.\n",
              "// You may obtain a copy of the License at\n",
              "//\n",
              "//      http://www.apache.org/licenses/LICENSE-2.0\n",
              "//\n",
              "// Unless required by applicable law or agreed to in writing, software\n",
              "// distributed under the License is distributed on an \"AS IS\" BASIS,\n",
              "// WITHOUT WARRANTIES OR CONDITIONS OF ANY KIND, either express or implied.\n",
              "// See the License for the specific language governing permissions and\n",
              "// limitations under the License.\n",
              "\n",
              "/**\n",
              " * @fileoverview Helpers for google.colab Python module.\n",
              " */\n",
              "(function(scope) {\n",
              "function span(text, styleAttributes = {}) {\n",
              "  const element = document.createElement('span');\n",
              "  element.textContent = text;\n",
              "  for (const key of Object.keys(styleAttributes)) {\n",
              "    element.style[key] = styleAttributes[key];\n",
              "  }\n",
              "  return element;\n",
              "}\n",
              "\n",
              "// Max number of bytes which will be uploaded at a time.\n",
              "const MAX_PAYLOAD_SIZE = 100 * 1024;\n",
              "\n",
              "function _uploadFiles(inputId, outputId) {\n",
              "  const steps = uploadFilesStep(inputId, outputId);\n",
              "  const outputElement = document.getElementById(outputId);\n",
              "  // Cache steps on the outputElement to make it available for the next call\n",
              "  // to uploadFilesContinue from Python.\n",
              "  outputElement.steps = steps;\n",
              "\n",
              "  return _uploadFilesContinue(outputId);\n",
              "}\n",
              "\n",
              "// This is roughly an async generator (not supported in the browser yet),\n",
              "// where there are multiple asynchronous steps and the Python side is going\n",
              "// to poll for completion of each step.\n",
              "// This uses a Promise to block the python side on completion of each step,\n",
              "// then passes the result of the previous step as the input to the next step.\n",
              "function _uploadFilesContinue(outputId) {\n",
              "  const outputElement = document.getElementById(outputId);\n",
              "  const steps = outputElement.steps;\n",
              "\n",
              "  const next = steps.next(outputElement.lastPromiseValue);\n",
              "  return Promise.resolve(next.value.promise).then((value) => {\n",
              "    // Cache the last promise value to make it available to the next\n",
              "    // step of the generator.\n",
              "    outputElement.lastPromiseValue = value;\n",
              "    return next.value.response;\n",
              "  });\n",
              "}\n",
              "\n",
              "/**\n",
              " * Generator function which is called between each async step of the upload\n",
              " * process.\n",
              " * @param {string} inputId Element ID of the input file picker element.\n",
              " * @param {string} outputId Element ID of the output display.\n",
              " * @return {!Iterable<!Object>} Iterable of next steps.\n",
              " */\n",
              "function* uploadFilesStep(inputId, outputId) {\n",
              "  const inputElement = document.getElementById(inputId);\n",
              "  inputElement.disabled = false;\n",
              "\n",
              "  const outputElement = document.getElementById(outputId);\n",
              "  outputElement.innerHTML = '';\n",
              "\n",
              "  const pickedPromise = new Promise((resolve) => {\n",
              "    inputElement.addEventListener('change', (e) => {\n",
              "      resolve(e.target.files);\n",
              "    });\n",
              "  });\n",
              "\n",
              "  const cancel = document.createElement('button');\n",
              "  inputElement.parentElement.appendChild(cancel);\n",
              "  cancel.textContent = 'Cancel upload';\n",
              "  const cancelPromise = new Promise((resolve) => {\n",
              "    cancel.onclick = () => {\n",
              "      resolve(null);\n",
              "    };\n",
              "  });\n",
              "\n",
              "  // Wait for the user to pick the files.\n",
              "  const files = yield {\n",
              "    promise: Promise.race([pickedPromise, cancelPromise]),\n",
              "    response: {\n",
              "      action: 'starting',\n",
              "    }\n",
              "  };\n",
              "\n",
              "  cancel.remove();\n",
              "\n",
              "  // Disable the input element since further picks are not allowed.\n",
              "  inputElement.disabled = true;\n",
              "\n",
              "  if (!files) {\n",
              "    return {\n",
              "      response: {\n",
              "        action: 'complete',\n",
              "      }\n",
              "    };\n",
              "  }\n",
              "\n",
              "  for (const file of files) {\n",
              "    const li = document.createElement('li');\n",
              "    li.append(span(file.name, {fontWeight: 'bold'}));\n",
              "    li.append(span(\n",
              "        `(${file.type || 'n/a'}) - ${file.size} bytes, ` +\n",
              "        `last modified: ${\n",
              "            file.lastModifiedDate ? file.lastModifiedDate.toLocaleDateString() :\n",
              "                                    'n/a'} - `));\n",
              "    const percent = span('0% done');\n",
              "    li.appendChild(percent);\n",
              "\n",
              "    outputElement.appendChild(li);\n",
              "\n",
              "    const fileDataPromise = new Promise((resolve) => {\n",
              "      const reader = new FileReader();\n",
              "      reader.onload = (e) => {\n",
              "        resolve(e.target.result);\n",
              "      };\n",
              "      reader.readAsArrayBuffer(file);\n",
              "    });\n",
              "    // Wait for the data to be ready.\n",
              "    let fileData = yield {\n",
              "      promise: fileDataPromise,\n",
              "      response: {\n",
              "        action: 'continue',\n",
              "      }\n",
              "    };\n",
              "\n",
              "    // Use a chunked sending to avoid message size limits. See b/62115660.\n",
              "    let position = 0;\n",
              "    do {\n",
              "      const length = Math.min(fileData.byteLength - position, MAX_PAYLOAD_SIZE);\n",
              "      const chunk = new Uint8Array(fileData, position, length);\n",
              "      position += length;\n",
              "\n",
              "      const base64 = btoa(String.fromCharCode.apply(null, chunk));\n",
              "      yield {\n",
              "        response: {\n",
              "          action: 'append',\n",
              "          file: file.name,\n",
              "          data: base64,\n",
              "        },\n",
              "      };\n",
              "\n",
              "      let percentDone = fileData.byteLength === 0 ?\n",
              "          100 :\n",
              "          Math.round((position / fileData.byteLength) * 100);\n",
              "      percent.textContent = `${percentDone}% done`;\n",
              "\n",
              "    } while (position < fileData.byteLength);\n",
              "  }\n",
              "\n",
              "  // All done.\n",
              "  yield {\n",
              "    response: {\n",
              "      action: 'complete',\n",
              "    }\n",
              "  };\n",
              "}\n",
              "\n",
              "scope.google = scope.google || {};\n",
              "scope.google.colab = scope.google.colab || {};\n",
              "scope.google.colab._files = {\n",
              "  _uploadFiles,\n",
              "  _uploadFilesContinue,\n",
              "};\n",
              "})(self);\n",
              "</script> "
            ]
          },
          "metadata": {}
        },
        {
          "output_type": "stream",
          "name": "stdout",
          "text": [
            "Saving images.jpeg to images.jpeg\n"
          ]
        },
        {
          "output_type": "execute_result",
          "data": {
            "image/jpeg": "[encoded data removed]",
            "text/plain": [
              "<IPython.core.display.Image object>"
            ]
          },
          "metadata": {
            "image/jpeg": {
              "width": 500
            }
          },
          "execution_count": 1
        }
      ]
    },
    {
      "cell_type": "code",
      "source": [
        "from google.colab import drive\n",
        "drive.mount('/content/drive')"
      ],
      "metadata": {
        "colab": {
          "base_uri": "https://localhost:8080/"
        },
        "id": "CRNaIXx4JTXf",
        "outputId": "d9964f31-2450-4278-a3ab-d51060416ed1"
      },
      "execution_count": null,
      "outputs": [
        {
          "output_type": "stream",
          "name": "stdout",
          "text": [
            "Drive already mounted at /content/drive; to attempt to forcibly remount, call drive.mount(\"/content/drive\", force_remount=True).\n"
          ]
        }
      ]
    },
    {
      "cell_type": "markdown",
      "source": [
        "**Data Summary**"
      ],
      "metadata": {
        "id": "5y972OXIFX4K"
      }
    },
    {
      "cell_type": "markdown",
      "source": [
        "This task aims to classify images of White Blood Cells into 9 subtypes. The specific types of WBCs to be classified are as follows: bands, basophils, blasts, eosinophils, lymphocytes, metamyelocytes, monocytes, myelocytes, and neutrophils.\n",
        "\n",
        "The data has been provided to me and it contains two folders: WBC and classify-images. Images in the WBC folder have been used for training and testing the model. While the classify-images folder has been used to classify images into the 9 subtypes mentioned above."
      ],
      "metadata": {
        "id": "_gKnDBvHFEoH"
      }
    },
    {
      "cell_type": "markdown",
      "source": [
        "1 WBC: This folder has 9 sub-folders, each containing labelled images of the sub-types of WBC. The images in these 9 sub-folders are to be used for training and testing the model.\n",
        "\n",
        "2 classify-images: This folder has unlabelled images. It is to be used for classifying the images after the model has been trained and tested."
      ],
      "metadata": {
        "id": "oYml3LfmFnH0"
      }
    },
    {
      "cell_type": "markdown",
      "source": [
        "**Training Environment: Colab Notebook (free version)**"
      ],
      "metadata": {
        "id": "w4Pw1ebcFvft"
      }
    },
    {
      "cell_type": "markdown",
      "source": [
        "**Import the libraries**"
      ],
      "metadata": {
        "id": "cEb0xbveF-Sg"
      }
    },
    {
      "cell_type": "code",
      "source": [
        " #import the necessary libraries\n",
        "\n",
        "import numpy as np\n",
        "import cv2\n",
        "import os\n",
        "from os.path import exists\n",
        "import shutil\n",
        "import matplotlib.pyplot as plt\n",
        "from collections import Counter\n",
        "\n",
        "from keras.utils import to_categorical\n",
        "from keras.utils import np_utils\n",
        "from keras.preprocessing.image import ImageDataGenerator\n",
        "\n",
        "from sklearn.preprocessing import LabelEncoder\n",
        "\n",
        "import warnings\n",
        "warnings.filterwarnings('ignore')\n",
        "\n",
        "%matplotlib inline"
      ],
      "metadata": {
        "id": "DAijjEF5GCHx"
      },
      "execution_count": null,
      "outputs": []
    },
    {
      "cell_type": "code",
      "source": [
        "# mount the drive\n",
        "\n",
        "from google.colab import drive\n",
        "drive.mount('/content/drive')"
      ],
      "metadata": {
        "colab": {
          "base_uri": "https://localhost:8080/"
        },
        "id": "lStrz8UpGKwp",
        "outputId": "ab2fe3b0-b56a-4bec-ac27-534399e9b907"
      },
      "execution_count": null,
      "outputs": [
        {
          "output_type": "stream",
          "name": "stdout",
          "text": [
            "Drive already mounted at /content/drive; to attempt to forcibly remount, call drive.mount(\"/content/drive\", force_remount=True).\n"
          ]
        }
      ]
    },
    {
      "cell_type": "code",
      "source": [
        " #path of the data directory in drive\n",
        "\n",
        "DATA_DIR = '/content/drive/MyDrive/Desktop/ujwala ds project/taskwbc'"
      ],
      "metadata": {
        "id": "ZCB21-A3GYOI"
      },
      "execution_count": null,
      "outputs": []
    },
    {
      "cell_type": "code",
      "source": [
        "# number of classes into which the classifications are to be made\n",
        "num_classes = 9\n",
        "\n",
        "# classes into which the classifications are to be made\n",
        "classes = ['bands', 'basophils', 'blasts', 'eosinophils', 'lymphocytes', 'metamyelocytes', 'monocytes', 'myelocytes', 'neutrophils']\n"
      ],
      "metadata": {
        "id": "LRLlk9RxGj0H"
      },
      "execution_count": null,
      "outputs": []
    },
    {
      "cell_type": "markdown",
      "source": [
        "Create train and test folders in the base directory"
      ],
      "metadata": {
        "id": "NFliDsQaG3It"
      }
    },
    {
      "cell_type": "markdown",
      "source": [
        "There are two folders in the base directory:\n",
        "\n",
        "wbc: it has 9 sub-folders, each containing labelled images of the sub-types of wbc.\n",
        "\n",
        "classify-images: it has unlabelled images. It is to be used for testing."
      ],
      "metadata": {
        "id": "45EiemWGG-ZR"
      }
    },
    {
      "cell_type": "markdown",
      "source": [
        "Two more folders using the labelled images of the folder wbc in the base directory are created. One folder is named as train and the other as test.\n",
        "\n",
        "train: 80% of the labelled images of folder wbc are copied into the train folder.\n",
        "\n",
        "test: the remaining labelled images are copied into the test folder.\n",
        "\n",
        "The train folder will be used for model training.\n",
        "\n",
        "The test folder will be used for model testing and evaluation. This is because the folder classify-images has unlabelled images and it is difficult to create confusion matrix using it."
      ],
      "metadata": {
        "id": "CJdt7Zh-HEXQ"
      }
    },
    {
      "cell_type": "code",
      "source": [
        "# create two folders in the DATA directory: train and test\n",
        "\n",
        "train_folder_exists = exists(DATA_DIR + '/train')\n",
        "\n",
        "# assuming if train folder exists then test folder also exists because both are being created simultaneously\n",
        "\n",
        "if train_folder_exists:\n",
        "\n",
        "    # remove train and test directories from the base folder else if this code is run twice then\n",
        "    # data will be augmented twice and we will get an error on the dimensions while model training\n",
        "\n",
        "    shutil.rmtree(DATA_DIR + '/train')\n",
        "    shutil.rmtree(DATA_DIR + '/test')\n",
        "\n",
        "\n",
        "\n",
        "for i in classes:\n",
        "\n",
        "    os.makedirs(DATA_DIR + '/train/' + i)       # create the train folder and the sub-folders for the sub-types inside it\n",
        "\n",
        "    os.makedirs(DATA_DIR + '/test/' + i)        # create the test folder and the sub-folders for the sub-types inside it\n",
        "\n",
        "    source = DATA_DIR + '/wbc/' + i             # path to the sub-folders inside the folder wbc\n",
        "\n",
        "    allFileNames = os.listdir(source)           # names of all the labelled images inside the sub-folders of the folder wbc\n",
        "\n",
        "    np.random.shuffle(allFileNames)             # randomly shuffling before splitting into train and test\n",
        "\n",
        "    test_ratio = 0.20                           # setting the test ratio = 20%\n",
        "\n",
        "    # splitting the file-names into train and test parts\n",
        "\n",
        "    train_FileNames, test_FileNames = np.split(np.array(allFileNames),\n",
        "                                                      [int(len(allFileNames)* (1 - test_ratio))])\n",
        "\n",
        "    # converting the file-names array into list of paths of their source\n",
        "\n",
        "    train_FileNames = [source + '/' + name for name in train_FileNames.tolist()]\n",
        "    test_FileNames = [source + '/' + name for name in test_FileNames.tolist()]\n",
        "\n",
        "    # using shutil to copy the labelled images from their source to their train and test destination folders\n",
        "\n",
        "    for name in train_FileNames:\n",
        "        shutil.copy(name, DATA_DIR +'/train/' + i)\n",
        "\n",
        "    for name in test_FileNames:\n",
        "        shutil.copy(name, DATA_DIR +'/test/' + i)\n"
      ],
      "metadata": {
        "id": "NP30mn7lbz9s"
      },
      "execution_count": null,
      "outputs": []
    },
    {
      "cell_type": "markdown",
      "source": [
        "Create the variables X and y"
      ],
      "metadata": {
        "id": "mZwIXYxHgkzP"
      }
    },
    {
      "cell_type": "code",
      "source": [
        "# method to get the images as independent variable X and their labels as the dependent variable y\n",
        "\n",
        "def get_data(folder):\n",
        "\n",
        "    X = []\n",
        "    y = []\n",
        "\n",
        "    # if the image files in the folder wbc are not empty then read the files\n",
        "    # and convert the images as numpy arrays\n",
        "    # append the image numpy arrays to the independent variable X\n",
        "    # and append their labels to y\n",
        "\n",
        "    for wbc_type in os.listdir(folder):\n",
        "\n",
        "        if not wbc_type.startswith('.'):\n",
        "\n",
        "            for image_filename in os.listdir(folder + '/' + wbc_type):\n",
        "                img_file = cv2.imread(folder + '/' + wbc_type + '/' + image_filename)\n",
        "\n",
        "                if img_file is not None:\n",
        "                    img_arr = np.asarray(img_file)\n",
        "                    X.append(img_arr)\n",
        "                    y.append(wbc_type)\n",
        "\n",
        "    # create numpy arrays of X and y\n",
        "\n",
        "    X = np.asarray(X)\n",
        "    y = np.asarray(y)\n",
        "\n",
        "    return X,y"
      ],
      "metadata": {
        "id": "UYQRgXa5goHm"
      },
      "execution_count": null,
      "outputs": []
    },
    {
      "cell_type": "code",
      "source": [
        "# call the get_data method using the path to the train and test folders as arguments\n",
        "# to get the variables X_train, y_train, X_test and y_test\n",
        "\n",
        "X_train, y_train = get_data(DATA_DIR + '/train')\n",
        "X_test, y_test = get_data(DATA_DIR + '/test')\n"
      ],
      "metadata": {
        "id": "meXIC-ODhIka"
      },
      "execution_count": null,
      "outputs": []
    },
    {
      "cell_type": "markdown",
      "source": [
        "**Normalize the input**"
      ],
      "metadata": {
        "id": "TV2UMfI5hSO8"
      }
    },
    {
      "cell_type": "code",
      "source": [
        "# get all dimensions of the X\n",
        "n_samples, height, width, n_channels = [X_train.shape[index] for index in range(4)]\n",
        "print(f\"Shape of X_train: {X_train.shape}\")\n",
        "\n",
        "n_samples, height, width, n_channels = [X_test.shape[index] for index in range(4)]\n",
        "print(f\"Shape of X_test: {X_test.shape}\")\n"
      ],
      "metadata": {
        "colab": {
          "base_uri": "https://localhost:8080/"
        },
        "id": "CZM-oxnihUbS",
        "outputId": "4c40c3a1-4a87-4a36-d0cb-208b1ff51ac3"
      },
      "execution_count": null,
      "outputs": [
        {
          "output_type": "stream",
          "name": "stdout",
          "text": [
            "Shape of X_train: (421, 256, 256, 3)\n",
            "Shape of X_test: (107, 256, 256, 3)\n"
          ]
        }
      ]
    },
    {
      "cell_type": "markdown",
      "source": [
        "Total Images = 421  in X_train having width = 256 and height = 256 and channels = 3\n",
        "Total Images = 107 in X_test having width = 256 and height = 256 and channels = 3"
      ],
      "metadata": {
        "id": "lP3a52LHhkTa"
      }
    },
    {
      "cell_type": "code",
      "source": [
        "# image has scale [0, 255], hence multiply by the scaling factor 1./255.\n",
        "# to rescale to pixels to range [0, 1]\n",
        "\n",
        "X_train = X_train * 1./255.\n",
        "X_test = X_test * 1./255."
      ],
      "metadata": {
        "id": "VDpdYcGbh7G3"
      },
      "execution_count": null,
      "outputs": []
    },
    {
      "cell_type": "markdown",
      "source": [
        "**Check the balance of the train dataset**"
      ],
      "metadata": {
        "id": "UaOyjOVIiFWk"
      }
    },
    {
      "cell_type": "code",
      "source": [
        "# summarize the class distribution in the train dataset\n",
        "\n",
        "counter = Counter(y_train)\n",
        "print(counter)"
      ],
      "metadata": {
        "colab": {
          "base_uri": "https://localhost:8080/"
        },
        "id": "4Z0ozutCiUZp",
        "outputId": "cc7a03f0-d502-4c74-a592-eb2fd06a4b11"
      },
      "execution_count": null,
      "outputs": [
        {
          "output_type": "stream",
          "name": "stdout",
          "text": [
            "Counter({'neutrophils': 168, 'lymphocytes': 152, 'monocytes': 24, 'bands': 21, 'eosinophils': 20, 'metamyelocytes': 20, 'myelocytes': 7, 'basophils': 6, 'blasts': 3})\n"
          ]
        }
      ]
    },
    {
      "cell_type": "code",
      "source": [
        "# plot the number of images in each sub-folder of the train dataset\n",
        "\n",
        "y_train_unique_counts = np.unique(y_train, return_counts=True)\n",
        "\n",
        "plt.title('Number of Images in each WBC type')\n",
        "plt.barh(y_train_unique_counts[0], y_train_unique_counts[1])\n",
        "plt.show()"
      ],
      "metadata": {
        "colab": {
          "base_uri": "https://localhost:8080/",
          "height": 452
        },
        "id": "mJS7L8boiZHo",
        "outputId": "9e44c1ae-4285-47ca-e6c3-ad0d592bb2cd"
      },
      "execution_count": null,
      "outputs": [
        {
          "output_type": "display_data",
          "data": {
            "text/plain": [
              "<Figure size 640x480 with 1 Axes>"
            ],
            "image/png": "[encoded data removed]"
          },
          "metadata": {}
        }
      ]
    },
    {
      "cell_type": "markdown",
      "source": [
        "1.This is an imbalanced dataset.\n",
        "2.neutrophils is the majority class with 168 image samples.\n",
        "3.blasts has the least number of samples: only 3 samples.\n",
        "4.myelocytes and basophils have only 7 and 6 samples"
      ],
      "metadata": {
        "id": "Zclry58eimvA"
      }
    },
    {
      "cell_type": "markdown",
      "source": [
        "Hence, there is a need to treat the imbalance of the train dataset."
      ],
      "metadata": {
        "id": "Qymaz8yQi23q"
      }
    },
    {
      "cell_type": "markdown",
      "source": [
        "There are a two of ways of data imbalance:\n",
        "\n",
        "1.Under-sampling the over-represented class.\n",
        "\n",
        "2.Over-sampling the under-represented class."
      ],
      "metadata": {
        "id": "370fYng4i7PJ"
      }
    },
    {
      "cell_type": "markdown",
      "source": [
        "SMOTE (Synthetic Minority Oversampling Technique)."
      ],
      "metadata": {
        "id": "smkRueuPjify"
      }
    },
    {
      "cell_type": "markdown",
      "source": [
        "If SMOTE is applied before augmentation on the given dataset, there is a restriction.\n",
        "\n",
        "The class blasts has only 3 samples in the train dataset. Since, SMOTE works using the KNN algorithm, each image in the class blast has only 2 neighbours. This will create similar types of images in the classes that have very few images.\n",
        "\n",
        "Therefore, applying SMOTE after image augmentation will create more variations."
      ],
      "metadata": {
        "id": "KYrmKhTQjwaz"
      }
    },
    {
      "cell_type": "markdown",
      "source": [
        "**Augment the train dataset**"
      ],
      "metadata": {
        "id": "D971D6hQj4OU"
      }
    },
    {
      "cell_type": "markdown",
      "source": [
        "The number of new variations created by augmentation is limited by the computing resources (System RAM =4.00  GB) provided in Colab notebook."
      ],
      "metadata": {
        "id": "V1F-58uikUC7"
      }
    },
    {
      "cell_type": "code",
      "source": [
        "# getting the image arrays associated with each class type in the train dataset\n",
        "\n",
        "basophils_samples = X_train[np.where(y_train == 'basophils')]\n",
        "bands_samples = X_train[np.where(y_train == 'bands')]\n",
        "blasts_samples = X_train[np.where(y_train == 'blasts')]\n",
        "eosinophils_samples = X_train[np.where(y_train == 'eosinophils')]\n",
        "lymphocytes_samples = X_train[np.where(y_train == 'lymphocytes')]\n",
        "monocytes_samples = X_train[np.where(y_train == 'monocytes')]\n",
        "metamyelocytes_samples = X_train[np.where(y_train == 'metamyelocytes')]\n",
        "myelocytes_samples = X_train[np.where(y_train == 'myelocytes')]\n",
        "neutrophils_samples = X_train[np.where(y_train == 'neutrophils')]\n"
      ],
      "metadata": {
        "id": "Z5_lptqWkYwx"
      },
      "execution_count": null,
      "outputs": []
    },
    {
      "cell_type": "code",
      "source": [
        "# using ImageDataGenerator to define new variations\n",
        "\n",
        "datagen = ImageDataGenerator(\n",
        "    rotation_range=20,\n",
        "    fill_mode='constant',\n",
        "    height_shift_range=0.1,\n",
        "    width_shift_range=0.1,\n",
        "    horizontal_flip=True,\n",
        "    vertical_flip=True,\n",
        "    shear_range=0.2\n",
        ")"
      ],
      "metadata": {
        "id": "pTp3r_v4k5ia"
      },
      "execution_count": null,
      "outputs": []
    },
    {
      "cell_type": "code",
      "source": [
        "# saving the new variations to their respective folders in the train dataset\n",
        "\n",
        "basophils_generator = datagen.flow(\n",
        "        basophils_samples,\n",
        "        y_train[np.where(y_train == 'basophils')],\n",
        "        save_to_dir = DATA_DIR + '/train/basophils',\n",
        "        batch_size=1)\n",
        "\n",
        "bands_generator = datagen.flow(\n",
        "        bands_samples,\n",
        "        y_train[np.where(y_train == 'bands')],\n",
        "        save_to_dir = DATA_DIR + '/train/bands',\n",
        "        batch_size=1)\n",
        "\n",
        "blasts_generator = datagen.flow(\n",
        "        blasts_samples,\n",
        "        y_train[np.where(y_train == 'blasts')],\n",
        "        save_to_dir = DATA_DIR + '/train/blasts',\n",
        "        batch_size=1)\n",
        "\n",
        "eosinophils_generator = datagen.flow(\n",
        "        eosinophils_samples,\n",
        "        y_train[np.where(y_train == 'eosinophils')],\n",
        "        save_to_dir = DATA_DIR + '/train/eosinophils',\n",
        "        batch_size=1)\n",
        "\n",
        "lymphocytes_generator = datagen.flow(\n",
        "        lymphocytes_samples,\n",
        "        y_train[np.where(y_train == 'lymphocytes')],\n",
        "        save_to_dir = DATA_DIR + '/train/lymphocytes',\n",
        "        batch_size=1)\n",
        "\n",
        "monocytes_generator = datagen.flow(\n",
        "        monocytes_samples,\n",
        "        y_train[np.where(y_train == 'monocytes')],\n",
        "        save_to_dir = DATA_DIR + '/train/monocytes',\n",
        "        batch_size=1)\n",
        "\n",
        "metamyelocytes_generator = datagen.flow(\n",
        "        metamyelocytes_samples,\n",
        "        y_train[np.where(y_train == 'metamyelocytes')],\n",
        "        save_to_dir = DATA_DIR + '/train/metamyelocytes',\n",
        "        batch_size=1)\n",
        "\n",
        "myelocytes_generator = datagen.flow(\n",
        "        myelocytes_samples,\n",
        "        y_train[np.where(y_train == 'myelocytes')],\n",
        "        save_to_dir = DATA_DIR + '/train/myelocytes',\n",
        "        batch_size=1)\n",
        "\n",
        "neutrophils_generator = datagen.flow(\n",
        "        neutrophils_samples,\n",
        "        y_train[np.where(y_train == 'neutrophils')],\n",
        "        save_to_dir = DATA_DIR + '/train/neutrophils',\n",
        "        batch_size=1)\n"
      ],
      "metadata": {
        "id": "uqYPAwSAlBMC"
      },
      "execution_count": null,
      "outputs": []
    },
    {
      "cell_type": "markdown",
      "source": [
        " aim is used to create total of 225 images of the majority class which is neutrophils\n",
        " neutrophils has total 168 images before augmentation\n",
        "hence, after augmentation, neutrophils will have total\n",
        "168 + 82 = 250 images\n"
      ],
      "metadata": {
        "id": "s-JzOYfrlni6"
      }
    },
    {
      "cell_type": "code",
      "source": [
        "size_of_majority_class = 168\n",
        "num_of_augmentations = 225 - size_of_majority_class"
      ],
      "metadata": {
        "id": "RNncwn8alwu1"
      },
      "execution_count": null,
      "outputs": []
    },
    {
      "cell_type": "code",
      "source": [
        "# creating new variations in the train dataset\n",
        "\n",
        "for i in range(num_of_augmentations):\n",
        "    next(basophils_generator)\n",
        "    next(bands_generator)\n",
        "    next(blasts_generator)\n",
        "    next(eosinophils_generator)\n",
        "    next(lymphocytes_generator)\n",
        "    next(monocytes_generator)\n",
        "    next(metamyelocytes_generator)\n",
        "    next(myelocytes_generator)\n",
        "    next(neutrophils_generator)"
      ],
      "metadata": {
        "id": "g5Rwr2ZRlzNO"
      },
      "execution_count": null,
      "outputs": []
    },
    {
      "cell_type": "code",
      "source": [
        "datagen_simple = ImageDataGenerator()"
      ],
      "metadata": {
        "id": "NE5vEKYEl3GN"
      },
      "execution_count": null,
      "outputs": []
    },
    {
      "cell_type": "code",
      "source": [
        "basophils_test_samples = X_test[np.where(y_test == 'basophils')]\n",
        "bands_test_samples = X_test[np.where(y_test == 'bands')]\n",
        "blasts_test_samples = X_test[np.where(y_test == 'blasts')]\n",
        "eosinophils_test_samples = X_test[np.where(y_test == 'eosinophils')]\n",
        "lymphocytes_test_samples = X_test[np.where(y_test == 'lymphocytes')]\n",
        "monocytes_test_samples = X_test[np.where(y_test == 'monocytes')]\n",
        "metamyelocytes_test_samples = X_test[np.where(y_test == 'metamyelocytes')]\n",
        "myelocytes_test_samples = X_test[np.where(y_test == 'myelocytes')]\n",
        "neutrophils_test_samples = X_test[np.where(y_test == 'neutrophils')]\n"
      ],
      "metadata": {
        "id": "IotBzkeumBqF"
      },
      "execution_count": null,
      "outputs": []
    },
    {
      "cell_type": "code",
      "source": [
        "basophils_test_generator = datagen_simple.flow(\n",
        "        basophils_test_samples,\n",
        "        y_test[np.where(y_test == 'basophils')],\n",
        "        save_to_dir = DATA_DIR + '/test/basophils',\n",
        "        batch_size=1)\n",
        "\n",
        "bands_test_generator = datagen_simple.flow(\n",
        "        bands_test_samples,\n",
        "        y_test[np.where(y_test == 'bands')],\n",
        "        save_to_dir = DATA_DIR + '/test/bands',\n",
        "        batch_size=1)\n",
        "\n",
        "blasts_test_generator = datagen_simple.flow(\n",
        "        blasts_test_samples,\n",
        "        y_test[np.where(y_test == 'blasts')],\n",
        "        save_to_dir = DATA_DIR + '/test/blasts',\n",
        "        batch_size=1)\n",
        "\n",
        "eosinophils_test_generator = datagen_simple.flow(\n",
        "        eosinophils_test_samples,\n",
        "        y_test[np.where(y_test == 'eosinophils')],\n",
        "        save_to_dir = DATA_DIR + '/test/eosinophils',\n",
        "        batch_size=1)\n",
        "\n",
        "lymphocytes_test_generator = datagen_simple.flow(\n",
        "        lymphocytes_test_samples,\n",
        "        y_test[np.where(y_test == 'lymphocytes')],\n",
        "        save_to_dir = DATA_DIR + '/test/lymphocytes',\n",
        "        batch_size=1)\n",
        "\n",
        "monocytes_test_generator = datagen_simple.flow(\n",
        "        monocytes_test_samples,\n",
        "        y_test[np.where(y_test == 'monocytes')],\n",
        "        save_to_dir = DATA_DIR + '/test/monocytes',\n",
        "        batch_size=1)\n",
        "\n",
        "metamyelocytes_test_generator = datagen_simple.flow(\n",
        "        metamyelocytes_test_samples,\n",
        "        y_test[np.where(y_test == 'metamyelocytes')],\n",
        "        save_to_dir = DATA_DIR + '/test/metamyelocytes',\n",
        "        batch_size=1)\n",
        "\n",
        "myelocytes_test_generator = datagen_simple.flow(\n",
        "        myelocytes_test_samples,\n",
        "        y_test[np.where(y_test == 'myelocytes')],\n",
        "        save_to_dir = DATA_DIR + '/test/myelocytes',\n",
        "        batch_size=1)\n",
        "\n",
        "neutrophils_test_generator = datagen_simple.flow(\n",
        "        neutrophils_test_samples,\n",
        "        y_test[np.where(y_test == 'neutrophils')],\n",
        "        save_to_dir = DATA_DIR + '/test/neutrophils',\n",
        "        batch_size=1)"
      ],
      "metadata": {
        "id": "1uBnEctrmE6E"
      },
      "execution_count": null,
      "outputs": []
    },
    {
      "cell_type": "code",
      "source": [
        "for i in range(len(basophils_test_samples)):\n",
        "    next(basophils_test_generator)\n",
        "\n",
        "for i in range(len(bands_test_samples)):\n",
        "    next(bands_test_generator)\n",
        "\n",
        "for i in range(len(blasts_test_samples)):\n",
        "    next(blasts_test_generator)\n",
        "\n",
        "for i in range(len(eosinophils_test_samples)):\n",
        "    next(eosinophils_test_generator)\n",
        "\n",
        "for i in range(len(lymphocytes_test_samples)):\n",
        "    next(lymphocytes_test_generator)\n",
        "\n",
        "for i in range(len(monocytes_test_samples)):\n",
        "    next(monocytes_test_generator)\n",
        "\n",
        "for i in range(len(metamyelocytes_test_samples)):\n",
        "    next(metamyelocytes_test_generator)\n",
        "\n",
        "for i in range(len(myelocytes_test_samples)):\n",
        "    next(myelocytes_test_generator)\n",
        "\n",
        "for i in range(len(neutrophils_test_samples)):\n",
        "    next(neutrophils_test_generator)"
      ],
      "metadata": {
        "id": "o_PhqLx9mnQ3"
      },
      "execution_count": null,
      "outputs": []
    },
    {
      "cell_type": "markdown",
      "source": [
        "Load the augmented training dataset"
      ],
      "metadata": {
        "id": "3qwh_dTVmxuF"
      }
    },
    {
      "cell_type": "code",
      "source": [
        "# using the get_data method defined earlier to load the augmented training data\n",
        "\n",
        "X_train, y_train = get_data(DATA_DIR + '/train')\n",
        "X_test, y_test = get_data(DATA_DIR + '/test')"
      ],
      "metadata": {
        "id": "zYHfvB9Xm9i1"
      },
      "execution_count": null,
      "outputs": []
    },
    {
      "cell_type": "code",
      "source": [
        "# summarize the new class distribution in the augmented train dataset\n",
        "\n",
        "counter = Counter(y_train)\n",
        "print(counter)\n"
      ],
      "metadata": {
        "colab": {
          "base_uri": "https://localhost:8080/"
        },
        "id": "kQfJPqq4nEgT",
        "outputId": "bda668eb-aaca-4a62-9e80-51ccb2f0e39f"
      },
      "execution_count": null,
      "outputs": [
        {
          "output_type": "stream",
          "name": "stdout",
          "text": [
            "Counter({'neutrophils': 225, 'lymphocytes': 209, 'monocytes': 81, 'bands': 78, 'eosinophils': 77, 'metamyelocytes': 77, 'myelocytes': 64, 'basophils': 63, 'blasts': 60})\n"
          ]
        }
      ]
    },
    {
      "cell_type": "code",
      "source": [
        "# visualize the new class distribution the augmented train dataset\n",
        "\n",
        "y_train_unique_counts = np.unique(y_train, return_counts=True)\n",
        "\n",
        "plt.title('Number of Images in each WBC type')\n",
        "plt.barh(y_train_unique_counts[0], y_train_unique_counts[1])\n",
        "plt.show()"
      ],
      "metadata": {
        "colab": {
          "base_uri": "https://localhost:8080/",
          "height": 452
        },
        "id": "D_uyCSX9nLMl",
        "outputId": "045555b1-5f80-4fc3-ad2e-c87ba8ace6b9"
      },
      "execution_count": null,
      "outputs": [
        {
          "output_type": "display_data",
          "data": {
            "text/plain": [
              "<Figure size 640x480 with 1 Axes>"
            ],
            "image/png": "[encoded data removed]"
          },
          "metadata": {}
        }
      ]
    },
    {
      "cell_type": "code",
      "source": [
        "# number of classes into which the classifications are to be made\n",
        "num_classes = 9\n",
        "\n",
        "# classes into which the classifications are to be made\n",
        "classes = ['bands', 'basophils', 'blasts', 'eosinophils', 'lymphocytes', 'metamyelocytes', 'monocytes', 'myelocytes', 'neutrophils']\n",
        "\n"
      ],
      "metadata": {
        "id": "4ih0woHhe8P1"
      },
      "execution_count": null,
      "outputs": []
    },
    {
      "cell_type": "code",
      "source": [
        "!pip install imblearn\n"
      ],
      "metadata": {
        "colab": {
          "base_uri": "https://localhost:8080/"
        },
        "id": "7QvNS_a542q2",
        "outputId": "8cfd2861-b465-48e3-906a-f8e73f8f809c"
      },
      "execution_count": null,
      "outputs": [
        {
          "output_type": "stream",
          "name": "stdout",
          "text": [
            "Collecting imblearn\n",
            "  Downloading imblearn-0.0-py2.py3-none-any.whl (1.9 kB)\n",
            "Requirement already satisfied: imbalanced-learn in /usr/local/lib/python3.10/dist-packages (from imblearn) (0.10.1)\n",
            "Requirement already satisfied: numpy>=1.17.3 in /usr/local/lib/python3.10/dist-packages (from imbalanced-learn->imblearn) (1.22.4)\n",
            "Requirement already satisfied: scipy>=1.3.2 in /usr/local/lib/python3.10/dist-packages (from imbalanced-learn->imblearn) (1.10.1)\n",
            "Requirement already satisfied: scikit-learn>=1.0.2 in /usr/local/lib/python3.10/dist-packages (from imbalanced-learn->imblearn) (1.2.2)\n",
            "Requirement already satisfied: joblib>=1.1.1 in /usr/local/lib/python3.10/dist-packages (from imbalanced-learn->imblearn) (1.2.0)\n",
            "Requirement already satisfied: threadpoolctl>=2.0.0 in /usr/local/lib/python3.10/dist-packages (from imbalanced-learn->imblearn) (3.1.0)\n",
            "Installing collected packages: imblearn\n",
            "Successfully installed imblearn-0.0\n"
          ]
        }
      ]
    },
    {
      "cell_type": "code",
      "source": [
        "# plot the number of images in each sub-folder of the train dataset\n",
        "\n",
        "y_train_unique_counts = np.unique(y_train, return_counts=True)\n",
        "\n",
        "plt.title('Number of Images in each WBC type')\n",
        "plt.barh(y_train_unique_counts[0], y_train_unique_counts[1])\n",
        "plt.show()\n"
      ],
      "metadata": {
        "colab": {
          "base_uri": "https://localhost:8080/",
          "height": 452
        },
        "id": "bvmjzGGR65cU",
        "outputId": "93557ddf-b9e2-4b5e-b636-c7aa5ab984a8"
      },
      "execution_count": null,
      "outputs": [
        {
          "output_type": "display_data",
          "data": {
            "text/plain": [
              "<Figure size 640x480 with 1 Axes>"
            ],
            "image/png": "[encoded data removed]"
          },
          "metadata": {}
        }
      ]
    },
    {
      "cell_type": "markdown",
      "source": [
        "**SMOTE to treat the imbalance in the dataset**"
      ],
      "metadata": {
        "id": "3bs5V8yL7CHn"
      }
    },
    {
      "cell_type": "code",
      "source": [
        "# get all the dimensions of X_train\n",
        "\n",
        "n_samples, height, width, n_channels = [X_train.shape[index] for index in range(4)]\n",
        "print(f\"Shape of X_train before reshape: {X_train.shape}\")\n"
      ],
      "metadata": {
        "colab": {
          "base_uri": "https://localhost:8080/"
        },
        "id": "x92fIHy57EtO",
        "outputId": "cb9d35b2-4220-4357-8794-b3c16959e2aa"
      },
      "execution_count": null,
      "outputs": [
        {
          "output_type": "stream",
          "name": "stdout",
          "text": [
            "Shape of X_train before reshape: (934, 256, 256, 3)\n"
          ]
        }
      ]
    },
    {
      "cell_type": "code",
      "source": [
        "# reshape X because SMOTE accepts only (n_samples, n_channels*height*weight) type data\n",
        "\n",
        "X_train_reshaped = X_train.reshape(n_samples, n_channels*height*width)\n",
        "print(f\"Shape of X_train after reshape: {X_train_reshaped.shape}\")\n"
      ],
      "metadata": {
        "colab": {
          "base_uri": "https://localhost:8080/"
        },
        "id": "FrQ7tTm67IXf",
        "outputId": "cd52fd4f-256a-4449-8b08-f6efc1af0d47"
      },
      "execution_count": null,
      "outputs": [
        {
          "output_type": "stream",
          "name": "stdout",
          "text": [
            "Shape of X_train after reshape: (934, 196608)\n"
          ]
        }
      ]
    },
    {
      "cell_type": "code",
      "source": [
        "# initialize the SMOTE model\n",
        "from imblearn.over_sampling import SMOTE\n",
        "smote = SMOTE(k_neighbors=5, random_state=62)\n"
      ],
      "metadata": {
        "id": "EA4utRTP7N7W"
      },
      "execution_count": null,
      "outputs": []
    },
    {
      "cell_type": "code",
      "source": [
        "# perform re-sampling on modified X given y of the train data\n",
        "\n",
        "X_smote, y_smote = smote.fit_resample(X_train_reshaped, y_train)\n",
        "\n",
        "\n"
      ],
      "metadata": {
        "id": "zpVkV1MM7RZn"
      },
      "execution_count": null,
      "outputs": []
    },
    {
      "cell_type": "code",
      "source": [
        "# number of images before and after applying SMOTE\n",
        "\n",
        "print(f'Before re-sampling, the number of images: {len(X_train):2}')\n",
        "print(f'After re-sampling, the number of images: {len(X_smote):2}')\n"
      ],
      "metadata": {
        "colab": {
          "base_uri": "https://localhost:8080/"
        },
        "id": "MvTm2tnd7coG",
        "outputId": "44cf3290-7d40-410f-cd00-eba8c41d87d9"
      },
      "execution_count": null,
      "outputs": [
        {
          "output_type": "stream",
          "name": "stdout",
          "text": [
            "Before re-sampling, the number of images: 934\n",
            "After re-sampling, the number of images: 2025\n"
          ]
        }
      ]
    },
    {
      "cell_type": "markdown",
      "source": [
        "The number of samples in the train dataset has increased from 1158 to 2250 after applying SMOTE"
      ],
      "metadata": {
        "id": "p231AAvh7oV4"
      }
    },
    {
      "cell_type": "code",
      "source": [
        "# summarize the new class distribution after applying SMOTE on the train data\n",
        "\n",
        "counter = Counter(y_smote)\n",
        "print(counter)"
      ],
      "metadata": {
        "colab": {
          "base_uri": "https://localhost:8080/"
        },
        "id": "pEmwkena7pu-",
        "outputId": "3870a1f6-e507-4874-ec38-1faa1bdecdf1"
      },
      "execution_count": null,
      "outputs": [
        {
          "output_type": "stream",
          "name": "stdout",
          "text": [
            "Counter({'bands': 225, 'basophils': 225, 'blasts': 225, 'eosinophils': 225, 'lymphocytes': 225, 'metamyelocytes': 225, 'monocytes': 225, 'myelocytes': 225, 'neutrophils': 225})\n"
          ]
        }
      ]
    },
    {
      "cell_type": "code",
      "source": [
        "\n",
        "# view the resulting balanced data (modified distribution) after applying SMOTE\n",
        "\n",
        "y_smote_unique_counts = np.unique(y_smote, return_counts=True)\n",
        "print(y_smote_unique_counts)\n",
        "\n",
        "plt.title('Number of Images in each WBC type')\n",
        "plt.barh(y_smote_unique_counts[0], y_smote_unique_counts[1])\n",
        "plt.show()"
      ],
      "metadata": {
        "colab": {
          "base_uri": "https://localhost:8080/",
          "height": 504
        },
        "id": "dooBSfXg7w7F",
        "outputId": "4133ccd9-8a04-4905-d311-08f7fe8ba116"
      },
      "execution_count": null,
      "outputs": [
        {
          "output_type": "stream",
          "name": "stdout",
          "text": [
            "(array(['bands', 'basophils', 'blasts', 'eosinophils', 'lymphocytes',\n",
            "       'metamyelocytes', 'monocytes', 'myelocytes', 'neutrophils'],\n",
            "      dtype='<U14'), array([225, 225, 225, 225, 225, 225, 225, 225, 225]))\n"
          ]
        },
        {
          "output_type": "display_data",
          "data": {
            "text/plain": [
              "<Figure size 640x480 with 1 Axes>"
            ],
            "image/png": "[encoded data removed]"
          },
          "metadata": {}
        }
      ]
    },
    {
      "cell_type": "markdown",
      "source": [
        "Each class in the train dataset has 250 samples after applying SMOTE\n",
        "This removes the imbalance in the train dataset"
      ],
      "metadata": {
        "id": "bC0laWQy8BRX"
      }
    },
    {
      "cell_type": "code",
      "source": [
        "# assign the values of X_smote and y_smote to X_train and y_train respectively\n",
        "\n",
        "X_train, y_train = X_smote, y_smote\n",
        "\n"
      ],
      "metadata": {
        "id": "mbdQOq1v8DTN"
      },
      "execution_count": null,
      "outputs": []
    },
    {
      "cell_type": "code",
      "source": [
        "# re-shape the dimension of X_train that was changed to apply SMOTE\n",
        "\n",
        "n_samples, height, width, n_channels = 225*9, 256, 256, 3\n",
        "\n",
        "X_train = X_train.reshape(n_samples, height, width, n_channels)\n"
      ],
      "metadata": {
        "id": "7LQQuvGb8F5d"
      },
      "execution_count": null,
      "outputs": []
    },
    {
      "cell_type": "code",
      "source": [
        "# get all the dimensions of X_train\n",
        "\n",
        "n_samples, height, width, n_channels = [X_train.shape[index] for index in range(4)]\n",
        "print(f\"Shape of X_train before reshape: {X_train.shape}\")\n"
      ],
      "metadata": {
        "colab": {
          "base_uri": "https://localhost:8080/"
        },
        "id": "VxA_dOPb8KCl",
        "outputId": "e919126c-b4fe-486d-ca91-b798af1e61f8"
      },
      "execution_count": null,
      "outputs": [
        {
          "output_type": "stream",
          "name": "stdout",
          "text": [
            "Shape of X_train before reshape: (2025, 256, 256, 3)\n"
          ]
        }
      ]
    },
    {
      "cell_type": "markdown",
      "source": [
        "Shape of X_train has been restored for training the model\n",
        "\n"
      ],
      "metadata": {
        "id": "4-2e4-df8S5-"
      }
    },
    {
      "cell_type": "markdown",
      "source": [
        "# One-hot encoding of the labels"
      ],
      "metadata": {
        "id": "Gh31ig0P8Vwn"
      }
    },
    {
      "cell_type": "code",
      "source": [
        "\n",
        "# Convert the labels in y_train using one-hot encoding\n",
        "\n",
        "encoder = LabelEncoder()\n",
        "encoder.fit(y_train)\n",
        "encoded_y_train = encoder.transform(y_train)\n",
        "encoded_y_test = encoder.transform(y_test)\n",
        "\n",
        "y_train = np_utils.to_categorical(encoded_y_train)\n",
        "y_test = np_utils.to_categorical(encoded_y_test)\n"
      ],
      "metadata": {
        "id": "lfNrBb658UF3"
      },
      "execution_count": null,
      "outputs": []
    },
    {
      "cell_type": "markdown",
      "source": [
        "# Model: **VGG16**"
      ],
      "metadata": {
        "id": "TFPkoqfD8hXe"
      }
    },
    {
      "cell_type": "code",
      "source": [
        "# define the variables to be used in the model\n",
        "\n",
        "num_classes = 9\n",
        "\n",
        "epochs = 10\n",
        "batch_size = 32"
      ],
      "metadata": {
        "id": "OjGx0YW98lTi"
      },
      "execution_count": null,
      "outputs": []
    },
    {
      "cell_type": "code",
      "source": [
        "# define the VGG16 model\n",
        "from keras.layers import Input, Flatten, Dense\n",
        "from keras.models import Model\n",
        "from keras.applications import VGG16\n",
        "from keras import applications\n",
        "\n",
        "base_model = applications.VGG16(include_top=False, weights='imagenet')\n",
        "input = Input(shape=(256, 256, 3), name = 'image_input')\n",
        "vgg_output = base_model(input)\n",
        "\n",
        "top_model = Flatten()(vgg_output)\n",
        "top_model = Dense(64, activation='relu')(top_model)\n",
        "predictions = Dense(num_classes, activation='softmax', name='prediction_layer')(top_model)\n",
        "\n",
        "model = Model(inputs=input, outputs=predictions)\n",
        "\n",
        "# first: train only the top layers (which were randomly initialized)\n",
        "# i.e. freeze all convolutional InceptionV3 layers\n",
        "\n",
        "layers = base_model.layers[:-2]\n",
        "for layer in layers:\n",
        "    layer.trainable = False"
      ],
      "metadata": {
        "colab": {
          "base_uri": "https://localhost:8080/"
        },
        "id": "4E_HGKXJ8ntq",
        "outputId": "4206cdff-ab86-4eb3-9f71-3d2286a13d17"
      },
      "execution_count": null,
      "outputs": [
        {
          "output_type": "stream",
          "name": "stdout",
          "text": [
            "Downloading data from https://storage.googleapis.com/tensorflow/keras-applications/vgg16/vgg16_weights_tf_dim_ordering_tf_kernels_notop.h5\n",
            "58889256/58889256 [==============================] - 2s 0us/step\n"
          ]
        }
      ]
    },
    {
      "cell_type": "code",
      "source": [
        "# compile the model (should be done after setting layers to non-trainable)\n",
        "\n",
        "model.compile(optimizer='rmsprop', loss='categorical_crossentropy', metrics=['accuracy'])\n",
        "\n"
      ],
      "metadata": {
        "id": "uCBbQezd8rlg"
      },
      "execution_count": null,
      "outputs": []
    },
    {
      "cell_type": "markdown",
      "source": [
        "Accuracy is used as a metric for model evaluation because it is more important that the model classifies each image correctly rather than penalizing the False-Positives (Precision) or the False-Negatives (Recall) or penalizing both (F1)."
      ],
      "metadata": {
        "id": "fKZUUaAQ9V3t"
      }
    },
    {
      "cell_type": "code",
      "source": [
        "\n",
        "# model summary\n",
        "\n",
        "model.summary()\n"
      ],
      "metadata": {
        "colab": {
          "base_uri": "https://localhost:8080/"
        },
        "id": "oCIwpX7I9XF2",
        "outputId": "44fbf0c5-3ef2-4435-a2d5-33295e3daca3"
      },
      "execution_count": null,
      "outputs": [
        {
          "output_type": "stream",
          "name": "stdout",
          "text": [
            "Model: \"model\"\n",
            "_________________________________________________________________\n",
            " Layer (type)                Output Shape              Param #   \n",
            "=================================================================\n",
            " image_input (InputLayer)    [(None, 256, 256, 3)]     0         \n",
            "                                                                 \n",
            " vgg16 (Functional)          (None, None, None, 512)   14714688  \n",
            "                                                                 \n",
            " flatten (Flatten)           (None, 32768)             0         \n",
            "                                                                 \n",
            " dense (Dense)               (None, 64)                2097216   \n",
            "                                                                 \n",
            " prediction_layer (Dense)    (None, 9)                 585       \n",
            "                                                                 \n",
            "=================================================================\n",
            "Total params: 16,812,489\n",
            "Trainable params: 4,457,609\n",
            "Non-trainable params: 12,354,880\n",
            "_________________________________________________________________\n"
          ]
        }
      ]
    },
    {
      "cell_type": "code",
      "source": [
        "# fit the model on train data\n",
        "\n",
        "model.fit(X_train, y_train, epochs=epochs, batch_size=batch_size, validation_split=0.2, shuffle=True, verbose=1)\n"
      ],
      "metadata": {
        "colab": {
          "base_uri": "https://localhost:8080/"
        },
        "id": "Ta-vn5FE9ZyW",
        "outputId": "f018cf32-2b3f-4c26-a140-7135ab1ff8bf"
      },
      "execution_count": null,
      "outputs": [
        {
          "output_type": "stream",
          "name": "stdout",
          "text": [
            "Epoch 1/10\n",
            "51/51 [==============================] - 38s 430ms/step - loss: 23.3976 - accuracy: 0.4451 - val_loss: 5.0369 - val_accuracy: 0.0815\n",
            "Epoch 2/10\n",
            "51/51 [==============================] - 10s 198ms/step - loss: 2.2147 - accuracy: 0.5648 - val_loss: 11.8956 - val_accuracy: 0.0148\n",
            "Epoch 3/10\n",
            "51/51 [==============================] - 10s 201ms/step - loss: 1.4355 - accuracy: 0.6840 - val_loss: 9.1458 - val_accuracy: 0.1432\n",
            "Epoch 4/10\n",
            "51/51 [==============================] - 10s 203ms/step - loss: 1.1054 - accuracy: 0.7432 - val_loss: 12.6531 - val_accuracy: 0.1383\n",
            "Epoch 5/10\n",
            "51/51 [==============================] - 10s 206ms/step - loss: 0.9640 - accuracy: 0.8019 - val_loss: 8.4579 - val_accuracy: 0.1827\n",
            "Epoch 6/10\n",
            "51/51 [==============================] - 10s 200ms/step - loss: 0.7492 - accuracy: 0.8481 - val_loss: 11.9267 - val_accuracy: 0.1654\n",
            "Epoch 7/10\n",
            "51/51 [==============================] - 11s 213ms/step - loss: 0.7096 - accuracy: 0.8759 - val_loss: 21.1302 - val_accuracy: 0.1852\n",
            "Epoch 8/10\n",
            "51/51 [==============================] - 10s 206ms/step - loss: 0.6012 - accuracy: 0.9222 - val_loss: 34.5675 - val_accuracy: 0.1654\n",
            "Epoch 9/10\n",
            "51/51 [==============================] - 11s 213ms/step - loss: 0.4951 - accuracy: 0.9321 - val_loss: 24.6357 - val_accuracy: 0.2148\n",
            "Epoch 10/10\n",
            "51/51 [==============================] - 11s 212ms/step - loss: 0.9378 - accuracy: 0.9216 - val_loss: 20.8424 - val_accuracy: 0.2914\n"
          ]
        },
        {
          "output_type": "execute_result",
          "data": {
            "text/plain": [
              "<keras.callbacks.History at 0x7fc0fc1a1db0>"
            ]
          },
          "metadata": {},
          "execution_count": 44
        }
      ]
    },
    {
      "cell_type": "code",
      "source": [
        "# save the weights of the model\n",
        "\n",
        "model.save_weights('vgg_top.h5')\n"
      ],
      "metadata": {
        "id": "l0M0uGld9hQu"
      },
      "execution_count": null,
      "outputs": []
    },
    {
      "cell_type": "code",
      "source": [
        "# load the weights of the moodel\n",
        "\n",
        "model.load_weights('vgg_top.h5')"
      ],
      "metadata": {
        "id": "63iTAauP-LzT"
      },
      "execution_count": null,
      "outputs": []
    },
    {
      "cell_type": "markdown",
      "source": [
        "# Prediction on the test dataset that was created using 20% images of the wbc folder"
      ],
      "metadata": {
        "id": "thoC3jb3-SPW"
      }
    },
    {
      "cell_type": "code",
      "source": [
        "# predictions on the test dataset\n",
        "\n",
        "y_pred = model.predict(X_test)\n",
        "\n",
        "print(y_pred)"
      ],
      "metadata": {
        "colab": {
          "base_uri": "https://localhost:8080/"
        },
        "id": "d8J0B9bk-aHr",
        "outputId": "c9357f70-940f-4d6c-881a-062bcc7150ef"
      },
      "execution_count": null,
      "outputs": [
        {
          "output_type": "stream",
          "name": "stdout",
          "text": [
            "7/7 [==============================] - 5s 829ms/step\n",
            "[[2.42299325e-06 9.64013195e-15 7.95954185e-24 ... 4.39256098e-08\n",
            "  3.24523634e-18 9.99600351e-01]\n",
            " [5.73309778e-26 0.00000000e+00 3.12141784e-36 ... 0.00000000e+00\n",
            "  0.00000000e+00 1.00000000e+00]\n",
            " [1.50778535e-16 1.41556121e-27 1.36206223e-15 ... 5.46693280e-21\n",
            "  1.11242800e-10 9.84025061e-01]\n",
            " ...\n",
            " [2.03490194e-18 0.00000000e+00 1.29324406e-20 ... 0.00000000e+00\n",
            "  6.61139207e-37 1.00000000e+00]\n",
            " [0.00000000e+00 0.00000000e+00 0.00000000e+00 ... 0.00000000e+00\n",
            "  0.00000000e+00 1.00000000e+00]\n",
            " [3.45267143e-28 0.00000000e+00 0.00000000e+00 ... 0.00000000e+00\n",
            "  0.00000000e+00 1.00000000e+00]]\n"
          ]
        }
      ]
    },
    {
      "cell_type": "code",
      "source": [
        "# rounding the elements of the y_pred array to the nearest integer using np.rint\n",
        "\n",
        "y_pred = np.rint(y_pred)\n",
        "\n",
        "print(y_pred)"
      ],
      "metadata": {
        "colab": {
          "base_uri": "https://localhost:8080/"
        },
        "id": "e5PGiKIw-ld7",
        "outputId": "db46a1f4-7d42-4007-900c-fbdf01105c5f"
      },
      "execution_count": null,
      "outputs": [
        {
          "output_type": "stream",
          "name": "stdout",
          "text": [
            "[[0. 0. 0. ... 0. 0. 1.]\n",
            " [0. 0. 0. ... 0. 0. 1.]\n",
            " [0. 0. 0. ... 0. 0. 1.]\n",
            " ...\n",
            " [0. 0. 0. ... 0. 0. 1.]\n",
            " [0. 0. 0. ... 0. 0. 1.]\n",
            " [0. 0. 0. ... 0. 0. 1.]]\n"
          ]
        }
      ]
    },
    {
      "cell_type": "code",
      "source": [
        "# print the accuracy obtained on the test data\n",
        "from sklearn.metrics import accuracy_score\n",
        "from sklearn.metrics import confusion_matrix\n",
        "\n",
        "print(accuracy_score(y_test, y_pred))\n"
      ],
      "metadata": {
        "colab": {
          "base_uri": "https://localhost:8080/"
        },
        "id": "yL9OXBip-fx4",
        "outputId": "971b8590-04dc-4bcf-fb3b-1900296d47cf"
      },
      "execution_count": null,
      "outputs": [
        {
          "output_type": "stream",
          "name": "stdout",
          "text": [
            "0.7476635514018691\n"
          ]
        }
      ]
    },
    {
      "cell_type": "markdown",
      "source": [
        "Accurancy is 74%"
      ],
      "metadata": {
        "id": "0KkfHuanNw15"
      }
    },
    {
      "cell_type": "code",
      "source": [
        "# the confusion matrix\n",
        "\n",
        "y_pred_unencoded = np.argmax(y_pred, axis=1)\n",
        "y_test_unencoded = np.argmax(y_test, axis=1)\n",
        "\n",
        "print(confusion_matrix(y_test_unencoded, y_pred_unencoded))\n"
      ],
      "metadata": {
        "colab": {
          "base_uri": "https://localhost:8080/"
        },
        "id": "mPnWhBcU_Fn6",
        "outputId": "c586e85d-5240-4082-a270-d0be56f1700e"
      },
      "execution_count": null,
      "outputs": [
        {
          "output_type": "stream",
          "name": "stdout",
          "text": [
            "[[ 0  0  0  0  0  4  0  0  8]\n",
            " [ 0  2  0  0  0  2  0  0  0]\n",
            " [ 0  0  0  0  1  0  0  0  1]\n",
            " [ 0  0  0  0  2  2  2  0  4]\n",
            " [ 0  0  0  0 70  2  0  0  4]\n",
            " [ 0  0  0  0  1  3  2  0  4]\n",
            " [ 0  0  0  0  1  4  7  0  0]\n",
            " [ 0  0  0  0  0  0  2  0  2]\n",
            " [ 0  0  0  0  0  4  2  0 78]]\n"
          ]
        }
      ]
    },
    {
      "cell_type": "code",
      "source": [
        "# confusion matrix visualization using heatplot\n",
        "import seaborn as sns\n",
        "\n",
        "def plot_heatmap(y_true, y_pred, class_names, ax, title):\n",
        "\n",
        "    cm = confusion_matrix(y_true, y_pred)\n",
        "\n",
        "    sns.heatmap(\n",
        "        cm,\n",
        "        annot=True,\n",
        "        square=True,\n",
        "        xticklabels=class_names,\n",
        "        yticklabels=class_names,\n",
        "        fmt='d',\n",
        "        cmap=plt.cm.Blues,\n",
        "        cbar=False,\n",
        "    )\n",
        "\n",
        "    ax.set_title(title, fontsize=16)\n",
        "    ax.set_xticklabels(ax.get_xticklabels(), rotation=90, ha=\"right\")\n",
        "    ax.set_ylabel('True Label', fontsize=12)\n",
        "    ax.set_xlabel('Predicted Label', fontsize=12)\n",
        "\n",
        "# Get the names of the ten classes\n",
        "class_names = classes\n",
        "\n",
        "fig = plt.figure(figsize = (5, 5))\n",
        "ax = fig.gca()\n",
        "plot_heatmap(y_test_unencoded, y_pred_unencoded, class_names, ax, title=\"VGG16 Confusion Matrix\")\n",
        "plt.show()"
      ],
      "metadata": {
        "colab": {
          "base_uri": "https://localhost:8080/",
          "height": 595
        },
        "id": "NnZCiU0L_Ida",
        "outputId": "9882e29c-0b7b-43af-c785-e29e2b0042ec"
      },
      "execution_count": null,
      "outputs": [
        {
          "output_type": "display_data",
          "data": {
            "text/plain": [
              "<Figure size 500x500 with 1 Axes>"
            ],
            "image/png": "[encoded data removed]"
          },
          "metadata": {}
        }
      ]
    },
    {
      "cell_type": "markdown",
      "source": [
        "# Prediction on the classify-images dataset"
      ],
      "metadata": {
        "id": "i_1LXy-0_gCY"
      }
    },
    {
      "cell_type": "code",
      "source": [
        "# define get_data_classify_images to load the images in the classify-images folder\n",
        "\n",
        "def get_data_classify_images(folder):\n",
        "\n",
        "    X = []\n",
        "    y = []\n",
        "\n",
        "    for image_filename in os.listdir(folder):\n",
        "        img_file = cv2.imread(folder + '/' + image_filename)\n",
        "\n",
        "        if img_file is not None:\n",
        "            img_arr = np.asarray(img_file)\n",
        "            X.append(img_arr)\n",
        "            y.append(image_filename)\n",
        "\n",
        "    X = np.asarray(X)\n",
        "    y = np.asarray(y)\n",
        "\n",
        "    return X, y"
      ],
      "metadata": {
        "id": "yVxr2T8N_nkH"
      },
      "execution_count": null,
      "outputs": []
    },
    {
      "cell_type": "code",
      "source": [
        "# call the get_data_classify_images method using the path of classify-images folder as the argument\n",
        "\n",
        "X_classify_images, classify_images_filenames = get_data_classify_images(DATA_DIR + '/classify-image')\n"
      ],
      "metadata": {
        "id": "K9isO7s7_tDB"
      },
      "execution_count": null,
      "outputs": []
    },
    {
      "cell_type": "code",
      "source": [
        "# load weights of the model\n",
        "\n",
        "model.load_weights('vgg_top.h5')\n",
        "\n"
      ],
      "metadata": {
        "id": "0woypUtN_0XZ"
      },
      "execution_count": null,
      "outputs": []
    },
    {
      "cell_type": "code",
      "source": [
        "# prediction on the classify-images data\n",
        "\n",
        "y_pred_classify_images = model.predict(X_classify_images)"
      ],
      "metadata": {
        "colab": {
          "base_uri": "https://localhost:8080/"
        },
        "id": "7_zuhe2A_7ta",
        "outputId": "2140d6d1-7920-47e4-afb9-661570b616b5"
      },
      "execution_count": null,
      "outputs": [
        {
          "output_type": "stream",
          "name": "stdout",
          "text": [
            "2/2 [==============================] - 5s 5s/step\n"
          ]
        }
      ]
    },
    {
      "cell_type": "code",
      "source": [
        "# rounding the elements of the y_pred array to the nearest integer using np.rint\n",
        "\n",
        "y_pred_classify_images = np.rint(y_pred_classify_images)\n",
        "\n",
        "print('Prediction on the classify-images data')\n",
        "print()\n",
        "\n",
        "print(y_pred_classify_images)"
      ],
      "metadata": {
        "colab": {
          "base_uri": "https://localhost:8080/"
        },
        "id": "TKTRVL6yADgp",
        "outputId": "34db4f82-ad7e-4289-ff67-87631f224b92"
      },
      "execution_count": null,
      "outputs": [
        {
          "output_type": "stream",
          "name": "stdout",
          "text": [
            "Prediction on the classify-images data\n",
            "\n",
            "[[0. 0. 0. 0. 0. 1. 0. 0. 0.]\n",
            " [0. 0. 0. 0. 1. 0. 0. 0. 0.]\n",
            " [0. 0. 0. 0. 0. 0. 0. 0. 1.]\n",
            " [0. 0. 0. 0. 0. 0. 0. 1. 0.]\n",
            " [0. 0. 0. 0. 0. 0. 1. 0. 0.]\n",
            " [0. 0. 0. 0. 0. 0. 1. 0. 0.]\n",
            " [0. 0. 0. 0. 0. 0. 0. 0. 1.]\n",
            " [0. 0. 0. 0. 1. 0. 0. 0. 0.]\n",
            " [0. 0. 0. 0. 0. 1. 0. 0. 0.]\n",
            " [0. 0. 0. 0. 1. 0. 0. 0. 0.]\n",
            " [0. 0. 0. 0. 0. 0. 0. 0. 1.]\n",
            " [0. 0. 0. 0. 0. 0. 0. 0. 1.]\n",
            " [0. 0. 0. 0. 0. 0. 0. 0. 1.]\n",
            " [0. 0. 0. 0. 0. 0. 1. 0. 0.]\n",
            " [0. 0. 0. 0. 0. 0. 0. 0. 1.]\n",
            " [0. 0. 0. 0. 1. 0. 0. 0. 0.]\n",
            " [0. 0. 0. 0. 1. 0. 0. 0. 0.]\n",
            " [0. 0. 0. 0. 1. 0. 0. 0. 0.]\n",
            " [0. 0. 0. 0. 0. 0. 0. 0. 1.]\n",
            " [0. 0. 0. 1. 0. 0. 0. 0. 0.]\n",
            " [0. 0. 0. 0. 0. 0. 0. 0. 1.]\n",
            " [0. 0. 0. 0. 0. 0. 0. 0. 1.]\n",
            " [0. 1. 0. 0. 0. 0. 0. 0. 0.]\n",
            " [0. 0. 0. 0. 0. 0. 0. 0. 1.]\n",
            " [0. 0. 0. 0. 0. 0. 0. 0. 1.]\n",
            " [0. 0. 0. 1. 0. 0. 0. 0. 0.]\n",
            " [0. 0. 0. 0. 0. 0. 0. 0. 1.]\n",
            " [0. 0. 0. 0. 0. 0. 0. 0. 1.]\n",
            " [0. 0. 0. 0. 0. 0. 0. 0. 1.]\n",
            " [0. 0. 0. 0. 0. 0. 1. 0. 0.]\n",
            " [0. 0. 0. 0. 0. 0. 0. 0. 1.]\n",
            " [0. 0. 0. 0. 0. 0. 0. 0. 1.]\n",
            " [0. 0. 0. 0. 1. 0. 0. 0. 0.]\n",
            " [0. 0. 0. 0. 0. 0. 0. 0. 1.]\n",
            " [0. 0. 0. 0. 0. 0. 0. 0. 1.]\n",
            " [0. 0. 0. 0. 0. 0. 1. 0. 0.]\n",
            " [0. 0. 0. 0. 0. 0. 0. 0. 1.]\n",
            " [0. 0. 0. 1. 0. 0. 0. 0. 0.]\n",
            " [0. 0. 0. 0. 1. 0. 0. 0. 0.]\n",
            " [0. 0. 0. 0. 0. 0. 0. 0. 1.]\n",
            " [0. 0. 0. 0. 0. 0. 0. 0. 1.]\n",
            " [0. 0. 0. 0. 0. 0. 0. 0. 1.]\n",
            " [0. 0. 0. 0. 0. 0. 0. 0. 1.]\n",
            " [0. 0. 0. 0. 0. 1. 0. 0. 0.]\n",
            " [0. 0. 0. 0. 0. 0. 1. 0. 0.]\n",
            " [0. 1. 0. 0. 0. 0. 0. 0. 0.]\n",
            " [0. 0. 0. 1. 0. 0. 0. 0. 0.]\n",
            " [0. 0. 0. 0. 0. 0. 0. 0. 1.]\n",
            " [0. 0. 0. 0. 1. 0. 0. 0. 0.]\n",
            " [0. 0. 0. 0. 0. 1. 0. 0. 0.]\n",
            " [0. 0. 0. 0. 0. 0. 0. 0. 1.]\n",
            " [0. 0. 0. 0. 1. 0. 0. 0. 0.]\n",
            " [0. 0. 0. 0. 0. 0. 1. 0. 0.]\n",
            " [0. 0. 0. 0. 1. 0. 0. 0. 0.]\n",
            " [0. 0. 0. 0. 0. 0. 0. 0. 1.]\n",
            " [0. 0. 0. 0. 1. 0. 0. 0. 0.]\n",
            " [0. 0. 0. 0. 0. 0. 0. 0. 1.]\n",
            " [0. 0. 0. 0. 0. 0. 0. 0. 1.]\n",
            " [0. 0. 0. 0. 0. 0. 1. 0. 0.]]\n"
          ]
        }
      ]
    },
    {
      "cell_type": "code",
      "source": [
        "import pandas as pd\n",
        "IMAGES = pd.DataFrame(data = y_pred_classify_images, index = classify_images_filenames, columns = classes)\n"
      ],
      "metadata": {
        "id": "yPV0w4_QASB0"
      },
      "execution_count": null,
      "outputs": []
    },
    {
      "cell_type": "code",
      "source": [
        "IMAGES"
      ],
      "metadata": {
        "colab": {
          "base_uri": "https://localhost:8080/",
          "height": 1227
        },
        "id": "shd1JXjOAehk",
        "outputId": "f7fcb19f-51ab-4697-b173-898e349ef321"
      },
      "execution_count": null,
      "outputs": [
        {
          "output_type": "execute_result",
          "data": {
            "text/plain": [
              "        bands  basophils  blasts  eosinophils  lymphocytes  metamyelocytes  \\\n",
              "1.jpg     0.0        0.0     0.0          0.0          0.0             1.0   \n",
              "22.jpg    0.0        0.0     0.0          0.0          1.0             0.0   \n",
              "12.jpg    0.0        0.0     0.0          0.0          0.0             0.0   \n",
              "7.jpg     0.0        0.0     0.0          0.0          0.0             0.0   \n",
              "13.jpg    0.0        0.0     0.0          0.0          0.0             0.0   \n",
              "40.jpg    0.0        0.0     0.0          0.0          0.0             0.0   \n",
              "41.jpg    0.0        0.0     0.0          0.0          0.0             0.0   \n",
              "14.jpg    0.0        0.0     0.0          0.0          1.0             0.0   \n",
              "23.jpg    0.0        0.0     0.0          0.0          0.0             1.0   \n",
              "37.jpg    0.0        0.0     0.0          0.0          1.0             0.0   \n",
              "5.jpg     0.0        0.0     0.0          0.0          0.0             0.0   \n",
              "42.jpg    0.0        0.0     0.0          0.0          0.0             0.0   \n",
              "24.jpg    0.0        0.0     0.0          0.0          0.0             0.0   \n",
              "6.jpg     0.0        0.0     0.0          0.0          0.0             0.0   \n",
              "15.jpg    0.0        0.0     0.0          0.0          0.0             0.0   \n",
              "32.jpg    0.0        0.0     0.0          0.0          1.0             0.0   \n",
              "34.jpg    0.0        0.0     0.0          0.0          1.0             0.0   \n",
              "29.jpg    0.0        0.0     0.0          0.0          1.0             0.0   \n",
              "58.jpg    0.0        0.0     0.0          0.0          0.0             0.0   \n",
              "8.jpg     0.0        0.0     0.0          1.0          0.0             0.0   \n",
              "53.jpg    0.0        0.0     0.0          0.0          0.0             0.0   \n",
              "43.jpg    0.0        0.0     0.0          0.0          0.0             0.0   \n",
              "3.jpg     0.0        1.0     0.0          0.0          0.0             0.0   \n",
              "16.jpg    0.0        0.0     0.0          0.0          0.0             0.0   \n",
              "18.jpg    0.0        0.0     0.0          0.0          0.0             0.0   \n",
              "56.jpg    0.0        0.0     0.0          1.0          0.0             0.0   \n",
              "47.jpg    0.0        0.0     0.0          0.0          0.0             0.0   \n",
              "46.jpg    0.0        0.0     0.0          0.0          0.0             0.0   \n",
              "48.jpg    0.0        0.0     0.0          0.0          0.0             0.0   \n",
              "11.jpg    0.0        0.0     0.0          0.0          0.0             0.0   \n",
              "50.jpg    0.0        0.0     0.0          0.0          0.0             0.0   \n",
              "51.jpg    0.0        0.0     0.0          0.0          0.0             0.0   \n",
              "27.jpg    0.0        0.0     0.0          0.0          1.0             0.0   \n",
              "33.jpg    0.0        0.0     0.0          0.0          0.0             0.0   \n",
              "25.jpg    0.0        0.0     0.0          0.0          0.0             0.0   \n",
              "39.jpg    0.0        0.0     0.0          0.0          0.0             0.0   \n",
              "44.jpg    0.0        0.0     0.0          0.0          0.0             0.0   \n",
              "57.jpg    0.0        0.0     0.0          1.0          0.0             0.0   \n",
              "30.jpg    0.0        0.0     0.0          0.0          1.0             0.0   \n",
              "28.jpg    0.0        0.0     0.0          0.0          0.0             0.0   \n",
              "31.jpg    0.0        0.0     0.0          0.0          0.0             0.0   \n",
              "17.jpg    0.0        0.0     0.0          0.0          0.0             0.0   \n",
              "35.jpg    0.0        0.0     0.0          0.0          0.0             0.0   \n",
              "10.jpg    0.0        0.0     0.0          0.0          0.0             1.0   \n",
              "45.jpg    0.0        0.0     0.0          0.0          0.0             0.0   \n",
              "21.jpg    0.0        1.0     0.0          0.0          0.0             0.0   \n",
              "9.jpg     0.0        0.0     0.0          1.0          0.0             0.0   \n",
              "19.jpg    0.0        0.0     0.0          0.0          0.0             0.0   \n",
              "36.jpg    0.0        0.0     0.0          0.0          1.0             0.0   \n",
              "2.jpg     0.0        0.0     0.0          0.0          0.0             1.0   \n",
              "54.jpg    0.0        0.0     0.0          0.0          0.0             0.0   \n",
              "20.jpg    0.0        0.0     0.0          0.0          1.0             0.0   \n",
              "4.jpg     0.0        0.0     0.0          0.0          0.0             0.0   \n",
              "38.jpg    0.0        0.0     0.0          0.0          1.0             0.0   \n",
              "52.jpg    0.0        0.0     0.0          0.0          0.0             0.0   \n",
              "26.jpg    0.0        0.0     0.0          0.0          1.0             0.0   \n",
              "49.jpg    0.0        0.0     0.0          0.0          0.0             0.0   \n",
              "59.jpg    0.0        0.0     0.0          0.0          0.0             0.0   \n",
              "55.jpg    0.0        0.0     0.0          0.0          0.0             0.0   \n",
              "\n",
              "        monocytes  myelocytes  neutrophils  \n",
              "1.jpg         0.0         0.0          0.0  \n",
              "22.jpg        0.0         0.0          0.0  \n",
              "12.jpg        0.0         0.0          1.0  \n",
              "7.jpg         0.0         1.0          0.0  \n",
              "13.jpg        1.0         0.0          0.0  \n",
              "40.jpg        1.0         0.0          0.0  \n",
              "41.jpg        0.0         0.0          1.0  \n",
              "14.jpg        0.0         0.0          0.0  \n",
              "23.jpg        0.0         0.0          0.0  \n",
              "37.jpg        0.0         0.0          0.0  \n",
              "5.jpg         0.0         0.0          1.0  \n",
              "42.jpg        0.0         0.0          1.0  \n",
              "24.jpg        0.0         0.0          1.0  \n",
              "6.jpg         1.0         0.0          0.0  \n",
              "15.jpg        0.0         0.0          1.0  \n",
              "32.jpg        0.0         0.0          0.0  \n",
              "34.jpg        0.0         0.0          0.0  \n",
              "29.jpg        0.0         0.0          0.0  \n",
              "58.jpg        0.0         0.0          1.0  \n",
              "8.jpg         0.0         0.0          0.0  \n",
              "53.jpg        0.0         0.0          1.0  \n",
              "43.jpg        0.0         0.0          1.0  \n",
              "3.jpg         0.0         0.0          0.0  \n",
              "16.jpg        0.0         0.0          1.0  \n",
              "18.jpg        0.0         0.0          1.0  \n",
              "56.jpg        0.0         0.0          0.0  \n",
              "47.jpg        0.0         0.0          1.0  \n",
              "46.jpg        0.0         0.0          1.0  \n",
              "48.jpg        0.0         0.0          1.0  \n",
              "11.jpg        1.0         0.0          0.0  \n",
              "50.jpg        0.0         0.0          1.0  \n",
              "51.jpg        0.0         0.0          1.0  \n",
              "27.jpg        0.0         0.0          0.0  \n",
              "33.jpg        0.0         0.0          1.0  \n",
              "25.jpg        0.0         0.0          1.0  \n",
              "39.jpg        1.0         0.0          0.0  \n",
              "44.jpg        0.0         0.0          1.0  \n",
              "57.jpg        0.0         0.0          0.0  \n",
              "30.jpg        0.0         0.0          0.0  \n",
              "28.jpg        0.0         0.0          1.0  \n",
              "31.jpg        0.0         0.0          1.0  \n",
              "17.jpg        0.0         0.0          1.0  \n",
              "35.jpg        0.0         0.0          1.0  \n",
              "10.jpg        0.0         0.0          0.0  \n",
              "45.jpg        1.0         0.0          0.0  \n",
              "21.jpg        0.0         0.0          0.0  \n",
              "9.jpg         0.0         0.0          0.0  \n",
              "19.jpg        0.0         0.0          1.0  \n",
              "36.jpg        0.0         0.0          0.0  \n",
              "2.jpg         0.0         0.0          0.0  \n",
              "54.jpg        0.0         0.0          1.0  \n",
              "20.jpg        0.0         0.0          0.0  \n",
              "4.jpg         1.0         0.0          0.0  \n",
              "38.jpg        0.0         0.0          0.0  \n",
              "52.jpg        0.0         0.0          1.0  \n",
              "26.jpg        0.0         0.0          0.0  \n",
              "49.jpg        0.0         0.0          1.0  \n",
              "59.jpg        0.0         0.0          1.0  \n",
              "55.jpg        1.0         0.0          0.0  "
            ],
            "text/html": [
              "\n",
              "  <div id=\"df-2f3f8061-a78e-434f-8a07-9d152919c2e2\">\n",
              "    <div class=\"colab-df-container\">\n",
              "      <div>\n",
              "<style scoped>\n",
              "    .dataframe tbody tr th:only-of-type {\n",
              "        vertical-align: middle;\n",
              "    }\n",
              "\n",
              "    .dataframe tbody tr th {\n",
              "        vertical-align: top;\n",
              "    }\n",
              "\n",
              "    .dataframe thead th {\n",
              "        text-align: right;\n",
              "    }\n",
              "</style>\n",
              "<table border=\"1\" class=\"dataframe\">\n",
              "  <thead>\n",
              "    <tr style=\"text-align: right;\">\n",
              "      <th></th>\n",
              "      <th>bands</th>\n",
              "      <th>basophils</th>\n",
              "      <th>blasts</th>\n",
              "      <th>eosinophils</th>\n",
              "      <th>lymphocytes</th>\n",
              "      <th>metamyelocytes</th>\n",
              "      <th>monocytes</th>\n",
              "      <th>myelocytes</th>\n",
              "      <th>neutrophils</th>\n",
              "    </tr>\n",
              "  </thead>\n",
              "  <tbody>\n",
              "    <tr>\n",
              "      <th>1.jpg</th>\n",
              "      <td>0.0</td>\n",
              "      <td>0.0</td>\n",
              "      <td>0.0</td>\n",
              "      <td>0.0</td>\n",
              "      <td>0.0</td>\n",
              "      <td>1.0</td>\n",
              "      <td>0.0</td>\n",
              "      <td>0.0</td>\n",
              "      <td>0.0</td>\n",
              "    </tr>\n",
              "    <tr>\n",
              "      <th>22.jpg</th>\n",
              "      <td>0.0</td>\n",
              "      <td>0.0</td>\n",
              "      <td>0.0</td>\n",
              "      <td>0.0</td>\n",
              "      <td>1.0</td>\n",
              "      <td>0.0</td>\n",
              "      <td>0.0</td>\n",
              "      <td>0.0</td>\n",
              "      <td>0.0</td>\n",
              "    </tr>\n",
              "    <tr>\n",
              "      <th>12.jpg</th>\n",
              "      <td>0.0</td>\n",
              "      <td>0.0</td>\n",
              "      <td>0.0</td>\n",
              "      <td>0.0</td>\n",
              "      <td>0.0</td>\n",
              "      <td>0.0</td>\n",
              "      <td>0.0</td>\n",
              "      <td>0.0</td>\n",
              "      <td>1.0</td>\n",
              "    </tr>\n",
              "    <tr>\n",
              "      <th>7.jpg</th>\n",
              "      <td>0.0</td>\n",
              "      <td>0.0</td>\n",
              "      <td>0.0</td>\n",
              "      <td>0.0</td>\n",
              "      <td>0.0</td>\n",
              "      <td>0.0</td>\n",
              "      <td>0.0</td>\n",
              "      <td>1.0</td>\n",
              "      <td>0.0</td>\n",
              "    </tr>\n",
              "    <tr>\n",
              "      <th>13.jpg</th>\n",
              "      <td>0.0</td>\n",
              "      <td>0.0</td>\n",
              "      <td>0.0</td>\n",
              "      <td>0.0</td>\n",
              "      <td>0.0</td>\n",
              "      <td>0.0</td>\n",
              "      <td>1.0</td>\n",
              "      <td>0.0</td>\n",
              "      <td>0.0</td>\n",
              "    </tr>\n",
              "    <tr>\n",
              "      <th>40.jpg</th>\n",
              "      <td>0.0</td>\n",
              "      <td>0.0</td>\n",
              "      <td>0.0</td>\n",
              "      <td>0.0</td>\n",
              "      <td>0.0</td>\n",
              "      <td>0.0</td>\n",
              "      <td>1.0</td>\n",
              "      <td>0.0</td>\n",
              "      <td>0.0</td>\n",
              "    </tr>\n",
              "    <tr>\n",
              "      <th>41.jpg</th>\n",
              "      <td>0.0</td>\n",
              "      <td>0.0</td>\n",
              "      <td>0.0</td>\n",
              "      <td>0.0</td>\n",
              "      <td>0.0</td>\n",
              "      <td>0.0</td>\n",
              "      <td>0.0</td>\n",
              "      <td>0.0</td>\n",
              "      <td>1.0</td>\n",
              "    </tr>\n",
              "    <tr>\n",
              "      <th>14.jpg</th>\n",
              "      <td>0.0</td>\n",
              "      <td>0.0</td>\n",
              "      <td>0.0</td>\n",
              "      <td>0.0</td>\n",
              "      <td>1.0</td>\n",
              "      <td>0.0</td>\n",
              "      <td>0.0</td>\n",
              "      <td>0.0</td>\n",
              "      <td>0.0</td>\n",
              "    </tr>\n",
              "    <tr>\n",
              "      <th>23.jpg</th>\n",
              "      <td>0.0</td>\n",
              "      <td>0.0</td>\n",
              "      <td>0.0</td>\n",
              "      <td>0.0</td>\n",
              "      <td>0.0</td>\n",
              "      <td>1.0</td>\n",
              "      <td>0.0</td>\n",
              "      <td>0.0</td>\n",
              "      <td>0.0</td>\n",
              "    </tr>\n",
              "    <tr>\n",
              "      <th>37.jpg</th>\n",
              "      <td>0.0</td>\n",
              "      <td>0.0</td>\n",
              "      <td>0.0</td>\n",
              "      <td>0.0</td>\n",
              "      <td>1.0</td>\n",
              "      <td>0.0</td>\n",
              "      <td>0.0</td>\n",
              "      <td>0.0</td>\n",
              "      <td>0.0</td>\n",
              "    </tr>\n",
              "    <tr>\n",
              "      <th>5.jpg</th>\n",
              "      <td>0.0</td>\n",
              "      <td>0.0</td>\n",
              "      <td>0.0</td>\n",
              "      <td>0.0</td>\n",
              "      <td>0.0</td>\n",
              "      <td>0.0</td>\n",
              "      <td>0.0</td>\n",
              "      <td>0.0</td>\n",
              "      <td>1.0</td>\n",
              "    </tr>\n",
              "    <tr>\n",
              "      <th>42.jpg</th>\n",
              "      <td>0.0</td>\n",
              "      <td>0.0</td>\n",
              "      <td>0.0</td>\n",
              "      <td>0.0</td>\n",
              "      <td>0.0</td>\n",
              "      <td>0.0</td>\n",
              "      <td>0.0</td>\n",
              "      <td>0.0</td>\n",
              "      <td>1.0</td>\n",
              "    </tr>\n",
              "    <tr>\n",
              "      <th>24.jpg</th>\n",
              "      <td>0.0</td>\n",
              "      <td>0.0</td>\n",
              "      <td>0.0</td>\n",
              "      <td>0.0</td>\n",
              "      <td>0.0</td>\n",
              "      <td>0.0</td>\n",
              "      <td>0.0</td>\n",
              "      <td>0.0</td>\n",
              "      <td>1.0</td>\n",
              "    </tr>\n",
              "    <tr>\n",
              "      <th>6.jpg</th>\n",
              "      <td>0.0</td>\n",
              "      <td>0.0</td>\n",
              "      <td>0.0</td>\n",
              "      <td>0.0</td>\n",
              "      <td>0.0</td>\n",
              "      <td>0.0</td>\n",
              "      <td>1.0</td>\n",
              "      <td>0.0</td>\n",
              "      <td>0.0</td>\n",
              "    </tr>\n",
              "    <tr>\n",
              "      <th>15.jpg</th>\n",
              "      <td>0.0</td>\n",
              "      <td>0.0</td>\n",
              "      <td>0.0</td>\n",
              "      <td>0.0</td>\n",
              "      <td>0.0</td>\n",
              "      <td>0.0</td>\n",
              "      <td>0.0</td>\n",
              "      <td>0.0</td>\n",
              "      <td>1.0</td>\n",
              "    </tr>\n",
              "    <tr>\n",
              "      <th>32.jpg</th>\n",
              "      <td>0.0</td>\n",
              "      <td>0.0</td>\n",
              "      <td>0.0</td>\n",
              "      <td>0.0</td>\n",
              "      <td>1.0</td>\n",
              "      <td>0.0</td>\n",
              "      <td>0.0</td>\n",
              "      <td>0.0</td>\n",
              "      <td>0.0</td>\n",
              "    </tr>\n",
              "    <tr>\n",
              "      <th>34.jpg</th>\n",
              "      <td>0.0</td>\n",
              "      <td>0.0</td>\n",
              "      <td>0.0</td>\n",
              "      <td>0.0</td>\n",
              "      <td>1.0</td>\n",
              "      <td>0.0</td>\n",
              "      <td>0.0</td>\n",
              "      <td>0.0</td>\n",
              "      <td>0.0</td>\n",
              "    </tr>\n",
              "    <tr>\n",
              "      <th>29.jpg</th>\n",
              "      <td>0.0</td>\n",
              "      <td>0.0</td>\n",
              "      <td>0.0</td>\n",
              "      <td>0.0</td>\n",
              "      <td>1.0</td>\n",
              "      <td>0.0</td>\n",
              "      <td>0.0</td>\n",
              "      <td>0.0</td>\n",
              "      <td>0.0</td>\n",
              "    </tr>\n",
              "    <tr>\n",
              "      <th>58.jpg</th>\n",
              "      <td>0.0</td>\n",
              "      <td>0.0</td>\n",
              "      <td>0.0</td>\n",
              "      <td>0.0</td>\n",
              "      <td>0.0</td>\n",
              "      <td>0.0</td>\n",
              "      <td>0.0</td>\n",
              "      <td>0.0</td>\n",
              "      <td>1.0</td>\n",
              "    </tr>\n",
              "    <tr>\n",
              "      <th>8.jpg</th>\n",
              "      <td>0.0</td>\n",
              "      <td>0.0</td>\n",
              "      <td>0.0</td>\n",
              "      <td>1.0</td>\n",
              "      <td>0.0</td>\n",
              "      <td>0.0</td>\n",
              "      <td>0.0</td>\n",
              "      <td>0.0</td>\n",
              "      <td>0.0</td>\n",
              "    </tr>\n",
              "    <tr>\n",
              "      <th>53.jpg</th>\n",
              "      <td>0.0</td>\n",
              "      <td>0.0</td>\n",
              "      <td>0.0</td>\n",
              "      <td>0.0</td>\n",
              "      <td>0.0</td>\n",
              "      <td>0.0</td>\n",
              "      <td>0.0</td>\n",
              "      <td>0.0</td>\n",
              "      <td>1.0</td>\n",
              "    </tr>\n",
              "    <tr>\n",
              "      <th>43.jpg</th>\n",
              "      <td>0.0</td>\n",
              "      <td>0.0</td>\n",
              "      <td>0.0</td>\n",
              "      <td>0.0</td>\n",
              "      <td>0.0</td>\n",
              "      <td>0.0</td>\n",
              "      <td>0.0</td>\n",
              "      <td>0.0</td>\n",
              "      <td>1.0</td>\n",
              "    </tr>\n",
              "    <tr>\n",
              "      <th>3.jpg</th>\n",
              "      <td>0.0</td>\n",
              "      <td>1.0</td>\n",
              "      <td>0.0</td>\n",
              "      <td>0.0</td>\n",
              "      <td>0.0</td>\n",
              "      <td>0.0</td>\n",
              "      <td>0.0</td>\n",
              "      <td>0.0</td>\n",
              "      <td>0.0</td>\n",
              "    </tr>\n",
              "    <tr>\n",
              "      <th>16.jpg</th>\n",
              "      <td>0.0</td>\n",
              "      <td>0.0</td>\n",
              "      <td>0.0</td>\n",
              "      <td>0.0</td>\n",
              "      <td>0.0</td>\n",
              "      <td>0.0</td>\n",
              "      <td>0.0</td>\n",
              "      <td>0.0</td>\n",
              "      <td>1.0</td>\n",
              "    </tr>\n",
              "    <tr>\n",
              "      <th>18.jpg</th>\n",
              "      <td>0.0</td>\n",
              "      <td>0.0</td>\n",
              "      <td>0.0</td>\n",
              "      <td>0.0</td>\n",
              "      <td>0.0</td>\n",
              "      <td>0.0</td>\n",
              "      <td>0.0</td>\n",
              "      <td>0.0</td>\n",
              "      <td>1.0</td>\n",
              "    </tr>\n",
              "    <tr>\n",
              "      <th>56.jpg</th>\n",
              "      <td>0.0</td>\n",
              "      <td>0.0</td>\n",
              "      <td>0.0</td>\n",
              "      <td>1.0</td>\n",
              "      <td>0.0</td>\n",
              "      <td>0.0</td>\n",
              "      <td>0.0</td>\n",
              "      <td>0.0</td>\n",
              "      <td>0.0</td>\n",
              "    </tr>\n",
              "    <tr>\n",
              "      <th>47.jpg</th>\n",
              "      <td>0.0</td>\n",
              "      <td>0.0</td>\n",
              "      <td>0.0</td>\n",
              "      <td>0.0</td>\n",
              "      <td>0.0</td>\n",
              "      <td>0.0</td>\n",
              "      <td>0.0</td>\n",
              "      <td>0.0</td>\n",
              "      <td>1.0</td>\n",
              "    </tr>\n",
              "    <tr>\n",
              "      <th>46.jpg</th>\n",
              "      <td>0.0</td>\n",
              "      <td>0.0</td>\n",
              "      <td>0.0</td>\n",
              "      <td>0.0</td>\n",
              "      <td>0.0</td>\n",
              "      <td>0.0</td>\n",
              "      <td>0.0</td>\n",
              "      <td>0.0</td>\n",
              "      <td>1.0</td>\n",
              "    </tr>\n",
              "    <tr>\n",
              "      <th>48.jpg</th>\n",
              "      <td>0.0</td>\n",
              "      <td>0.0</td>\n",
              "      <td>0.0</td>\n",
              "      <td>0.0</td>\n",
              "      <td>0.0</td>\n",
              "      <td>0.0</td>\n",
              "      <td>0.0</td>\n",
              "      <td>0.0</td>\n",
              "      <td>1.0</td>\n",
              "    </tr>\n",
              "    <tr>\n",
              "      <th>11.jpg</th>\n",
              "      <td>0.0</td>\n",
              "      <td>0.0</td>\n",
              "      <td>0.0</td>\n",
              "      <td>0.0</td>\n",
              "      <td>0.0</td>\n",
              "      <td>0.0</td>\n",
              "      <td>1.0</td>\n",
              "      <td>0.0</td>\n",
              "      <td>0.0</td>\n",
              "    </tr>\n",
              "    <tr>\n",
              "      <th>50.jpg</th>\n",
              "      <td>0.0</td>\n",
              "      <td>0.0</td>\n",
              "      <td>0.0</td>\n",
              "      <td>0.0</td>\n",
              "      <td>0.0</td>\n",
              "      <td>0.0</td>\n",
              "      <td>0.0</td>\n",
              "      <td>0.0</td>\n",
              "      <td>1.0</td>\n",
              "    </tr>\n",
              "    <tr>\n",
              "      <th>51.jpg</th>\n",
              "      <td>0.0</td>\n",
              "      <td>0.0</td>\n",
              "      <td>0.0</td>\n",
              "      <td>0.0</td>\n",
              "      <td>0.0</td>\n",
              "      <td>0.0</td>\n",
              "      <td>0.0</td>\n",
              "      <td>0.0</td>\n",
              "      <td>1.0</td>\n",
              "    </tr>\n",
              "    <tr>\n",
              "      <th>27.jpg</th>\n",
              "      <td>0.0</td>\n",
              "      <td>0.0</td>\n",
              "      <td>0.0</td>\n",
              "      <td>0.0</td>\n",
              "      <td>1.0</td>\n",
              "      <td>0.0</td>\n",
              "      <td>0.0</td>\n",
              "      <td>0.0</td>\n",
              "      <td>0.0</td>\n",
              "    </tr>\n",
              "    <tr>\n",
              "      <th>33.jpg</th>\n",
              "      <td>0.0</td>\n",
              "      <td>0.0</td>\n",
              "      <td>0.0</td>\n",
              "      <td>0.0</td>\n",
              "      <td>0.0</td>\n",
              "      <td>0.0</td>\n",
              "      <td>0.0</td>\n",
              "      <td>0.0</td>\n",
              "      <td>1.0</td>\n",
              "    </tr>\n",
              "    <tr>\n",
              "      <th>25.jpg</th>\n",
              "      <td>0.0</td>\n",
              "      <td>0.0</td>\n",
              "      <td>0.0</td>\n",
              "      <td>0.0</td>\n",
              "      <td>0.0</td>\n",
              "      <td>0.0</td>\n",
              "      <td>0.0</td>\n",
              "      <td>0.0</td>\n",
              "      <td>1.0</td>\n",
              "    </tr>\n",
              "    <tr>\n",
              "      <th>39.jpg</th>\n",
              "      <td>0.0</td>\n",
              "      <td>0.0</td>\n",
              "      <td>0.0</td>\n",
              "      <td>0.0</td>\n",
              "      <td>0.0</td>\n",
              "      <td>0.0</td>\n",
              "      <td>1.0</td>\n",
              "      <td>0.0</td>\n",
              "      <td>0.0</td>\n",
              "    </tr>\n",
              "    <tr>\n",
              "      <th>44.jpg</th>\n",
              "      <td>0.0</td>\n",
              "      <td>0.0</td>\n",
              "      <td>0.0</td>\n",
              "      <td>0.0</td>\n",
              "      <td>0.0</td>\n",
              "      <td>0.0</td>\n",
              "      <td>0.0</td>\n",
              "      <td>0.0</td>\n",
              "      <td>1.0</td>\n",
              "    </tr>\n",
              "    <tr>\n",
              "      <th>57.jpg</th>\n",
              "      <td>0.0</td>\n",
              "      <td>0.0</td>\n",
              "      <td>0.0</td>\n",
              "      <td>1.0</td>\n",
              "      <td>0.0</td>\n",
              "      <td>0.0</td>\n",
              "      <td>0.0</td>\n",
              "      <td>0.0</td>\n",
              "      <td>0.0</td>\n",
              "    </tr>\n",
              "    <tr>\n",
              "      <th>30.jpg</th>\n",
              "      <td>0.0</td>\n",
              "      <td>0.0</td>\n",
              "      <td>0.0</td>\n",
              "      <td>0.0</td>\n",
              "      <td>1.0</td>\n",
              "      <td>0.0</td>\n",
              "      <td>0.0</td>\n",
              "      <td>0.0</td>\n",
              "      <td>0.0</td>\n",
              "    </tr>\n",
              "    <tr>\n",
              "      <th>28.jpg</th>\n",
              "      <td>0.0</td>\n",
              "      <td>0.0</td>\n",
              "      <td>0.0</td>\n",
              "      <td>0.0</td>\n",
              "      <td>0.0</td>\n",
              "      <td>0.0</td>\n",
              "      <td>0.0</td>\n",
              "      <td>0.0</td>\n",
              "      <td>1.0</td>\n",
              "    </tr>\n",
              "    <tr>\n",
              "      <th>31.jpg</th>\n",
              "      <td>0.0</td>\n",
              "      <td>0.0</td>\n",
              "      <td>0.0</td>\n",
              "      <td>0.0</td>\n",
              "      <td>0.0</td>\n",
              "      <td>0.0</td>\n",
              "      <td>0.0</td>\n",
              "      <td>0.0</td>\n",
              "      <td>1.0</td>\n",
              "    </tr>\n",
              "    <tr>\n",
              "      <th>17.jpg</th>\n",
              "      <td>0.0</td>\n",
              "      <td>0.0</td>\n",
              "      <td>0.0</td>\n",
              "      <td>0.0</td>\n",
              "      <td>0.0</td>\n",
              "      <td>0.0</td>\n",
              "      <td>0.0</td>\n",
              "      <td>0.0</td>\n",
              "      <td>1.0</td>\n",
              "    </tr>\n",
              "    <tr>\n",
              "      <th>35.jpg</th>\n",
              "      <td>0.0</td>\n",
              "      <td>0.0</td>\n",
              "      <td>0.0</td>\n",
              "      <td>0.0</td>\n",
              "      <td>0.0</td>\n",
              "      <td>0.0</td>\n",
              "      <td>0.0</td>\n",
              "      <td>0.0</td>\n",
              "      <td>1.0</td>\n",
              "    </tr>\n",
              "    <tr>\n",
              "      <th>10.jpg</th>\n",
              "      <td>0.0</td>\n",
              "      <td>0.0</td>\n",
              "      <td>0.0</td>\n",
              "      <td>0.0</td>\n",
              "      <td>0.0</td>\n",
              "      <td>1.0</td>\n",
              "      <td>0.0</td>\n",
              "      <td>0.0</td>\n",
              "      <td>0.0</td>\n",
              "    </tr>\n",
              "    <tr>\n",
              "      <th>45.jpg</th>\n",
              "      <td>0.0</td>\n",
              "      <td>0.0</td>\n",
              "      <td>0.0</td>\n",
              "      <td>0.0</td>\n",
              "      <td>0.0</td>\n",
              "      <td>0.0</td>\n",
              "      <td>1.0</td>\n",
              "      <td>0.0</td>\n",
              "      <td>0.0</td>\n",
              "    </tr>\n",
              "    <tr>\n",
              "      <th>21.jpg</th>\n",
              "      <td>0.0</td>\n",
              "      <td>1.0</td>\n",
              "      <td>0.0</td>\n",
              "      <td>0.0</td>\n",
              "      <td>0.0</td>\n",
              "      <td>0.0</td>\n",
              "      <td>0.0</td>\n",
              "      <td>0.0</td>\n",
              "      <td>0.0</td>\n",
              "    </tr>\n",
              "    <tr>\n",
              "      <th>9.jpg</th>\n",
              "      <td>0.0</td>\n",
              "      <td>0.0</td>\n",
              "      <td>0.0</td>\n",
              "      <td>1.0</td>\n",
              "      <td>0.0</td>\n",
              "      <td>0.0</td>\n",
              "      <td>0.0</td>\n",
              "      <td>0.0</td>\n",
              "      <td>0.0</td>\n",
              "    </tr>\n",
              "    <tr>\n",
              "      <th>19.jpg</th>\n",
              "      <td>0.0</td>\n",
              "      <td>0.0</td>\n",
              "      <td>0.0</td>\n",
              "      <td>0.0</td>\n",
              "      <td>0.0</td>\n",
              "      <td>0.0</td>\n",
              "      <td>0.0</td>\n",
              "      <td>0.0</td>\n",
              "      <td>1.0</td>\n",
              "    </tr>\n",
              "    <tr>\n",
              "      <th>36.jpg</th>\n",
              "      <td>0.0</td>\n",
              "      <td>0.0</td>\n",
              "      <td>0.0</td>\n",
              "      <td>0.0</td>\n",
              "      <td>1.0</td>\n",
              "      <td>0.0</td>\n",
              "      <td>0.0</td>\n",
              "      <td>0.0</td>\n",
              "      <td>0.0</td>\n",
              "    </tr>\n",
              "    <tr>\n",
              "      <th>2.jpg</th>\n",
              "      <td>0.0</td>\n",
              "      <td>0.0</td>\n",
              "      <td>0.0</td>\n",
              "      <td>0.0</td>\n",
              "      <td>0.0</td>\n",
              "      <td>1.0</td>\n",
              "      <td>0.0</td>\n",
              "      <td>0.0</td>\n",
              "      <td>0.0</td>\n",
              "    </tr>\n",
              "    <tr>\n",
              "      <th>54.jpg</th>\n",
              "      <td>0.0</td>\n",
              "      <td>0.0</td>\n",
              "      <td>0.0</td>\n",
              "      <td>0.0</td>\n",
              "      <td>0.0</td>\n",
              "      <td>0.0</td>\n",
              "      <td>0.0</td>\n",
              "      <td>0.0</td>\n",
              "      <td>1.0</td>\n",
              "    </tr>\n",
              "    <tr>\n",
              "      <th>20.jpg</th>\n",
              "      <td>0.0</td>\n",
              "      <td>0.0</td>\n",
              "      <td>0.0</td>\n",
              "      <td>0.0</td>\n",
              "      <td>1.0</td>\n",
              "      <td>0.0</td>\n",
              "      <td>0.0</td>\n",
              "      <td>0.0</td>\n",
              "      <td>0.0</td>\n",
              "    </tr>\n",
              "    <tr>\n",
              "      <th>4.jpg</th>\n",
              "      <td>0.0</td>\n",
              "      <td>0.0</td>\n",
              "      <td>0.0</td>\n",
              "      <td>0.0</td>\n",
              "      <td>0.0</td>\n",
              "      <td>0.0</td>\n",
              "      <td>1.0</td>\n",
              "      <td>0.0</td>\n",
              "      <td>0.0</td>\n",
              "    </tr>\n",
              "    <tr>\n",
              "      <th>38.jpg</th>\n",
              "      <td>0.0</td>\n",
              "      <td>0.0</td>\n",
              "      <td>0.0</td>\n",
              "      <td>0.0</td>\n",
              "      <td>1.0</td>\n",
              "      <td>0.0</td>\n",
              "      <td>0.0</td>\n",
              "      <td>0.0</td>\n",
              "      <td>0.0</td>\n",
              "    </tr>\n",
              "    <tr>\n",
              "      <th>52.jpg</th>\n",
              "      <td>0.0</td>\n",
              "      <td>0.0</td>\n",
              "      <td>0.0</td>\n",
              "      <td>0.0</td>\n",
              "      <td>0.0</td>\n",
              "      <td>0.0</td>\n",
              "      <td>0.0</td>\n",
              "      <td>0.0</td>\n",
              "      <td>1.0</td>\n",
              "    </tr>\n",
              "    <tr>\n",
              "      <th>26.jpg</th>\n",
              "      <td>0.0</td>\n",
              "      <td>0.0</td>\n",
              "      <td>0.0</td>\n",
              "      <td>0.0</td>\n",
              "      <td>1.0</td>\n",
              "      <td>0.0</td>\n",
              "      <td>0.0</td>\n",
              "      <td>0.0</td>\n",
              "      <td>0.0</td>\n",
              "    </tr>\n",
              "    <tr>\n",
              "      <th>49.jpg</th>\n",
              "      <td>0.0</td>\n",
              "      <td>0.0</td>\n",
              "      <td>0.0</td>\n",
              "      <td>0.0</td>\n",
              "      <td>0.0</td>\n",
              "      <td>0.0</td>\n",
              "      <td>0.0</td>\n",
              "      <td>0.0</td>\n",
              "      <td>1.0</td>\n",
              "    </tr>\n",
              "    <tr>\n",
              "      <th>59.jpg</th>\n",
              "      <td>0.0</td>\n",
              "      <td>0.0</td>\n",
              "      <td>0.0</td>\n",
              "      <td>0.0</td>\n",
              "      <td>0.0</td>\n",
              "      <td>0.0</td>\n",
              "      <td>0.0</td>\n",
              "      <td>0.0</td>\n",
              "      <td>1.0</td>\n",
              "    </tr>\n",
              "    <tr>\n",
              "      <th>55.jpg</th>\n",
              "      <td>0.0</td>\n",
              "      <td>0.0</td>\n",
              "      <td>0.0</td>\n",
              "      <td>0.0</td>\n",
              "      <td>0.0</td>\n",
              "      <td>0.0</td>\n",
              "      <td>1.0</td>\n",
              "      <td>0.0</td>\n",
              "      <td>0.0</td>\n",
              "    </tr>\n",
              "  </tbody>\n",
              "</table>\n",
              "</div>\n",
              "      <button class=\"colab-df-convert\" onclick=\"convertToInteractive('df-2f3f8061-a78e-434f-8a07-9d152919c2e2')\"\n",
              "              title=\"Convert this dataframe to an interactive table.\"\n",
              "              style=\"display:none;\">\n",
              "        \n",
              "  <svg xmlns=\"http://www.w3.org/2000/svg\" height=\"24px\"viewBox=\"0 0 24 24\"\n",
              "       width=\"24px\">\n",
              "    <path d=\"M0 0h24v24H0V0z\" fill=\"none\"/>\n",
              "    <path d=\"M18.56 5.44l.94 2.06.94-2.06 2.06-.94-2.06-.94-.94-2.06-.94 2.06-2.06.94zm-11 1L8.5 8.5l.94-2.06 2.06-.94-2.06-.94L8.5 2.5l-.94 2.06-2.06.94zm10 10l.94 2.06.94-2.06 2.06-.94-2.06-.94-.94-2.06-.94 2.06-2.06.94z\"/><path d=\"M17.41 7.96l-1.37-1.37c-.4-.4-.92-.59-1.43-.59-.52 0-1.04.2-1.43.59L10.3 9.45l-7.72 7.72c-.78.78-.78 2.05 0 2.83L4 21.41c.39.39.9.59 1.41.59.51 0 1.02-.2 1.41-.59l7.78-7.78 2.81-2.81c.8-.78.8-2.07 0-2.86zM5.41 20L4 18.59l7.72-7.72 1.47 1.35L5.41 20z\"/>\n",
              "  </svg>\n",
              "      </button>\n",
              "      \n",
              "  <style>\n",
              "    .colab-df-container {\n",
              "      display:flex;\n",
              "      flex-wrap:wrap;\n",
              "      gap: 12px;\n",
              "    }\n",
              "\n",
              "    .colab-df-convert {\n",
              "      background-color: #E8F0FE;\n",
              "      border: none;\n",
              "      border-radius: 50%;\n",
              "      cursor: pointer;\n",
              "      display: none;\n",
              "      fill: #1967D2;\n",
              "      height: 32px;\n",
              "      padding: 0 0 0 0;\n",
              "      width: 32px;\n",
              "    }\n",
              "\n",
              "    .colab-df-convert:hover {\n",
              "      background-color: #E2EBFA;\n",
              "      box-shadow: 0px 1px 2px rgba(60, 64, 67, 0.3), 0px 1px 3px 1px rgba(60, 64, 67, 0.15);\n",
              "      fill: #174EA6;\n",
              "    }\n",
              "\n",
              "    [theme=dark] .colab-df-convert {\n",
              "      background-color: #3B4455;\n",
              "      fill: #D2E3FC;\n",
              "    }\n",
              "\n",
              "    [theme=dark] .colab-df-convert:hover {\n",
              "      background-color: #434B5C;\n",
              "      box-shadow: 0px 1px 3px 1px rgba(0, 0, 0, 0.15);\n",
              "      filter: drop-shadow(0px 1px 2px rgba(0, 0, 0, 0.3));\n",
              "      fill: #FFFFFF;\n",
              "    }\n",
              "  </style>\n",
              "\n",
              "      <script>\n",
              "        const buttonEl =\n",
              "          document.querySelector('#df-2f3f8061-a78e-434f-8a07-9d152919c2e2 button.colab-df-convert');\n",
              "        buttonEl.style.display =\n",
              "          google.colab.kernel.accessAllowed ? 'block' : 'none';\n",
              "\n",
              "        async function convertToInteractive(key) {\n",
              "          const element = document.querySelector('#df-2f3f8061-a78e-434f-8a07-9d152919c2e2');\n",
              "          const dataTable =\n",
              "            await google.colab.kernel.invokeFunction('convertToInteractive',\n",
              "                                                     [key], {});\n",
              "          if (!dataTable) return;\n",
              "\n",
              "          const docLinkHtml = 'Like what you see? Visit the ' +\n",
              "            '<a target=\"_blank\" href=https://colab.research.google.com/notebooks/data_table.ipynb>data table notebook</a>'\n",
              "            + ' to learn more about interactive tables.';\n",
              "          element.innerHTML = '';\n",
              "          dataTable['output_type'] = 'display_data';\n",
              "          await google.colab.output.renderOutput(dataTable, element);\n",
              "          const docLink = document.createElement('div');\n",
              "          docLink.innerHTML = docLinkHtml;\n",
              "          element.appendChild(docLink);\n",
              "        }\n",
              "      </script>\n",
              "    </div>\n",
              "  </div>\n",
              "  "
            ]
          },
          "metadata": {},
          "execution_count": 60
        },
        {
          "output_type": "display_data",
          "data": {
            "text/plain": [
              "<google.colab._quickchart_helpers.SectionTitle at 0x7fc10134de70>"
            ],
            "text/html": [
              "<h4 class=\"colab-quickchart-section-title\">Values</h4>\n",
              "<style>\n",
              "  .colab-quickchart-section-title {\n",
              "      clear: both;\n",
              "  }\n",
              "</style>"
            ]
          },
          "metadata": {}
        },
        {
          "output_type": "display_data",
          "data": {
            "text/plain": [
              "import numpy as np\n",
              "from google.colab import autoviz\n",
              "df_3826845876805406256 = autoviz.get_registered_df('df_3826845876805406256')\n",
              "\n",
              "def value_plot(df, y, sort_ascending=False, figsize=(2, 1)):\n",
              "  from matplotlib import pyplot as plt\n",
              "  if sort_ascending:\n",
              "    df = df.sort_values(y).reset_index(drop=True)\n",
              "  _, ax = plt.subplots(figsize=figsize)\n",
              "  df[y].plot(kind='line')\n",
              "  plt.title(y)\n",
              "  ax.spines[['top', 'right',]].set_visible(False)\n",
              "  plt.tight_layout()\n",
              "  return autoviz.MplChart.from_current_mpl_state()\n",
              "\n",
              "chart = value_plot(df_3826845876805406256, *['basophils'], **{})\n",
              "chart"
            ],
            "text/html": [
              "      <div class=\"colab-quickchart-chart-with-code\" id=\"chart-029fc763-115c-4755-b98b-cc3a5bda9378\">\n",
              "        <img src=\"data:image/png;base64,iVBORw0KGgoAAAANSUhEUgAAALkAAABgCAYAAABBnNO7AAAAOXRFWHRTb2Z0d2FyZQBNYXRwbG90\n",
              "bGliIHZlcnNpb24zLjcuMSwgaHR0cHM6Ly9tYXRwbG90bGliLm9yZy/bCgiHAAAACXBIWXMAAA9h\n",
              "AAAPYQGoP6dpAAAM8UlEQVR4nO2dfUxT5x7Hv4ViAWlBgeELL4UVlyEDN7RBvVjGQtRkiYvTJXea\n",
              "ic7JspFJFhdd5kZcFtidTq/jjzsmC51/3GS+YXZTt+nViSOXDTHort6LUBAoDsSptHAtff3dP7C1\n",
              "Bzq1tOX0nD2fhLTncF6+T/nw9Hme8/RUQkQEBkPEhPEdgMEINkxyhuhhkjNED5OcIXqY5AzRwyRn\n",
              "iB4mOUP0MMkZoodJzhA9TPJxFBYWYufOnXzH8IpWq0VycvIDt5k/fz6++uorAEB3dzckEgn0ev1U\n",
              "xAtZpHwHYASWK1eu8B0h5GA1OUP0MMm9MDQ0hNWrV0Mul0OlUuHgwYMAgP7+fjz//PNISkqCXC5H\n",
              "Tk4ODh8+7N7ParXijTfewKxZsyCXy6FUKlFdXe3+fVNTEwoKCjBjxgykp6djx44dsFgs7t8rlUpU\n",
              "VFSgqKgIMTExyM7Oxvfffz8hX01NDZRKJWJjY7F27VqYTCbOMWpra72W69KlS9BoNIiLi8OMGTOQ\n",
              "l5eHq1ev+v16hTzE4KDRaCgyMpK++eYbstlspNPpKCIighobG8lgMNDRo0dpeHiYrFYr1dbWklQq\n",
              "pcuXLxMR0RdffEELFiygmzdvEhFRf38/XbhwgYiIenp6KDo6mvbt20cWi4Xa29spKyuLtm7d6j53\n",
              "WloaJSQkUGNjI9lsNqqtraVp06ZRV1cXERHV1dVReHg4lZeX0927d+nXX38llUpFH3zwAecYBw4c\n",
              "ICKia9euEQDq6OggIqIlS5bQrl27yGazkc1mo9bWVhoYGAj6a8o3TPJxaDQaWr16NWfdSy+9RJs2\n",
              "bfK6fU5ODn322WdERKTVakmlUlFDQwNZrVbOdpWVlbRgwQLOumPHjlFUVBQ5nU4iGhP07bff5myj\n",
              "Vqvpww8/JKIxyWUyGefY27ZtoxUrVriXHyR5YWEhvfrqq6TX6x/txRAJrLnihfT09AnLBoMBd+7c\n",
              "wWuvvYb09HQoFArExcXhypUrGBwcBACsX78epaWleOedd5CQkICVK1fiwoULAACDwYDHH3+cc1yV\n",
              "SgWz2YybN28+9NwuEhISEBER4V6ePn06hoeHH6lcWq0WEokERUVFSE5ORnl5OUZGRh5pXyHDJPdC\n",
              "d3f3hOXk5GTs2LEDbW1taGhogNFoxNDQEObPnw+697mT8PBwbNu2DT///DOuX7+OJ598EqtWrQIA\n",
              "pKSkoKuri3Pczs5OREVFITEx8aHnDgRpaWk4cOAAenp6cPbsWZw6dQpVVVUBOXYowyT3wokTJ6DT\n",
              "6eBwOPDdd9+hvr4eGzduhNFoRHR0NOLj42Gz2VBdXc0Zsjtz5gxaWlpgtVoRGRmJmJgYhIeHAwBe\n",
              "fvllXL16FdXV1bBarejs7MT777+PzZs3QyKRuI9x8OBBNDU1wW63Q6vVorW1FevWrQtIubRaLfr6\n",
              "+kBEUCgUkEqlkErFP4rMJPfCpk2b8OWXXyIuLg5vvvkmPv/8cxQUFOCjjz6C2WxGUlISlEolbty4\n",
              "gaVLl7r3GxwcRElJCWbOnInExEQ0NDTgyJEjAMZq0ZMnT+Lrr7/GY489hqKiIqxcuRKffPIJ59yv\n",
              "v/463nvvPcTFxWH37t2or6+f0MyZLD/88APUajViYmKQm5uLxYsXY/v27QE5digjIWKf8QwVlEol\n",
              "du7cic2bN/MdRVSwmpwhepjkDNHDmisM0cNqcoboYZIzRI9Pkr/11ltQKpWQSCS4ePFikCIxGIHF\n",
              "J8nXrFmDxsZGpKWlBSsPgxFwfJJ82bJlfl1i3r9//6T3ZTAmS9Da5BaLBSaTifMzfu6GWDBbHVjx\n",
              "13PYefzffEcJCNeHzPjTX86gpqGT7ygBIWiSV1VVITY2lvPT3NwcrNPxStuACW0Dw/jHpX6+owSE\n",
              "5mu30HfHjBOXB/iOEhCCJvm7774Lo9HI+VGr1cE6Ha8YzTYAgGnUBqdT+JcdjHfvledeuYRO0Kag\n",
              "yWQyyGQyzjrXjDyx4ZKcCBi22BEbFfGQPUIbo9l+71EckvtUk5eWliI5ORl9fX1Yvnw5VCpVsHIJ\n",
              "Cs8aTwy1n0tuo9kGMVwQ96kmr6mpCVYOQWMatbufG802pPCYJRCYRsckdzgJd60OTJcJe845u+IZ\n",
              "AIwircnHPxcqTPIA4OqoAeKQgknOmIDYpDCJrDxM8gDgasOOfy5UxNaRZpIHALHV5GIrD5M8AIhJ\n",
              "CpvDif9ZHe5loZcHYJIHBK7k9gdsGfqMb56w5goDTidhxHJfbKFL4Tnm721ZiDDJ/WR41A7Pi4JC\n",
              "f3sfn1/o5QGY5H4zXgKh1+RMcsYExg8ZCn0IkbXJGRNw1XTye/M7hD6pyVt5hA6T3E9cEqTMjAYA\n",
              "2BwEs83xoF1CmvHlYZIz3BLMjo1EeJiEs06ImNySRwEQdllcMMn9xCVFbFSE+8MSJgGPlbv6FKn3\n",
              "anKL3YlRAb8zAUxyv3HVdAoPyYVc+7myz42Lguu26ULvTDPJ/cToUZMrRCR5XPQ0KCJd70zCLQ/A\n",
              "JPcbz5pcESn8EYn75ZFCESX88gBMcr9xXfbmtsmFK4WrPyGWPgbAJPcbo5eOp5BrPrGVB2CS+423\n",
              "0RWhSuF0kruTKZaONMAk9xtuG1bYzZVhy/3JZorICHfHk0n+B4aIvI+TC3TIzVUWmTQMkRHhouhj\n",
              "AExyv7hrdcB+77ZwYmiueLbHAYhiSBRgkvuF648vDZMgKiJc8G/vJo/hUM9HoZbHBZPcD1zNktio\n",
              "CEgkEsEPuXmWx/NRqM0vFz5L3tHRgSVLlmDevHlYtGgR52u3/2i4bio0Xgqh1nzjmyv3yyPMf1oX\n",
              "PkteWlqKLVu2oL29Hdu3b0dJSUkQYgkD47i3d5cUZpsDVruTt1yT5fckF3rH06c7OQ4ODqKlpQUn\n",
              "T54EALz44osoKyuDXq+f9B1uD503YMA0Oql9+ea//SYA9yWPibz/cu77ZzuiIoR1q+p/df4GAO7p\n",
              "Ca7H30Ys+Ox0x5Tl2LIsA5EBfO18ktxgMGD27NmQSsd2k0gkSE1NRW9v7wTJLRYLLBYLZ53DMXHK\n",
              "5t+be3HRMORj7NAiMWbsPuzhYRIkxMjw24gFfzsr3K8iSZSPlSc+RoYwydh0272n2qfs/BsWK/mT\n",
              "3Beqqqqwa9cuzrr8/PwJ2y2fPwtZcxTBihF0poWHYcMSpXt5z9ocnPzPDf4C+YlcJsWf1akAxpor\n",
              "u9fk4kLvnSnNECGVBPR4Pn3t+ODgIFQqFW7fvg2pVAoiwuzZs9HY2PhINfkrr7yCjIwMzjqHw4Hm\n",
              "5mao1WrBfBMFyzx1eObOyMjA1q1bfT8I+YhGo6G6ujoiIjp8+DDl5eX5eggORqORAJDRaPTrOFMJ\n",
              "yzx1BCK3z82VmpoalJSUoLKyEgqFAnV1db7/ZzEYU4jPkj/xxBNoamoKRhYGIyiwK54M0cO75DKZ\n",
              "DBUVFRO+DjGUYZmnjkDk9ml0hcEQIrzX5AxGsGGSM0QPk5wheniXPNSn7o6OjuKFF17AvHnzkJub\n",
              "i+LiYuj1egBjV4BXrFiBzMxMZGdn49y5czynnUhdXR0kEgmOHz8OILQzWywWlJWVITMzE0899RTW\n",
              "r18PIACOBOzS1CR59tlnOVdQFy5cyG+gcZjNZtLpdOR0OomIqLq6mjQaDRERbdy4kSoqKoiIqLm5\n",
              "mebOnUtWq5WnpBO5du0aLV68mPLz86m+vp6IQjtzeXk5lZWVuV/r/v5+IvLfEV4lv3HjBsnlcrLZ\n",
              "bERE5HQ6KSkpiTo6OviM9UDOnz9PaWlpREQ0ffp09x+CiGjRokV06tQpnpJxcTgc9Nxzz1FLSwtp\n",
              "NBq35KGaeWRkhORy+YTL94FwhNfmyoOm7oYq+/fvx6pVq3Dr1i3YbDbMmjXL/TulUhky2ffu3Yul\n",
              "S5ciLy/PvS6UM3d2dmLmzJmorKzEwoULUVBQgNOnTwfEkaBNtRUjlZWV0Ov1OH36NMxmM99xfpfL\n",
              "ly/j6NGjIdXefhh2ux09PT3IysrCxx9/jNbWVhQXF0On0/l9bF5r8pSUFPT398NuH/sMIRGht7cX\n",
              "qampfMbyyp49e3Ds2DF8++23iI6ORnx8PKRSKQYGBtzbdHd3h0T2H3/8Ed3d3cjMzIRSqcRPP/2E\n",
              "LVu24NChQyGbOTU1FWFhYVi3bh0A4Omnn0Z6ejp6enr8dySAzapJEeipu8Hg008/pWeeeYZu377N\n",
              "Wb9hwwZOJ27OnDkh04nzxLNNHsqZi4uLSafTERFRV1cXxcfHU19fn9+O8C55W1sb5efnU2ZmJuXl\n",
              "5dEvv/zCdyQOBoOBAFBGRgbl5uZSbm4uqdVqIiIaGBig4uJiUqlUlJWVRWfOnOE5rXc8JQ/lzJ2d\n",
              "nVRYWEjZ2dmUk5NDR44cISL/HWFzVxiih/eLQQxGsGGSM0QPk5whepjkDNHDJGeIHiY5Q/QwyRmi\n",
              "h0nOED1McoboYZIzRA+TnCF6/g9XjFLVGz0LYwAAAABJRU5ErkJggg==\n",
              "\">\n",
              "        \n",
              "      </div>\n",
              "      <script></script>\n",
              "      <script type=\"text/javascript\">\n",
              "        (() => {\n",
              "          const chartElement = document.getElementById(\"chart-029fc763-115c-4755-b98b-cc3a5bda9378\");\n",
              "          async function getCodeForChartHandler(event) {\n",
              "            const chartCodeResponse =  await google.colab.kernel.invokeFunction(\n",
              "                'getCodeForChart', [\"chart-029fc763-115c-4755-b98b-cc3a5bda9378\"], {});\n",
              "            const responseJson = chartCodeResponse.data['application/json'];\n",
              "            await google.colab.notebook.addCell(responseJson.code, 'code');\n",
              "          }\n",
              "          chartElement.onclick = getCodeForChartHandler;\n",
              "        })();\n",
              "      </script>\n",
              "      <style>\n",
              "        .colab-quickchart-chart-with-code  {\n",
              "            display: block;\n",
              "            float: left;\n",
              "            border: 1px solid transparent;\n",
              "        }\n",
              "\n",
              "        .colab-quickchart-chart-with-code:hover {\n",
              "            cursor: pointer;\n",
              "            border: 1px solid #aaa;\n",
              "        }\n",
              "      </style>"
            ]
          },
          "metadata": {}
        },
        {
          "output_type": "display_data",
          "data": {
            "text/plain": [
              "import numpy as np\n",
              "from google.colab import autoviz\n",
              "df_2496741079713932333 = autoviz.get_registered_df('df_2496741079713932333')\n",
              "\n",
              "def value_plot(df, y, sort_ascending=False, figsize=(2, 1)):\n",
              "  from matplotlib import pyplot as plt\n",
              "  if sort_ascending:\n",
              "    df = df.sort_values(y).reset_index(drop=True)\n",
              "  _, ax = plt.subplots(figsize=figsize)\n",
              "  df[y].plot(kind='line')\n",
              "  plt.title(y)\n",
              "  ax.spines[['top', 'right',]].set_visible(False)\n",
              "  plt.tight_layout()\n",
              "  return autoviz.MplChart.from_current_mpl_state()\n",
              "\n",
              "chart = value_plot(df_2496741079713932333, *['eosinophils'], **{})\n",
              "chart"
            ],
            "text/html": [
              "      <div class=\"colab-quickchart-chart-with-code\" id=\"chart-de069c5b-e41e-4025-990b-0f06f3372887\">\n",
              "        <img src=\"data:image/png;base64,iVBORw0KGgoAAAANSUhEUgAAALkAAABgCAYAAABBnNO7AAAAOXRFWHRTb2Z0d2FyZQBNYXRwbG90\n",
              "bGliIHZlcnNpb24zLjcuMSwgaHR0cHM6Ly9tYXRwbG90bGliLm9yZy/bCgiHAAAACXBIWXMAAA9h\n",
              "AAAPYQGoP6dpAAAPMElEQVR4nO2df0yTZ7vHv4VCASk/VVR+tECBBHFsAxm6KIqHzO0szmzuZEeW\n",
              "iRlHlkgmhyzR/XAc9we4yeZ8Of9wMIFt2dzYhsv7hpFpdMvkHQY1qNE3IBQLZYLOXxSklP64zh/Y\n",
              "0gdQnrbP05Zyf5Km9O593dfVPt/nuq/nvlsqISICg+HD+Hk6AAZDbJjIGT4PEznD52EiZ/g8TOQM\n",
              "n4eJnOHzMJEzfB4mcobPw0TO8HmYyEXg66+/Rlpamlt9NjQ0IC4u7rF9Vq5ciS+++AIAoNFoIJFI\n",
              "0NPT447wPIrU0wH4IoWFhSgsLPR0GDO4evWqp0PwCCyTM3yeBS3y8fFxvPfee0hOTkZkZCTWr1+P\n",
              "jo4OAIDZbMahQ4eQmpqK8PBwZGdno6WlxWbb39+PF154AVFRUQgPD0dGRgbOnDkDYGbpUFRUhNde\n",
              "ew2lpaWIjo5GTEwM9u/fz4mlra0N69atQ2RkJBITE7Fv3z4YDAbb80qlEhUVFcjPz0doaCgyMjLw\n",
              "yy+/zHhNtbW1UCqVCA8Px6uvvgqdTscZ4+jRo7O+F5cuXUJeXh4iIiIQGRmJrKwsdHV1OfGueiG0\n",
              "gNmxYwdt2rSJtFotGY1GqqmpoSVLltC9e/eourqaYmNj6cKFC2Q0GunYsWMUEBBAFy5cICKi7du3\n",
              "U3FxMen1ejKbzdTZ2Um9vb1ERFRfX0+xsbEcP4GBgXTs2DEymUz0xx9/kFQqpdOnTxMRUV9fH4WE\n",
              "hNDhw4fJYDDQtWvXKD09nfbs2WMbQ6FQ0OLFi6m1tZWMRiMdPXqUAgMDOT79/f2prKyMxsbG6MaN\n",
              "G6RSqejDDz/kjFFXV0dERNevXycA1N3dTUREa9eupQMHDpDRaCSj0UgdHR00NDQk3pvvRhasyG/f\n",
              "vk0AqLOzk9OuUqnoq6++otTUVPr88885z23ZsoVKSkqIiKioqIhefPFFunLlClksFk6/2US+ceNG\n",
              "Tp/s7Gw6ePAgERFVVlbSk08+yXm+qamJgoODbWMrFAoqLy/n9MnJyaGPPvrI5lMmk9HExITt+Xfe\n",
              "eYc2b95se/w4kW/YsIHefPNN6unpeeR7Nl9ZsOWKdVXhmWeeQUREhO32559/YmBgAFqtFsnJyRwb\n",
              "lUqF/v5+AEB1dTVUKhVefvllxMTEYOfOnbh58+Yj/a1YsYLzeNGiRRgZGQGAR/rS6/X466+/bG2J\n",
              "iYmcPomJidBqtbbHixcvRkBAwKw+5qKhoQESiQT5+fmIi4tDWVkZRkdHedl6OwtW5MuWLQMAXL58\n",
              "Gffv37fdxsbGsG/fPsTHx0OtVnNs1Go1EhISAADR0dE4fPgwurq60NHRAY1Gg/LycqdiiY+PR29v\n",
              "7wxfwcHBWLJkia1No9Fw+mg0mjmXDfmiUChQV1eHvr4+/Pbbbzh58iSqqqoEGdvTLFiRKxQKbN26\n",
              "Fbt370ZfXx8AYGRkBC0tLRgcHERxcTGqq6tx8eJFmEwmNDY24ueff0ZxcTEA4Ntvv4VarYbFYoFc\n",
              "LodMJoNU6tyK7Pbt29HV1YWamhpMTExArVZj//79KC4uhkQisfX78ssv0dbWBpPJhIaGBnR0dAi2\n",
              "VNnQ0ICBgQEQEcLCwiCVSp1+Pd7GghU5AHzzzTfIyspCQUEB5HI50tLSUFdXByJCeXk5du/ejW3b\n",
              "tiEqKgoff/wxmpqakJ2dDWByNSI/Px9yuRzJycmIiIhAdXW1U3EoFAqcOHEC3333HZYuXYr8/Hw8\n",
              "//zz+OSTTzj93nrrLbz//vuIiIjAoUOHcPz48RlljrP8+uuvyMnJQWhoKDIzM7FmzRrs3btXkLE9\n",
              "jYSIfcdzPqBUKvHBBx/YZhIGfxZ0JmcsDJjIGT4PK1cYPg/L5Ayfh4mc4fM4JPK3334bSqUSEokE\n",
              "Fy9eFCkkBkNYHBL5tm3b0NraCoVCIVY8DIbgOCTy9evXu7SNfOTIEadtGQxnEa0mNxgM0Ol0nNv0\n",
              "z2fMN8obL2LL/7ZiwmThbfOvGzqsrTqFxvPauTu7yPXbD/DswdNo+Od1QcazWAj/+X9n8V9fnsd8\n",
              "XoQTTeRVVVUIDw/n3Nrb28VyJzpEhH9cuoHLA8PQ3HnA2+6fPbdxY3gcJ64OiRjdJGd77+DP+3q0\n",
              "XBHG160RA9p67+Dkv25i3Mj/xPY2RBP5u+++i+HhYc4tJydHLHeiozeaYTRPZrNhvZG3nbWvIzbO\n",
              "IrQv+3HcEb9YiPYxM5lMBplMxmnz9/cXy53ocA74mHeLXCeSyJeFBwkyrrtxKJOXlJQgLi4OAwMD\n",
              "eO6556BSqcSKy+twNquxTO55HMrktbW1YsXh9ej0pqm/x/kfcGtfe3uxsGbwBxNmmMwWSP1dq0bt\n",
              "ZwShZgdPwHY8eeJqJtcbzQ6tyjiDfVy6cddPKl/J5EzkPHFV5I7aOYNOYF9M5AsMZw+40MJ7HEKL\n",
              "kol8gcGtT/mVAkTkdC3vDPYlihA1tH28YscuJkzkPBl24iJs3GjBhHmqDhczGxKR4JnXnbOQmDCR\n",
              "88SZAz69n5grFA8mzDBbprbehS5X2OrKAsCZLDm9n5jZUAxfrCZfYDhTn07vJ2Y2nD62EDU053rC\n",
              "Dev8YsFEzhP7TDY2YYbRPPea9/Ttf3dmciFOKJbJFxjOlAPzuVyZMFmgN5oFG8+TMJHzZPp0zSdT\n",
              "zixXxJvyZ5QrLvqaHrs7dmzFgomcB/ZZTS6b/LiPI5ncERtnEdqX1T5UNvXxpvm6Vs5EzgPrAZdI\n",
              "gNjIYE4bH7v4qBDeNs6iE9iX1T4iJADyIPFPUjFhIueBfVaLCAngtPGxi4/if2I4i9C+rPZhQQEI\n",
              "C+L/mr0RJnIeWKfp8OAAhAcHPGybu+a11sUJD7OrmNO9NR6rr5FxIywW57+XaZ0ZOK+Zidx3GXby\n",
              "gFv7TAnPxNmVFCNGqy8LAaMTzl98ziZylsl9GGcPuLVPXGSIrW1EpGxu9bVELoNMOnlYHfma3qPG\n",
              "Y5l8gTBrfcpDQFa76NBABAf4c9pEjVGAzGsbL1iKsGB24enzcDJ5iLUm579Ozs2G4qyV62yitL9u\n",
              "cF6U1jgdvQ7xRpjIeWCbukP4lytGswVjE5Nr6+6oa4UuL2Ybz5Xyx5P4xi8fiYz9AedbCtg/Lw8S\n",
              "V+TjRjMMD3cjHTkRH8ew3cwwvW2+wUTOg6l6V8p7zdh+B9LfTyJqXWvN2BIJEBooRZgAmzdM5AsM\n",
              "a30a5kApoJsmkjAB6uRH+hqfuuj085MIUv/bX09Mb5tvMJHzYLb6dMRggsVC8POTzGljfy9GNhTD\n",
              "1/QxXR3Pk7ALTx7YT93WsoNocnNnbpvJ/mJujc/w5aLIzRayvTa2rb9AsJ+6ZVJ/BAX4cdpnt5la\n",
              "grO/F2NDxX65D3C9NBq1O3ntZ6/Rh7PXfMNhkXd3d2Pt2rVITU3F6tWrcfXqVTHi8hrss5oj5YBu\n",
              "HpcrVrvgAH8ESv1s4801e3krDou8pKQEu3btwrVr17B3714UFRWJEJb3YL8Nb522+YjoUcITI5OL\n",
              "JXLrOIFSP9F3bMXEoQvPW7du4fz58zhx4gQA4JVXXkFpaSl6enqc/g+3jee0GNKNO2XrDnTTshow\n",
              "Jfbvzmlxoe/erHZne+9w+lpLCO09Pf52qlvQGH+/9hfX18P7WzqDU760d8cmxwmekkdYsBR6oxl1\n",
              "Z3qxRC57lKkg7FqfhKAA4f7Nt0Mi12q1WL58OaTSSTOJRIKEhAT09/fPELnBYIDBYOC0mc1mTOeb\n",
              "9n5c1N53MGz3Y39gl4ZN/v33Szd42y19eH/3wQQ+O3lNhAinfC2WBwKYrKFd8cV5zfIg3NQZ8NXZ\n",
              "PteC5MGONUrPidwRqqqqcODAAU5bbm7ujH7PrVyG9BVhYoUhCBIA/75que3xf/9bKpbKgzj/HWs2\n",
              "okIC8WLmCgCAcvEifPTSSnQOjYgSY3hwALZlTf5o2VJ5ED5+ZRUuDQw7PZ7UT4L/yI63Pf6fLStx\n",
              "vGMA7rjuDJDOvizrLA797PitW7egUqlw9+5dSKVSEBGWL1+O1tZWXpn8jTfeQFJSEqfNbDajvb0d\n",
              "OTk58+aXKFjM7sM+7qSkJOzZs8fxQchB8vLyqL6+noiIvv/+e8rKynJ0CA7Dw8MEgIaHh10ax52w\n",
              "mN2HEHE7XK7U1taiqKgIlZWVCAsLQ319veNnFoPhRhwWeVpaGtra2sSIhcEQBbbjyfB5PC5ymUyG\n",
              "ioqKGT+H6M2wmN2HEHE7tLrCYMxHPJ7JGQyxYSJn+DxM5Ayfx+Mi9/aP7o6Pj2Pr1q1ITU1FZmYm\n",
              "CgoK0NPTA2ByB3jz5s1ISUlBRkYGfv/9dw9HO5P6+npIJBL89NNPALw7ZoPBgNLSUqSkpGDVqlV4\n",
              "/fXXAQigEcG2ppxk48aNnB3U7OxszwY0Db1eT83NzWSxWIiIqKamhvLy8oiIaOfOnVRRUUFERO3t\n",
              "7RQbG0sTExMeinQm169fpzVr1lBubi4dP36ciLw75rKyMiotLbW914ODg0TkukY8KvKbN2+SXC4n\n",
              "o9FIREQWi4ViYmKou7vbk2E9lnPnzpFCoSAiokWLFtkOBBHR6tWr6eTJkx6KjIvZbKZNmzbR+fPn\n",
              "KS8vzyZyb415dHSU5HL5jO17ITTi0XLlcR/d9VaOHDmCl156CXfu3IHRaMSyZctszymVSq+J/bPP\n",
              "PsOzzz6LrKwsW5s3x6xWqxEVFYXKykpkZ2dj3bp1OHXqlCAaYd/Wd4DKykr09PTg1KlT0Ov1ng7n\n",
              "kVy5cgU//vijV9Xbc2EymdDX14f09HQcPHgQHR0dKCgoQHNzs8tjezSTx8fHY3BwECbT5PcGiQj9\n",
              "/f1ISEjwZFizUl1djaamJrS0tCAkJATR0dGQSqUYGhqy9dFoNF4R+5kzZ6DRaJCSkgKlUomzZ89i\n",
              "165daGxs9NqYExIS4Ofnh8LCQgDAU089hcTERPT19bmuEQHLKqcQ+qO7YvDpp5/S008/TXfv3uW0\n",
              "79ixg3MRt2LFCq+5iLPHvib35pgLCgqoubmZiIh6e3spOjqaBgYGXNaIx0Xe2dlJubm5lJKSQllZ\n",
              "WXT58mVPh8RBq9USAEpKSqLMzEzKzMyknJwcIiIaGhqigoICUqlUlJ6eTqdPn/ZwtLNjL3Jvjlmt\n",
              "VtOGDRsoIyODnnjiCfrhhx+IyHWNsM+uMHwej28GMRhiw0TO8HmYyBk+DxM5w+dhImf4PEzkDJ+H\n",
              "iZzh8zCRM3weJnKGz8NEzvB5mMgZPs//A20UJc+obHtXAAAAAElFTkSuQmCC\n",
              "\">\n",
              "        \n",
              "      </div>\n",
              "      <script></script>\n",
              "      <script type=\"text/javascript\">\n",
              "        (() => {\n",
              "          const chartElement = document.getElementById(\"chart-de069c5b-e41e-4025-990b-0f06f3372887\");\n",
              "          async function getCodeForChartHandler(event) {\n",
              "            const chartCodeResponse =  await google.colab.kernel.invokeFunction(\n",
              "                'getCodeForChart', [\"chart-de069c5b-e41e-4025-990b-0f06f3372887\"], {});\n",
              "            const responseJson = chartCodeResponse.data['application/json'];\n",
              "            await google.colab.notebook.addCell(responseJson.code, 'code');\n",
              "          }\n",
              "          chartElement.onclick = getCodeForChartHandler;\n",
              "        })();\n",
              "      </script>\n",
              "      <style>\n",
              "        .colab-quickchart-chart-with-code  {\n",
              "            display: block;\n",
              "            float: left;\n",
              "            border: 1px solid transparent;\n",
              "        }\n",
              "\n",
              "        .colab-quickchart-chart-with-code:hover {\n",
              "            cursor: pointer;\n",
              "            border: 1px solid #aaa;\n",
              "        }\n",
              "      </style>"
            ]
          },
          "metadata": {}
        },
        {
          "output_type": "display_data",
          "data": {
            "text/plain": [
              "import numpy as np\n",
              "from google.colab import autoviz\n",
              "df_3793705293120712446 = autoviz.get_registered_df('df_3793705293120712446')\n",
              "\n",
              "def value_plot(df, y, sort_ascending=False, figsize=(2, 1)):\n",
              "  from matplotlib import pyplot as plt\n",
              "  if sort_ascending:\n",
              "    df = df.sort_values(y).reset_index(drop=True)\n",
              "  _, ax = plt.subplots(figsize=figsize)\n",
              "  df[y].plot(kind='line')\n",
              "  plt.title(y)\n",
              "  ax.spines[['top', 'right',]].set_visible(False)\n",
              "  plt.tight_layout()\n",
              "  return autoviz.MplChart.from_current_mpl_state()\n",
              "\n",
              "chart = value_plot(df_3793705293120712446, *['lymphocytes'], **{})\n",
              "chart"
            ],
            "text/html": [
              "      <div class=\"colab-quickchart-chart-with-code\" id=\"chart-c8715bf4-e0c2-4492-9d34-caf33da59e26\">\n",
              "        <img src=\"data:image/png;base64,iVBORw0KGgoAAAANSUhEUgAAALkAAABgCAYAAABBnNO7AAAAOXRFWHRTb2Z0d2FyZQBNYXRwbG90\n",
              "bGliIHZlcnNpb24zLjcuMSwgaHR0cHM6Ly9tYXRwbG90bGliLm9yZy/bCgiHAAAACXBIWXMAAA9h\n",
              "AAAPYQGoP6dpAAAVKUlEQVR4nO2deXAU1b7HvzOZZEIyk4SQkG3IBgk+HhIRkxsMErxUClHQ1HOh\n",
              "FBGxgICmXKh6ekVKtOoJXhfKKEVVtJSnr6ReufKsC95HjChE8cWQKMgaICEJZIPATEhmJrP83h8z\n",
              "3enu2XqSnsVJf6qmkl7Or399zrfP+Z2lZxRERJCRiWCUoXZARibQyCKXiXhkkctEPLLIZSIeWeQy\n",
              "EY8scpmIRxa5TMQji1wm4pFFLhPxTAiRL1q0CFu2bAnZ9V955RUsWLAgZNef6EwIkU90JvpDJotc\n",
              "JuKZUCJftWoV1qxZw9vX1NQEtVqNvr4+tLe3Q6FQ4KOPPsKcOXMQHx+PBQsWoKurCzt37kROTg6S\n",
              "kpJQVVUFm83G2lAoFNixYweKi4uh0WhQUlKCpqYml+u/+uqryMjIQHJyMqqqqmC1Wtljp06dwtKl\n",
              "S5GSkgKdToeqqiro9Xr2uNFoxJYtW1BYWAitVov8/Hx8/PHHMBgM0Gg0+PHHH3nXqq6uRmVlJT79\n",
              "9FNs27YNR44cgUajgUajweHDhwEAp0+fxrJly5CWloasrCw8+eSTGBoaAgAQEV5++WXodDpotVro\n",
              "dDps3rx5/IUQCmgCUF5eTi+99BL99NNPFBcXR9evX2ePrV27llasWEFERG1tbQSAKioqqLe3lwYH\n",
              "B6msrIwKCwvp+eefJ5PJRK2trZSYmEh79uxhbQCg6dOn04kTJ8hkMtHWrVspJSWFvc7WrVtJpVLR\n",
              "m2++SWazmc6cOUOTJ0+mjz76iIiIDAYDZWZm0qZNm2hoaIguX75MCxcupPvuu4+9xsqVK6m4uJhO\n",
              "njxJdrudLl26REePHiUionXr1tEjjzzCnjs0NESJiYn07bffstcvKyvj5Ul/fz+lpKTQjh07yGQy\n",
              "UX9/Py1evJjWrl1LREQHDhygrKwsunjxIhERXb16lX7++WdJyiPYTCiRExEVFRXRzp07iYhIr9dT\n",
              "fHw8HTx4kIhGRX7o0CE27TvvvENxcXFktVrZfcuWLaNnn32W3QZA7777Lrtts9koPT2dPvnkEyJy\n",
              "iCwvL4/n0wMPPEAbNmwgIqI9e/ZQSkoKWSwW9nhzczMBoO7uburv7ycA9Ouvv7q9v+bmZlKr1XTl\n",
              "yhUiIvrwww8pLy+P7HY7e32hyN9++20qLS3l7WtoaKCYmBiyWq30ww8/0JQpU2j//v00PDzs9rp/\n",
              "FiZUuAIAGzduxPvvvw8A+PTTT6HT6bBo0SLeORkZGez/8fHxSE1NRVRUFG/f4OAgL01eXh77v1Kp\n",
              "RE5ODjo7O9l9mZmZvPO5Njo7O5GTkwOVSsUenzFjBgCgo6MDbW1tAICZM2e6vae5c+di7ty5+Pjj\n",
              "jwEAtbW1WLduHRQKhcd8aG1txdGjR5GUlMR+7r77bigUCvT09KC8vBxvvPEGXn/9daSlpWHhwoWo\n",
              "q6vzaC+cmXAiX7lyJdrb2/HLL7+gtrYWVVVVkthtb29n/7fb7ejo6IBOpxOVdtq0aejo6ODF6OfP\n",
              "nwcAZGdnIzc3FwBw9uxZjzY2btyIDz74AC0tLWhpacETTzzBHlMqXYs5PT0dCxYswPXr19mPXq+H\n",
              "yWRCVlYWAOCJJ57Ajz/+iP7+flRWVmL58uUuD/efgQknco1Gg1WrVuGpp57CmTNnsHr1akns1tTU\n",
              "4NSpUxgZGcFrr72GkZER3HvvvaLS3nPPPVCpVNi8eTOMRiN6enrw3HPPYfny5UhPT0dqaioefvhh\n",
              "1mcA6O7uRnNzM2vjoYceQn9/P9auXYvKykqkpaWxx9LT09HR0QGTycTuW7NmDVpaWrBr1y4MDw+D\n",
              "iNDZ2Ym9e/cCABobG3Ho0CEYjUbExMRAq9VCoVDwWrQ/CxNO5ACwYcMGNDc348EHH0RycrIkNjdu\n",
              "3IhVq1YhOTkZ33zzDfbv34+kpCRRaRMSElBXV4fff/8dOp0O8+bNw4wZM9jwAwA++OADlJeXY+nS\n",
              "pdBoNCgrK8OJEyfY47GxsVizZg2am5uxYcMGnv0VK1Zg5syZyMzMRFJSEhoaGpCdnY0jR46grq4O\n",
              "06dPR1JSEpYsWYLjx48DAG7cuIFNmzZh6tSpSEpKwvvvv4+vv/4acXFx48+sYBPqTkEouHbtGqnV\n",
              "ampoaJDEHgCqq6uTxNZ42LVrFxUUFLAdThkHE64mt9ls+Pvf/46ioiKUlZWF2h3JGBgYQE1NDZ57\n",
              "7jmvHc6JyIQS+fHjx5GQkIAvv/ySHWGJBF588UXodDrcfPPNWLduXajdCTsURPJXUshENhOqJpeZ\n",
              "mMgil4l4/BL5008/jdzcXCgUCvz2228BcklGRlr8EvkDDzyAhoYG5OTkBMofGRnJ8UvkCxcuFD1V\n",
              "7Y6ampoxp5WRGSsBi8nNZjMMBgPvc+HCBY/nN7Rewfzt9Th4us+v61T9VxMeqj0Cm90xSNTYNoD5\n",
              "2+vxzz96/LLzzH+3YPrm/bzPrJf/if/57ZJfdqRmb8slzN9ej2Nd10Wnsdrs+LddP6F6T7Pvk/2k\n",
              "/lQv5m+vx0/nrrgcq/muFeVvHkT/oBkA0DdowsI3DuK9+lb2nJ3ft2LhGwfRazC5pA8UARP59u3b\n",
              "kZiYyPs0NjZ6PP/7033o1ptQf7pX9DVMFhv+90QvGtsG2Ez74YzDznenxNux2wnf/H4ZNjvxPsMj\n",
              "NtSdFG8nEBw42YNuvQmHW11F5Ymua0Y0d1zHP451sw+/VHx3ypG/P5xxrYz+cewyLl4dRnPHNQDA\n",
              "0fZr6BgYxr7j3ZxzutExMIym9muS+uWNgIn8xRdfhF6v531KSko8nq83Wpx/rR7PEWJwpuGn5/8V\n",
              "w6DZCma24PDzd+L/Ni/GK8tn+W0nEIzlfrjnDpqk9d/gxR9PZcA911v6QKHyfcrYUKvVUKvVvH3e\n",
              "VrCNtzDHI3Im42OjlZiW7FiAxPw1hIvIh8eeL0lxMdL740XkQiF7K6dg4FdNXlVVBZ1Oh66uLixZ\n",
              "soRd2C8FY3nCvWWeP+Jk0iTERrP7EiZF++1PIJDq4Q+0PyaLDWar3e05wyM2WGx2WGx2DI3YAuKX\n",
              "N/yqyWtrawPlBwzOZnXQnxqY0xQzojaYrLxtUXac5yZOGhU58z9jL1QYnOGbwY+wg58v0vrP2Bba\n",
              "dV8W/H3chWP+3M94CVi44i9S1VjjaRHciVxvtICIQrKyz24nVgzhXpO77x9Zefu4eRi24Uog4Wae\n",
              "2DVj3DhVKO4hZxPpz7UTOCJnQhebndgmNthwO8ThIHK7nUZraYFdX3G33mhx2wENBmEhcovNjmGn\n",
              "kKzOoTsxCGsKIhpTRrqryWOjlYiJUvKOBxt3tWMg0/nixogVzIjkoNnKG56URe4D4Q2Ljdd4MZ/J\n",
              "iuERGy/jxcbTjB2uyBUKBVuzh2qEhSuKG2Yr7CLHvLnxspSxrzAfBj3E/ky+c/tXBpM1YA+fL8JC\n",
              "5MIbFpsB3mqKsdjhhiuObZVfdqSGKwoiYFDkQxuocMVb/vpbk8siFzkmLJ3IHeJJiOX3wxNDPIwo\n",
              "1cMfDH+E/7sLHXnbJqvovtd4CYvRFSkK02C0eO0MibGTKKjJI0HkUoZaYjqbADBiteP6sAVWbuho\n",
              "tACcASqmQ69RB16CYSFyYewsOpb2UZOLLWB34+Tc7VDF5MJ4ekx9FUlFbvW4LbxO57Vh3rZjCBEu\n",
              "+4Ih8vAMV/wUJ5NmvHaEImeGEcOh4+lu2x3cYT6xaaTwR3isY8BV5GMNS8dLeNTkEjTLZqsdfc4l\n",
              "np7s+rIj7Hj+GcMV7jCf2DRS+CNG5MKaPFiznmEh8rGEGVbOOgiGrmtGvh0RmUhEbocQuduhmtp3\n",
              "DQ9834/rcKxVshlbb+GTMI86B1zLQgG+D8GqPMIiXGEKRuuMz0QVJidTmbiuyxkHMnbEZKLRYoPF\n",
              "5qj6XMKVEA8h6gX5IsYPYRopZ2y9+SMsQ3dlMZb7kYKwEDlzs8zyVn8KU6NWITnesZSUaSLHYkel\n",
              "VCAuhr8UOFzClbHcz9QEteQztt78ER5zKYthi8s5werrhJnIJ/G2xaRJiFWxNe4lZ7gyJjuTol2a\n",
              "9FAvtzWMIV+4nWi2JZKogycsJ+ZaVpsdN8xW3jFhWQyarewMqTB9oAkrkWczT7iIWNrAESdT4zLj\n",
              "sqwdEctMmXOEoQp3X6iHEEfzxb/7YZclSNTBMwjLybnNnYmdNtlxjCkLZpsIbIc424+WSQrCQuTC\n",
              "wvSnBk7kiJxhLHaEIyvA6BBiKGpy7ozhePNFunDF6tYf5m98TBSSNfy3kFK1asRGj8osRqXEVG0s\n",
              "gOB16MNC5ExzqpNI5DpOi+BrUZOn2U4ASIxz7DNb7TBZgrvcltsh1vkRwwZK5ESj4+/CcvJWFsJ9\n",
              "gXj4fBFykdvthEEmnnM2bSaLHWard1Fxa2Dua2tcO0Rgbfu0E+s6mqqJUUHpDNODHbIwfkUpFchI\n",
              "jOXtE5OOmy9S+G6y2DHiXJ/P5C8zPOmtLIT7eH2FiSLyQdPoiwG6yZPYCQNf8TR3bFsYaqRq1VCr\n",
              "lE473jPS02wnACiVCmhjpY1rxcKNrbl9A1+Lmrj5ImWfgrEbpVQgM8nx0DHDk8yxBBE1uWOgYILV\n",
              "5EwGxUYrERsdJXoM1eChiVQoHOOwYptEb+EKd3+w43J3IYCYF0q4taqUvnNbvEnRUbzhybGGKxNm\n",
              "dEUoMiYO9kec/JoiGkqlQnRGckdp3BFqkSdMisak6ChERylE+RGomJxrl/tCCXf8W47JPSAUudg4\n",
              "clQEKv67mc54T2yT6KsmD9WsJ7fmVCgUokd6RtNJG/sygwNMvnJt86/pusgtQSByZjtYHfqwETlT\n",
              "iKPrRXzVwK4xKze9aDse1q0I7Un91Q6+EPYVxLdMbmJ5CYbqhPnEzV/e2DynA69QANpYlYvIeR36\n",
              "IPR1Qi5yT4U51nBlPHbcEepwhW3hRPjBHeZLjIuWtIMnnE/g5stoGaqgilKya4m0ahUvdGTSK5XB\n",
              "fX825CL3FK74mormNZGc2oNJz+zzp3l3R6im9oWiEuMHd5gvIVYl6WSWMJ+4YaWLr7Eqt9v8fcHL\n",
              "17AROVtDxPkOM+x2YtdBCIcQXZt3H0ORXqb1gdC9OOE5PPB8P9xhPg1nhEmSIURBPnFtC30V1vbj\n",
              "aWmlwG+Rt7a24vbbb0dhYSGKi4t5vwo8Frw1g57gvhiQMCka0VFKxDtXEPrTvI9Y7TA6Oz7hFq64\n",
              "hnG+WyZhZ1XKGVuXUTBOvng6Jkbkwejr+C3yqqoqrF+/HmfPnsULL7yAxx9/fFwOMDWTP+JkQhm1\n",
              "yjG27i69GHEyx5gOkjvCJSYXUysL00g5YzsukceFtib3682gvr4+NDU14cCBAwCA+++/H9XV1Th3\n",
              "7tyYv+HWNSZ3uHSqexDvcn6hgMuVG47X3PhDh9G4rDe5xLCtvZ7tXHc+LBpnB8kdjJ22K0Me7QSC\n",
              "9quO9djCGLixbcCjH+1XhhznOn1mZmz1Rgt2/XCeXXc/Fs70Gpy2Vby/xy7pXeYahHG3u28LZtLX\n",
              "nex1Efr6hfls5SUFfom8s7MTGRkZUKkcyRQKBbKzs9HR0eEicrPZDLOZ/86lzebaZApFzqxQ6xgY\n",
              "xo66s179SdWMfv95qlaN0z2D7L6pWsffy3qTbztatcdjjJ2+QbNPO4GA8W1qguPvyW4DTnYbvKfh\n",
              "5MtUrRp6owX/+XO7NP6w+esopwv9jgcrOkrBKUM1z/fJcTFQOSuRyc5aPdWZvuHcFTQIfppl9fzc\n",
              "0IncH7Zv345XX32Vt6+0tNTlvKWz0zEzTYOcKY5FPyV5yfj3JTNx6brR5VwuSgVQeUsWu/23pTfh\n",
              "L3l9uPOmVADALdOS8LelN7m8UCtEAWDZnEyPx29K12LLPf+CC85aMphMT9WgME0DAFjyr+l4+q9D\n",
              "uDI04jVNtFKBh/+SzW7/R+VsfPP7ZUjxNT5ZSZNQnJsMAFhQkIJNFYXocf6Mzfz8KawwV9+eixiV\n",
              "Eo+UOPyYFBOFHStuAREhLsYhuUdLs2Gy2NiXLXj3oJL2G4T9+tnxvr4+zJgxAwMDA1CpVCAiZGRk\n",
              "oKGhQVRN/thjjyE/P5+3z2azobGxESUlJV5/iSKckH0OHly/8/Pz8cwzz/hvhPykvLycdu/eTURE\n",
              "n3/+Oc2bN89fEzz0ej0BIL1ePy47wUT2OXhI4bff4UptbS0ef/xxbNu2DQkJCdi9e7f/T5aMTBDx\n",
              "W+QzZ87EkSNHAuGLjExACPmMp4xMoAm5yNVqNbZu3eryc4jhjOxz8JDCb79GV2Rk/oyEvCaXkQk0\n",
              "sshlIh5Z5DIRT8hFLvXSXakxmUyorKxEYWEhioqKUFFRgXPnzgFwzADfddddKCgowOzZs3Ho0KEQ\n",
              "e+vK7t27oVAosHfvXgDh7bPZbEZ1dTUKCgpw880349FHHwUggUYkm5oaI3feeSdvBvW2224LrUMC\n",
              "jEYj7du3j+x2OxERvffee1ReXk5ERGvWrKGtW7cSEVFjYyNlZWXRyMhIiDx1pa2tjebPn0+lpaX0\n",
              "9ddfE1F4+/zss89SdXU1m9fd3d1ENH6NhFTkvb29pNVqyWKxEBGR3W6ntLQ0am1tDaVbXvn1118p\n",
              "JyeHiIji4+PZgiAiKi4uprq6uhB5xsdms9HixYupqamJysvLWZGHq883btwgrVbrMn0vhUZCGq54\n",
              "W7obrtTU1OC+++7D1atXYbFYkJ6ezh7Lzc0NG9937NiBsrIyzJs3j90Xzj6fP38eycnJ2LZtG267\n",
              "7TbccccdqK+vl0QjYfFzKn8Wtm3bhnPnzqG+vh5Go/elwKHkjz/+wJdffhlW8bYvrFYrLl68iFmz\n",
              "ZuH1119HS0sLKioqsG/fvnHbDmlNPm3aNHR3d8NqdawpJiJ0dHQgOzvbR8rg89Zbb+Grr77Ct99+\n",
              "i7i4OEyZMgUqlQo9PT3sOe3t7WHh++HDh9He3o6CggLk5ubil19+wfr16/HZZ5+Frc/Z2dlQKpVY\n",
              "uXIlAGDu3LnIy8vDxYsXx68RCcOqMSH10t1A8Pbbb9Ott95KAwMDvP2rV6/mdeIyMzPDphPHhRuT\n",
              "h7PPFRUVtG/fPiIiunDhAk2ZMoW6urrGrZGQi/z06dNUWlpKBQUFNG/ePDp27FioXeLR2dlJACg/\n",
              "P5+KioqoqKiISkpKiIiop6eHKioqaMaMGTRr1iz6/vvvQ+yte7giD2efz58/T4sWLaLZs2fTnDlz\n",
              "6IsvviCi8WtEXrsiE/GEfDJIRibQyCKXiXhkkctEPLLIZSIeWeQyEY8scpmIRxa5TMQji1wm4pFF\n",
              "LhPxyCKXiXhkkctEPP8P5VFyF4JK/skAAAAASUVORK5CYII=\n",
              "\">\n",
              "        \n",
              "      </div>\n",
              "      <script></script>\n",
              "      <script type=\"text/javascript\">\n",
              "        (() => {\n",
              "          const chartElement = document.getElementById(\"chart-c8715bf4-e0c2-4492-9d34-caf33da59e26\");\n",
              "          async function getCodeForChartHandler(event) {\n",
              "            const chartCodeResponse =  await google.colab.kernel.invokeFunction(\n",
              "                'getCodeForChart', [\"chart-c8715bf4-e0c2-4492-9d34-caf33da59e26\"], {});\n",
              "            const responseJson = chartCodeResponse.data['application/json'];\n",
              "            await google.colab.notebook.addCell(responseJson.code, 'code');\n",
              "          }\n",
              "          chartElement.onclick = getCodeForChartHandler;\n",
              "        })();\n",
              "      </script>\n",
              "      <style>\n",
              "        .colab-quickchart-chart-with-code  {\n",
              "            display: block;\n",
              "            float: left;\n",
              "            border: 1px solid transparent;\n",
              "        }\n",
              "\n",
              "        .colab-quickchart-chart-with-code:hover {\n",
              "            cursor: pointer;\n",
              "            border: 1px solid #aaa;\n",
              "        }\n",
              "      </style>"
            ]
          },
          "metadata": {}
        },
        {
          "output_type": "display_data",
          "data": {
            "text/plain": [
              "import numpy as np\n",
              "from google.colab import autoviz\n",
              "df_1286319128928256728 = autoviz.get_registered_df('df_1286319128928256728')\n",
              "\n",
              "def value_plot(df, y, sort_ascending=False, figsize=(2, 1)):\n",
              "  from matplotlib import pyplot as plt\n",
              "  if sort_ascending:\n",
              "    df = df.sort_values(y).reset_index(drop=True)\n",
              "  _, ax = plt.subplots(figsize=figsize)\n",
              "  df[y].plot(kind='line')\n",
              "  plt.title(y)\n",
              "  ax.spines[['top', 'right',]].set_visible(False)\n",
              "  plt.tight_layout()\n",
              "  return autoviz.MplChart.from_current_mpl_state()\n",
              "\n",
              "chart = value_plot(df_1286319128928256728, *['metamyelocytes'], **{})\n",
              "chart"
            ],
            "text/html": [
              "      <div class=\"colab-quickchart-chart-with-code\" id=\"chart-4addace4-1159-4fc2-811f-1344673d3a39\">\n",
              "        <img src=\"data:image/png;base64,iVBORw0KGgoAAAANSUhEUgAAALkAAABgCAYAAABBnNO7AAAAOXRFWHRTb2Z0d2FyZQBNYXRwbG90\n",
              "bGliIHZlcnNpb24zLjcuMSwgaHR0cHM6Ly9tYXRwbG90bGliLm9yZy/bCgiHAAAACXBIWXMAAA9h\n",
              "AAAPYQGoP6dpAAARb0lEQVR4nO2deVBTZ/fHv4GEJZIQBCvUABFZqkCxgohVFou0atvRsTrdbKV1\n",
              "BrRVcaYzOu0/1HYE+1Yd/dlfR/Q3QztWat1nfvLqFHFvbalWX1tGqiwKCLiwiwnZzvsH5pqwmZXc\n",
              "xOczkyG53OfJybnfnOfc8zz3RkBEBAbDjfFwtgEMhqNhIme4PUzkDLeHiZzh9jCRM9weJnKG28NE\n",
              "znB7mMgZbg8TOcPtYSJ3IT7//HPMnDnT2Wa4HE+9yL/77jvI5XJnm8E7Tp8+DYFAAK1W62xTbOap\n",
              "FznD/XE5kWdkZGDVqlV48803IZVKIZfLsXfvXvz111+YPn06JBIJkpOT8c8//wAAdDodNm/ejIkT\n",
              "J8Lf3x+JiYkoLy8HAJw7dw7Lly9HU1MT/Pz84Ofnhz179gAAcnJyoFAo4Ofnh/HjxyM/Px96vd5q\n",
              "O8rLyyGVSvHgwQOTzxMfH4+tW7cCAFQqFT777DNMmDABAQEBSEtLw+XLl4f0RUdHB3JyciCXyxEU\n",
              "FIS5c+dy72fg+++/x+TJk+Hv74+xY8ciLy8PAJCamor169eb7HvgwAGMHTsW9fX1mDt3LgBAJpPB\n",
              "z88PBQUF3HuuWLEC4eHhCAwMxLx581BbW8v1sW/fPsTGxkIqlSIoKAizZ88246g6GHIx0tPTyd/f\n",
              "n86cOUM6nY62bt1KYrGY5s2bR3V1ddTb20sLFy6kl19+mYiI8vPzKSEhgaqqqkin09GhQ4dILBZT\n",
              "dXU1EREVFxfTuHHjBrzPrl27qKWlhfR6PV24cIFGjx5NO3bssNoOvV5P0dHRtHPnTq6P8+fPk6+v\n",
              "L7W1tRER0dKlSykzM5MaGhpIo9HQ9u3bacyYMdTe3s59lhkzZnDtX3vtNcrIyKDm5mbq6emhvLw8\n",
              "ksvl1N3dzX2GoKAgKisrI41GQ11dXXT69GkiItqzZw+FhoaSTqfj+ps9ezatW7eOiIhOnTpFAEij\n",
              "0XD/1+v1lJGRQe+88w61traSSqWitWvX0sSJE0mtVlNPTw+JRCIqLy8nIiKlUsk9dyYuKfIPP/yQ\n",
              "e93R0UEAqKSkhNt24MABkslkREQklUrp+PHjJn3Mnj2bvvzySyIaWuT9Wb16NS1cuNBqO4iItmzZ\n",
              "QklJSdzr9957j5YuXUpERPfv3ycAVFVVZfK+kZGRtHv3biIyFXlTUxMBoCtXrnD7qtVqCgwMpB9/\n",
              "/JGIiGJjY+nrr78e9PP09vbSmDFj6OjRo0REVF1dTZ6enlRTU0NEg4v80qVLJBKJuC8REZFWqyUf\n",
              "Hx86d+4c9fT0kFgspm+++Ybu3bs3pC9HGpdLVwAgJCSEez5q1KhBt3V3d+POnTvo6urC4sWLIZPJ\n",
              "uMevv/6K27dvD9k/EWHDhg2IjY1FQEAAZDIZioqKcPfuXavsMJCdnY3KykpcvnwZ7e3t2L9/P3Jz\n",
              "cwEA1dXVAIBp06aZ2Hr79m00NjYOsLGhoQEAMGHCBG6bSCRCeHg46uvrAQB1dXWIiYkZ9DN6eXlh\n",
              "2bJlKCoqAgDs3LkTmZmZiIiIGNIvN27cgFarhVwu5+wLDAzk7BGLxTh+/DhOnDiBmJgYxMfHY9u2\n",
              "bUP2N1IInW2AI5HJZPDx8cHRo0eRlpY26D4eHgO/53v37sXWrVtx/PhxTJ48GZ6ensjLy8OlS5ds\n",
              "sicgIABvvfUWioqK8NxzzyE6OhrTp08HAAQHBwMArl69irCwsCf2FRoaCgCoqalBQkICAECr1aK+\n",
              "vp5rr1AocP369SH7yM3NRUxMDGpra1FcXMwJHhjcL8HBwfDy8sK9e/cgEokG7TM1NRWpqakgIpw5\n",
              "cwZz5szBpEmTkJWV9cTP5ChcMpKbi7e3N5YvX461a9fi2rVrICIolUqcPXuWO/jBwcG4f/8+Wltb\n",
              "uXadnZ0QCoV45plnIBAIcOrUKfzwww92semjjz5CSUkJvv32Wy6KA0B4eDgWLFiAjz/+GLdu3QIA\n",
              "dHd349ixY2hubh7QT0hICObNm4dPPvkEd+7cgVKpxLp16+Dl5YVXX30VAJCXl4evvvoKJ0+ehE6n\n",
              "Q3d3N86cOcP1oVAokJWVhcWLF0MkEuH111/n/mf40hmfyM6cORNxcXFYsWIFN6q1t7fj4MGDePjw\n",
              "IVpaWrB//350dHRAIBBAJpNBIBBAKHRuLHVrkQPApk2b8Pbbb3Mpi0KhQGFhITQaDQDgpZdewvz5\n",
              "8xEdHQ2ZTIaSkhJkZ2cjMzMT8fHxCAoKwo4dO7BkyRK72JOUlISYmBg0NTUN6LOkpASJiYnIysqC\n",
              "RCJBTEwMdu3aBRriCsXdu3dDoVBgypQpkMvlqKysxIkTJyCRSAD0VYgKCwuxZs0aBAQEICoqCkeO\n",
              "HDHpY8WKFfjzzz+xbNkyEzFGR0dj1apVmDVrFmQyGTZu3AhPT0+UlZVBLBZj2rRpkEgkSEhIwOHD\n",
              "hyEQCEBE2LFjByIiIuDn54dFixZhw4YNmDVrll18Zy0CGsqDDIdhKDvu2rXL2abg2rVriIuLQ11d\n",
              "nVlpkivCRD7CXLlyBSkpKbh06RJiY2OdaotarcayZcugVqvx008/OdUWR+L26QqfSE1NRVpaGr74\n",
              "4gunC7y0tBQBAQGorKzE5s2bnWqLo2GRnOH2sEjOcHuYyBluj0UiX716NRQKBQQCAa5cueIgkxgM\n",
              "+2KRyBctWoTz588jPDzcUfYwGHbHIpGnpaXZdIHBUOsYdHqCTs/OfxmOwWE5eW9vL7q6ukwexuuO\n",
              "DSz89hdM+OzfuFDTOkgv5vN/52ox86uTaGh7aFM/TyNfHa/CS5tOo+Oh2uw2LZ0qpP7rJP73VLUD\n",
              "LbMPDhN5YWEh/P39TR4VFRUD9hM+WgjUqdTY9H6lfzWjsV2Jiro2m/p5Gvn//zSh9n4P/tPYaXab\n",
              "ipttaGhT4t9/DVxXwzccJvJPP/0UnZ2dJo/k5OQB+0l9+1az2SpyQ3tb+3kascZ3ruRvhy0P8/b2\n",
              "hre3t8k2T0/PAftJfftM6FLZ5qwuF3I6n9DpCd2qvouVLfGdK/nbokiem5sLuVyOxsZGvPLKK4iM\n",
              "jLTZAH87RHIicqnIwie6jYJLlxWRvFul5X3RwKJIbryo3l7YQ+QqjR4aXZ+jbR0Rnja6lFqj55ZH\n",
              "cgB4oNLCXzz4RRR8wOkznvYQuXFbSw4Uw9R31uTklrZzBk4XudSnT+S2iNOVHM43mMhHAEMkZyJ3\n",
              "DsbpnUUnnla2cwbOF7nY9nSlyyRdcf3bmo0kJqmeBecz1rZzBs4XuZ1zcr5HFb5hdbry0HV87nSR\n",
              "czm5SjvkBbtPwtjJSo0Oaq1+mL0ZxhiPgsbCHQ69ntDd+3jEZCJ/AoZIrtMTetQ6q/ro72S+O51P\n",
              "GPuqu1cLvRk17+5eLYzjEd/97XSR+4g84OVp2/qV/jkh33NEPmHscyKYROih6F8k4HvZ1ukiFwgE\n",
              "3NS+ucNlf1gkt57+vjJHsK7mb6eLHHi8SMvaCNz/wPDd6XyiS2Uauc3xnav5mxcit7XC0r9syPfh\n",
              "k09Yk3oMiP4qfpdt3ULkhnYS70crGpnIzaa/78w5Bq7mb16I3NapfYPTQ0eLTV4zhoeIOJ9b4jtD\n",
              "Wukq/uaFyG2d2n8scl+T14zheajWQfuoZGiJ7wbzN5/vUcUrkVsjTrVWD6Wmr74e9iiysKl98zD4\n",
              "W+ghQIh/n2DNOfk3tDP4W6cnPLRyjmMkcHmRGx8UeYBrDJ98weA7f1+RRZchGoLIWKkPRJ4Cs9s5\n",
              "C16InKuTW+Eo7iTIRwiZHRZ7PU0Y5iX8fUVGgebJo6DBv6bt+OtzXoicy8mtKEUZnCv1sSwaMYwC\n",
              "hK8IUh/Lqyv+viKuaMBnn/NC5LaIs2uQqMKm9c1jsIhszsm/YR+pUZrD5zIiL0Ruy5DnakMnnzCM\n",
              "nBaLXOVaPueFyG0Z8gaL5K5wBTkfeBwghGZfvGJ8ZwQmcgswOFit1UOlsawUxeXkvkLuywKY3mqB\n",
              "MThdxuczRoFmuJq3UqPj7ozQV5Xh/6wnL0Tu5yWER18lymJnGQ+5XkIP+Io8H/XDauVPYrBRUKsn\n",
              "bt5h8DZ9fhV6CCD28rSpaDBS8ELkHh4Cq08+jctgxn/5PHzyBeO0Q+zlCaHHk2venUYnnQKBwCX8\n",
              "zQuRA9bn5cZO7/trfc39aaO/YM0JNMZfDMC286mRgjcit7b8Z3ymb0s/TyP9Bfu4wjJ06tE/qNjj\n",
              "liKOxmKR37hxAy+++CKio6MxdepUVFZW2sUQa4e9oZzO58jCF/oHCHMiedcQXww++9tikefm5iIn\n",
              "JwfXr1/HunXrkJ2dbRdDOGdZeAncgOHTBZzOF4aK5BalKy7gb4tu+Hn37l1cvHgRP//8MwDgjTfe\n",
              "wMqVK1FdXW3zHW4NuXTZtTsWnanff9Db197HNEc8VXWX3ZpiGPREUGn6/PPYd33HoPRqE5o6lIO2\n",
              "+72u1WRfg9jbH6rxP+U37GJbTloEfEQDb/NtLRaJvKGhASEhIRAK+5oJBAKEhYWhvr5+gMh7e3vR\n",
              "29trsk2nG7o0NUbiAwD4pboVv1Rb9tMqAgEQ5OcFAHhG2ndP9N/r2vA7+9WJJ+It9IDkkWCfeXQM\n",
              "Tv1zD6f+uTdsuzGSPj8HjPKCp4cAGh1hS9l1u9i0dLrCeSK3hMLCQqxfv95kW0pKypD7L0kJg0qj\n",
              "wwMzbonQnylhAZCJ+0T+ZlIoOpUa7sbyjOFJixoDj0elw2Wp4yEQYNg6OQD4eQvx7rRw7vnmxQmo\n",
              "uGm/gCISCuzWF2Dhz47fvXsXkZGRaGtrg1AoBBEhJCQE58+fNyuSv//++4iIiDDZptPpUFFRgeTk\n",
              "5EF/iYKPMJtHDmO7IyIikJeXZ3knZCHp6elUXFxMRET79++nxMRES7swobOzkwBQZ2enTf2MJMzm\n",
              "kcMedlucrhQVFSE7OxsFBQWQSqUoLi62/JvFYIwgFos8JiYGFy5ccIQtDIZD4M2MJ4PhKJwucm9v\n",
              "b+Tn5w/4OUQ+w2weOexht0XVFQbDFXF6JGcwHA0TOcPtYSJnuD1OF7mjlu7aC5VKhQULFiA6OhoJ\n",
              "CQnIyspCdXU1gL4Z4Dlz5iAqKgpxcXE4e/ask60dSHFxMQQCAY4cOQKA3zb39vZi5cqViIqKQnx8\n",
              "PJYsWQLADhqx29SUlcyaNctkBjUpKcm5BvVDqVRSaWkp6fV6IiLavn07paenExHRBx98QPn5+URE\n",
              "VFFRQePGjSO1Wu0kSwdSV1dH06dPp5SUFDp8+DAR8dvmNWvW0MqVKzlfNzc3E5HtGnGqyO/cuUMS\n",
              "iYQ0Gg0REen1eho7dizduHHDmWYNyx9//EHh4eFERDRq1CjuQBARTZ06lcrKypxkmSk6nY4yMzPp\n",
              "4sWLlJ6ezomcrzY/ePCAJBLJgOl7e2jEqenKcEt3+cq2bdswf/58tLa2QqPRIDg4mPufQqHgje1b\n",
              "tmzBjBkzkJiYyG3js801NTUYPXo0CgoKkJSUhNTUVJSXl9tFIw5bauuOFBQUoLq6GuXl5VAqB7+o\n",
              "gA/8/fffOHjwIK/y7Seh1Wpx69YtTJo0CRs3bsTly5eRlZWF0tJSm/t2aiQPDQ1Fc3MztNq+td9E\n",
              "hPr6eoSFhTnTrEHZtGkTDh06hGPHjkEsFiMwMBBCoRAtLS3cPjdv3uSF7efOncPNmzcRFRUFhUKB\n",
              "3377DTk5Odi3bx9vbQ4LC4OHhwfeffddAMALL7yA8ePH49atW7ZrxI5plVXYe+muI9i8eTNNmTKF\n",
              "2traTLYvXbrU5CTu2Wef5c1JnDHGOTmfbc7KyqLS0lIiIqqtraXAwEBqbGy0WSNOF3lVVRWlpKRQ\n",
              "VFQUJSYm0tWrV51tkgkNDQ0EgCIiIighIYESEhIoOTmZiIhaWlooKyuLIiMjadKkSXTy5EknWzs4\n",
              "xiLns801NTWUkZFBcXFx9Pzzz9OBAweIyHaNsLUrDLfH6ZNBDIajYSJnuD1M5Ay3h4mc4fYwkTPc\n",
              "HiZyhtvDRM5we5jIGW4PEznD7WEiZ7g9TOQMt+e/HGgepPQDlAkAAAAASUVORK5CYII=\n",
              "\">\n",
              "        \n",
              "      </div>\n",
              "      <script></script>\n",
              "      <script type=\"text/javascript\">\n",
              "        (() => {\n",
              "          const chartElement = document.getElementById(\"chart-4addace4-1159-4fc2-811f-1344673d3a39\");\n",
              "          async function getCodeForChartHandler(event) {\n",
              "            const chartCodeResponse =  await google.colab.kernel.invokeFunction(\n",
              "                'getCodeForChart', [\"chart-4addace4-1159-4fc2-811f-1344673d3a39\"], {});\n",
              "            const responseJson = chartCodeResponse.data['application/json'];\n",
              "            await google.colab.notebook.addCell(responseJson.code, 'code');\n",
              "          }\n",
              "          chartElement.onclick = getCodeForChartHandler;\n",
              "        })();\n",
              "      </script>\n",
              "      <style>\n",
              "        .colab-quickchart-chart-with-code  {\n",
              "            display: block;\n",
              "            float: left;\n",
              "            border: 1px solid transparent;\n",
              "        }\n",
              "\n",
              "        .colab-quickchart-chart-with-code:hover {\n",
              "            cursor: pointer;\n",
              "            border: 1px solid #aaa;\n",
              "        }\n",
              "      </style>"
            ]
          },
          "metadata": {}
        },
        {
          "output_type": "display_data",
          "data": {
            "text/plain": [
              "<google.colab._quickchart_helpers.SectionTitle at 0x7fc0f16da1a0>"
            ],
            "text/html": [
              "<h4 class=\"colab-quickchart-section-title\">Distributions</h4>\n",
              "<style>\n",
              "  .colab-quickchart-section-title {\n",
              "      clear: both;\n",
              "  }\n",
              "</style>"
            ]
          },
          "metadata": {}
        },
        {
          "output_type": "display_data",
          "data": {
            "text/plain": [
              "import numpy as np\n",
              "from google.colab import autoviz\n",
              "df_1896545270888963934 = autoviz.get_registered_df('df_1896545270888963934')\n",
              "\n",
              "def histogram(df, colname, num_bins=20, figsize=(2, 1)):\n",
              "  from matplotlib import pyplot as plt\n",
              "  _, ax = plt.subplots(figsize=figsize)\n",
              "  plt.hist(df[colname], bins=num_bins, histtype='stepfilled')\n",
              "  plt.ylabel('count')\n",
              "  plt.title(colname)\n",
              "  ax.spines[['top', 'right',]].set_visible(False)\n",
              "  plt.tight_layout()\n",
              "  return autoviz.MplChart.from_current_mpl_state()\n",
              "\n",
              "chart = histogram(df_1896545270888963934, *['basophils'], **{})\n",
              "chart"
            ],
            "text/html": [
              "      <div class=\"colab-quickchart-chart-with-code\" id=\"chart-435aa7fa-ca02-4df8-af89-67efe7b085ff\">\n",
              "        <img src=\"data:image/png;base64,iVBORw0KGgoAAAANSUhEUgAAAMQAAABgCAYAAABCK92TAAAAOXRFWHRTb2Z0d2FyZQBNYXRwbG90\n",
              "bGliIHZlcnNpb24zLjcuMSwgaHR0cHM6Ly9tYXRwbG90bGliLm9yZy/bCgiHAAAACXBIWXMAAA9h\n",
              "AAAPYQGoP6dpAAAMYElEQVR4nO3da0xT9/8H8HcFhlzawlZuGdACFRwwrDjIwBgcjya/XSEzu5jJ\n",
              "QGXZssGI21yEEY2Rf9iDOVkWLxgqWWKIIpkZy25OmQw2xeG6keGQaxmFYjYu046W9vN74I/+W2Gu\n",
              "1ZZe/LySPjiH7znn8+X45lw8/R4BEREYYwCAZa4ugDF3woFgzAIHgjELHAjGLHAgGLPAgWDMAgeC\n",
              "MQscCMYscCAYs8CBcLD169ejoqLC1WUsSqlUIjo6+pZtUlJScPToUQDA4OAgBAIBrly5shTluQVf\n",
              "VxfA3Et3d7erS3ApPkIwZoED4QSTk5PIz8+HUCiEXC5HQ0MDAECj0eCxxx5DREQEhEIh0tLScPz4\n",
              "cfNyer0er7zyCiIjIyEUCiGTyVBbW2v+eUdHB9atW4fQ0FDExcVhx44dmJ2dNf9cJpOhqqoKubm5\n",
              "CA4ORmpqKr744osF9R08eBAymQxisRjPPPMMpqenrdZRV1e3aL9++ukn5OTkICQkBKGhoVizZg0u\n",
              "X758x78vt0LMoXJycmj58uV06tQpMhgM1NLSQn5+ftTW1kZqtZqamppoZmaG9Ho91dXVka+vL/3y\n",
              "yy9ERHTo0CFSKBQ0MTFBREQajYYuXrxIRERDQ0MUGBhI77//Ps3OztJvv/1GycnJVFpaat62VCol\n",
              "iURCbW1tZDAYqK6uju655x7q7+8nIqL6+nry8fGhsrIyun79Oo2OjpJcLqd3333Xah2HDx8mIqKB\n",
              "gQECQL29vURElJ2dTbt27SKDwUAGg4G6urpobGzM6b/TpcSBcLCcnBzKz8+3mrdx40YqKipatH1a\n",
              "Whrt37+fiIiUSiXJ5XJqbW0lvV5v1W7v3r2kUCis5p08eZICAgLIZDIR0Y1/zOXl5VZtMjMzaffu\n",
              "3UR0IxD+/v5W696+fTs9+uij5ulbBWL9+vVUXFxMV65cse2X4YH4lMkJ4uLiFkyr1Wr8+eef2Lp1\n",
              "K+Li4iASiRASEoLu7m5otVoAwKZNm1BSUoI333wTEokEGzZswMWLFwEAarUaCQkJVuuVy+XQ6XSY\n",
              "mJj4123Pk0gk8PPzM08HBQVhZmbGpn4plUoIBALk5uYiOjoaZWVl+Ouvv2xa1lNwIJxgcHBwwXR0\n",
              "dDR27NiBnp4etLa2YmpqCpOTk0hJSQH97ztaPj4+2L59O3744Qf8/vvveOCBB/Dkk08CAGJiYtDf\n",
              "32+13r6+PgQEBCAsLOxft+0IUqkUhw8fxtDQEM6ePYuvvvoK1dXVDlm3u+BAOMFnn32GlpYWGI1G\n",
              "fP7552hubsZLL72EqakpBAYG4r777oPBYEBtba3Vbc5vvvkGnZ2d0Ov1WL58OYKDg+Hj4wMAeP75\n",
              "53H58mXU1tZCr9ejr68PlZWV2LJlCwQCgXkdDQ0N6OjowNzcHJRKJbq6uvDCCy84pF9KpRIjIyMg\n",
              "IohEIvj6+sLX17vu3HMgnKCoqAhHjhxBSEgIXn31VRw4cADr1q3Dnj17oNPpEBERAZlMhvHxcaxd\n",
              "u9a8nFarRWFhIe69916EhYWhtbUVJ06cAHDjr/OXX36JxsZGhIeHIzc3Fxs2bEBNTY3Vtl9++WXs\n",
              "3LkTISEheO+999Dc3LzgVOt2nTlzBpmZmQgODsaqVauQlZWFt99+2yHrdhcCIv5OtbeQyWSoqKjA\n",
              "li1bXF2Kx+IjBGMWOBCMWeBTJsYs8BGCMQscCMYscCAYs8CBYMyCRwbigw8+cHUJzEt5ZCCGhoZc\n",
              "XQLzUl71IIpsR8s//mzw//6zhJUwT+XUI4RMJkNSUhIUCgUUCgUaGxsBAL29vcjOzkZiYiIyMjLu\n",
              "+u/xMvfh9CNEY2MjFAqF1bySkhJs27YNhYWFOHHiBAoLC3HhwgVnl8LYv7L7CKFSqWya90+0Wi06\n",
              "OzuxadMmAEBBQQHUavVdNdQJc192B6KwsNCmefNefPFFPPjggyguLsbExATUajWioqLMz9ELBALE\n",
              "xsZieHh40eVnZ2cxPT1t9TEajfaWzZhNbA6EVquFSqWCTqfDzz//DJVKBZVKhXPnzuHatWuLLvPt\n",
              "t99CpVLhxx9/hEQiwebNm+0usLq6GmKx2Opz/vx5u9fDmC1svoY4duwY9u3bh9HRUTzxxBPm+WKx\n",
              "GG+99daiy8TGxgIA/Pz8UFZWhsTERMTExECj0WBubg6+vr4gIgwPD5vb3uydd95BeXm51bzKykpb\n",
              "y2bMLjYfIUpLSzEwMICKigoMDAyYP5cuXUJxcfGC9teuXcPk5KR5+tixY1i9ejXCw8ORnp6Ojz/+\n",
              "GADQ1NSE6OhoyOXyRbfr7+8PkUhk9Zn/WiVjjmb3XabKykqYTCaMjY1hbm7OPP/mv/Dj4+MoKCiA\n",
              "0WgEESE+Pt48YNfBgwdRWFiIvXv3QiQSob6+/g67wZhj2B2Io0eP4rXXXoOfnx+WLbtxgBEIBOah\n",
              "VObFx8ejq6tr0XUkJSWho6PjNsplzLnsDsTu3btx4cIFJCUlOaMexlzK7tuuEomEw8C8lt2BeOqp\n",
              "p7Bv3z5otVqr/xtgzBvYfcq0c+dOAEB5eTkEAgGICAKBgP+zjHkFuwNhMpmcUQdjbsEjvw/BmLPY\n",
              "fYRYtmyZ1Vii8/iUiXkDuwNhOXS6TqdDQ0MDh4F5DbtPmYKCgswfiUSC8vJy84C8jHm6O76G6Onp\n",
              "wdWrVx1RC2MuZ/cpU2hoqPkaYv5ZJssXAzLmyewOxKVLl/5/YV9fREZG8tOnzGvYHQipVIrr16+b\n",
              "gxEaGorAwEBH18WYS9gdiPb2dhQUFCAyMhLAjce8m5qakJWV5fDiGFtqdgdi/q7S/Kug2tvb8cYb\n",
              "b+D77793eHGMLTW77zLpdDqr96JlZ2fj77//dmhRjLmK3YEIDg7G119/bZ4+ffo0goKCHFoUY65i\n",
              "9ynT/v37kZ+fb76zZDKZcPLkSYcXxpgr2B2I0dFRdHZ2Ynx8HAAQERHBw8Iwr2H3KVNlZSXCwsKQ\n",
              "mpqK1NRUSCQSHhaGeY07fnSDvxzEvIndgRAKhWhvbzdPf/fddxAKhQ4tijFXsfsaoqamBk8//TRW\n",
              "rlwJ4MbQ9s3NzXZvuLe3F5s3b8bVq1chFouhVCqRkpJi93oYcyS7A5GVlYVff/3VPK5SdnY2QkJC\n",
              "7N4wD4nP3NFtXUOEhoYiLy8PeXl5txUGHhKfuSuXvFLrVkPi3zzG6+zsLGZnZ63m8UX83WkpXpnm\n",
              "9u+Yq66uxq5du6zmrVy5csGI4EajEVHnzyMzM3PRx9HLy087tU5XMxqNOH+L/nuD/H+YbzQakZW1\n",
              "Z9G+S6VSlJaW2rwNARHRHdR4W7RaLeRyOf744w/zkPhRUVFoa2uz6Qjh7+8Pf39/q3nT09MQi8WY\n",
              "mpqCSCRyeh/czd3cf0f23SXD0NgzJP5iw+HfHAbGHMVlp0w8JD5zRy4LBA+Jz9yR14zc5+/vj6qq\n",
              "qrv2dOpu7r8j++6Si2rG3JXXHCEYcwQOBGMWOBCMWfC4QPT29iI7OxuJiYnIyMhAd3f3ou2OHDmC\n",
              "FStWICEhAVu3boXBYFjiSp3Dlv6fPXsWAQEBUCgU5o9Op3NBtY7z+uuvQyaTQSAQWA2Wd7M73u/k\n",
              "YR555BGqr68nIqLjx4/TQw89tKBNf38/RUVFkUajIZPJRI8//jh9+OGHS1ypc9jS/zNnztCqVauW\n",
              "tjAna21tJbVaTVKplLq6uhZt44j97lGBGB8fJ6FQSAaDgYiITCYTRUREUG9vr1W7mpoaKikpMU+3\n",
              "tLTQ2rVrl7RWZ7C1/94YiHm3CoQj9rtHnTLd6ilZS8PDw5BKpeZpmUy2oI0nsrX/ANDX14f09HRk\n",
              "ZGTgo48+WupSXcIR+93tn3Zl9ktPT8fIyAjEYjFGRkaQl5cHiUSCjRs3uro0t+dRR4iYmBhoNBrz\n",
              "MPxEhOHhYcTGxlq1i42NxdDQkHl6cHBwQRtPZGv/RSIRxGIxACA6OhrPPfcczp07t+T1LjVH7HeP\n",
              "CoStT8kWFBTg1KlTGBsbAxHhwIEDePbZZ11RskPZ2n+NRmN+W+zMzAw+/fRTrF69esnrXWoO2e+3\n",
              "e3HjKj09PfTwww/TihUraM2aNaRSqYiIqLi4mD755BNzu0OHDlF8fDzFx8dTUVER6fV6V5XsULb0\n",
              "v7a2lpKTkyktLY2Sk5OpqqqKTCaTK8u+Y9u2baP777+ffHx8KDw8nBISEojI8fudn2VizIJHnTIx\n",
              "5mwcCMYscCAYs8CBYMwCB4IxCxwIxixwIBizwIFgzAIHgjELHAjGLHAgGLPwX4k9+PUP4ytmAAAA\n",
              "AElFTkSuQmCC\n",
              "\">\n",
              "        \n",
              "      </div>\n",
              "      <script></script>\n",
              "      <script type=\"text/javascript\">\n",
              "        (() => {\n",
              "          const chartElement = document.getElementById(\"chart-435aa7fa-ca02-4df8-af89-67efe7b085ff\");\n",
              "          async function getCodeForChartHandler(event) {\n",
              "            const chartCodeResponse =  await google.colab.kernel.invokeFunction(\n",
              "                'getCodeForChart', [\"chart-435aa7fa-ca02-4df8-af89-67efe7b085ff\"], {});\n",
              "            const responseJson = chartCodeResponse.data['application/json'];\n",
              "            await google.colab.notebook.addCell(responseJson.code, 'code');\n",
              "          }\n",
              "          chartElement.onclick = getCodeForChartHandler;\n",
              "        })();\n",
              "      </script>\n",
              "      <style>\n",
              "        .colab-quickchart-chart-with-code  {\n",
              "            display: block;\n",
              "            float: left;\n",
              "            border: 1px solid transparent;\n",
              "        }\n",
              "\n",
              "        .colab-quickchart-chart-with-code:hover {\n",
              "            cursor: pointer;\n",
              "            border: 1px solid #aaa;\n",
              "        }\n",
              "      </style>"
            ]
          },
          "metadata": {}
        },
        {
          "output_type": "display_data",
          "data": {
            "text/plain": [
              "import numpy as np\n",
              "from google.colab import autoviz\n",
              "df_3078357364710950026 = autoviz.get_registered_df('df_3078357364710950026')\n",
              "\n",
              "def histogram(df, colname, num_bins=20, figsize=(2, 1)):\n",
              "  from matplotlib import pyplot as plt\n",
              "  _, ax = plt.subplots(figsize=figsize)\n",
              "  plt.hist(df[colname], bins=num_bins, histtype='stepfilled')\n",
              "  plt.ylabel('count')\n",
              "  plt.title(colname)\n",
              "  ax.spines[['top', 'right',]].set_visible(False)\n",
              "  plt.tight_layout()\n",
              "  return autoviz.MplChart.from_current_mpl_state()\n",
              "\n",
              "chart = histogram(df_3078357364710950026, *['eosinophils'], **{})\n",
              "chart"
            ],
            "text/html": [
              "      <div class=\"colab-quickchart-chart-with-code\" id=\"chart-6f57d468-f03e-4315-a06c-b99c237b2418\">\n",
              "        <img src=\"data:image/png;base64,iVBORw0KGgoAAAANSUhEUgAAAMQAAABgCAYAAABCK92TAAAAOXRFWHRTb2Z0d2FyZQBNYXRwbG90\n",
              "bGliIHZlcnNpb24zLjcuMSwgaHR0cHM6Ly9tYXRwbG90bGliLm9yZy/bCgiHAAAACXBIWXMAAA9h\n",
              "AAAPYQGoP6dpAAAM10lEQVR4nO3de0xbdRsH8G8HrGFQSrcCQy4t0MHCiGPcFBYvw5gory5zqJmb\n",
              "kepwmGw6bIxOJ5LNN2My4lCMUZmB4QXRjUXjXJzOTZlgdpGJLoJchBa5SVTA0UFpn/cPwnlbYbMH\n",
              "egH2fJLzxzn99ZznR/PN+Z3DuUiIiMAYAwAscHcBjM0mHAjGrHAgGLPCgWDMCgeCMSscCMascCAY\n",
              "s8KBYMwKB4IxKxyIWei9995DTEyMS7dZXl6O0NDQq7ZZsWIFDh48CABob2+HRCJBS0uLK8pzGU93\n",
              "F8Am27RpEzZt2uTuMia5ePGiu0twOt5DMGaFAzEDly9fxnPPPYeoqCgoFArcfPPNqK+vBwCYzWbs\n",
              "27cP0dHRkMvlSEpKwrFjx4Tv6vV6ZGRkYPHixZDL5YiLi0NNTQ2AycMXrVaLDRs2YNu2bViyZAmC\n",
              "goKQl5dnU0tdXR1uuukmKBQKREREYMeOHRgZGRE+V6vVyM/PR3p6Onx9fREXF4fPP/98Up/efPNN\n",
              "qNVqyOVy3HfffRgcHLRZx4EDB6b8W/zwww+45ZZb4O/vD4VCgcTERDQ1NU3jr+pmxKYtKyuLbrvt\n",
              "NjIYDGQymaikpIQCAgLozz//pKKiIgoJCaHz58+TyWSiyspK8vLyovPnzxMR0caNGyk7O5uMRiOZ\n",
              "zWZqbGyktrY2IiIqKyujkJAQm+0sXLiQKisraWxsjGpra8nT05O++uorIiLq6OigRYsW0f79+2lk\n",
              "ZIR++eUXio2Npe3btwvrUKlUpFQq6fTp02QymejAgQO0cOFCm216eHhQbm4uDQ8PU1dXF2k0Gnrh\n",
              "hRds1lFaWkpERL/++isBoObmZiIiSktLo127dpHJZCKTyUT19fXU09PjvD++k3Agpqm/v58AUGNj\n",
              "o81yjUZD77zzDkVHR1NxcbHNZ2vXrqWcnBwiItJqtXTXXXfRTz/9RBaLxabdVIFYs2aNTZukpCTa\n",
              "u3cvERHt2bOH4uPjbT6vrq4mb29vYd0qlYp0Op1Nm5SUFNq9e7ewTalUSqOjo8LnTz31FN1xxx3C\n",
              "/NUCceutt9LmzZuppaXlin+zuYCHTNM0cXblhhtugL+/vzD99ttv6OzshMFgQFRUlM13NBoN9Ho9\n",
              "AKCoqAgajQbr169HUFAQHn74YfT29l5xe9ddd53NvI+PD4aGhgDgitsyGo34/fffhWURERE2bSIi\n",
              "ImAwGIR5pVIJLy+vKbfxb8rLyyGRSJCeno7Q0FDk5ubi77//tuu7swkHYpqWLl0KAGhoaMBff/0l\n",
              "TMPDw9ixYwfCwsLQ2tpq853W1laEh4cDAJYsWYL9+/ejqakJ9fX1aG9vh06nm1YtYWFhaGtrm7Qt\n",
              "b29vBAQECMva29tt2rS3t//rqVZ7qVQqlJaWoqOjA6dOncIXX3yBgoICh6zblTgQ06RSqbBu3Tps\n",
              "3boVHR0dAIChoSEcO3YM3d3dyM7ORlFRES5cuICxsTF8+OGH+Oyzz5CdnQ0A+OCDD9Da2gqLxQKZ\n",
              "TAapVApPz+mdBd+4cSOamppQUlKC0dFRtLa2Ii8vD9nZ2ZBIJEK7iooK1NXVYWxsDOXl5aivr3fY\n",
              "6d3y8nJ0dnaCiODn5wdPT89p98edOBAz8P777yMxMRG33347ZDIZYmJiUFpaCiKCTqfD1q1bce+9\n",
              "92Lx4sV46aWXUF1djaSkJADjZ2XS09Mhk8kQFRUFf39/FBUVTasOlUqF48ePo6qqCoGBgUhPT8ed\n",
              "d96JwsJCm3aPPfYYdu7cCX9/f+zbtw9HjhyZNNSarpMnTyIlJQW+vr5YuXIlUlNT8cwzzzhk3a4k\n",
              "IeJ7qq8FarUazz//vLCHYlPjPQRjVjgQjFnhIRNjVngPwZgVDgRjVjgQjFnhQDBmZU4G4pVXXnF3\n",
              "CWyecmog1Go1YmJiEB8fj/j4eFRVVQEAmpubkZaWhujoaCQnJ4u+E2viUgnGHM3pF5tUVVUhPj7e\n",
              "ZllOTg62bNkCrVaLQ4cOQavV4uzZszPelnrH0St+1r73PzNeP5v/XD5k6uvrw7lz5/Dggw8CADIz\n",
              "M2EwGObdzepsbnL6HuKhhx4CESElJQV79+6FwWBAcHCwcCWkRCJBeHg49Ho9NBrNpO+PjIzY3AoJ\n",
              "jN+eyZgziN5DNDQ02LUMAL755hs0NDTg+++/h1KpRFZWlugCCwoKIJfLbaYzZ86IXg9j9hAdCK1W\n",
              "a9cyAMLNMF5eXsjNzUVNTQ3CwsLQ3d2NsbExAAARQa/XC23/6dlnn8XAwIDNlJKSIrZsxuxi95Cp\n",
              "r68PPT09MBqN+PHHHzFxCdTAwAAuXbo0qf2lS5dgMpng7+8PAKisrMSqVasQGBiIhIQEvPvuu9Bq\n",
              "tTh8+DBCQ0OnHC4BgFQqhVQqtVnm4eFhb9mMiWJ3ICorK1FcXIyuri6sXbtWWC6Xy/H0009Pat/b\n",
              "24vMzEyYzWYQESIjI1FRUQFg/FEnWq0We/bsgZ+fH8rKyhzQFcZmTvTVri+++OKkZwK5mk6nw8sv\n",
              "vzxpOZ92ZTMl+ixTXl4eLBYLenp6hOMAAFc8BmBsLhEdiIMHD+Lxxx+Hl5cXFiwYPyaXSCTo6+tz\n",
              "eHGMuZroQOzevRtnz551+dOpGXMF0addlUolh4HNW6IDsW7dOhQXF6Ovrw+Dg4PCxNh8IHrItHPn\n",
              "TgDjZ3okEgmICBKJhC+nYPOC6EBYLBZn1MHYrDAnbxBizFlE7yEWLFhg87zQCTxkYvOB6EBYPx7d\n",
              "aDSioqKCw8DmDdFDJh8fH2FSKpXQ6XQ4dOiQM2pjzOVmfAzR2NiI/v5+R9TCmNuJHjIpFArhGGLi\n",
              "WqaSkhLHVsWYm4gOxIULF/7/ZU9PLF26lO9PYPOG6ECoVCoMDw8LwVAoFFi0aJGj62LMLUQHora2\n",
              "FpmZmcI71np7e3H48GGkpqY6vDjGXE10ICbOKq1evRrAeECefPJJfPfddw4vjjFXE32WyWg0CmEA\n",
              "gLS0NFy+fNmhRTHmLqID4evriy+//FKYP3HiBHx8fBxaFGPuInrI9Oqrr2L9+vXCmSWLxYLq6mqH\n",
              "F8aYO4gORFdXF86dO4fe3l4AQFBQED84jM0boodMeXl5CAgIQFxcHOLi4qBUKt3+FA7GHGXGl27w\n",
              "zUFsPhEdCJlMhtraWmH+22+/hUwmc2hRjLmL6GOIwsJC3HPPPVi+fDmA8ZefHDlyRPSGm5ubkZWV\n",
              "hf7+fsjlcpSXl2PFihWi18OYI4kORGpqKn7++WfU1dUBGP8/xMTzW8Vw1ktTGJuJab0fQqFQICMj\n",
              "Y9obnXhpyvHjxwGMvzRl27ZtaGlpueJDjxlzxaNKnf7ClKmIeWkKvzCFuZJbAiFGQUEBdu3aZbNs\n",
              "+fLl0Ol0NsvMZjOCz5xBSkrKlJej63QnnFqnu5nNZpy5Sv/ng/VXWG42m5Ga+t8p+65SqbB9+3a7\n",
              "tyH66d+O0NfXB41Ggz/++AOenp4gIgQHB+P06dN27SGmemfE4OAg5HI5BgYG4Ofn5/Q+zDbXcv8d\n",
              "2Xe3PIbG+qUpAK760hSpVAo/Pz+b6Z9hYMxR3DZk4pemsNnIbYGIiYkRTt0yNlvMmyf3SaVS5Ofn\n",
              "X7PDqWu5/47su1sOqhmbrebNHoIxR+BAMGaFA8GYlTkXiObmZqSlpSE6OhrJycm4ePHilO3efvtt\n",
              "LFu2DFFRUXj00UdhMplcXKlz2NP/U6dOwdvbG/Hx8cJkNBrdUK3jPPHEE1Cr1ZBIJDYPy/unGf/u\n",
              "NMesWbOGysrKiIjoo48+oqSkpElt2traKDg4mLq7u8lisdDdd99Nr732mosrdQ57+n/y5ElauXKl\n",
              "awtzsq+//poMBgOpVCqqr6+fso0jfvc5FYje3l6SyWRkMpmIiMhisVBQUBA1NzfbtCssLKScnBxh\n",
              "/ujRo7R69WqX1uoM9vZ/PgZiwtUC4YjffU4Nma52law1vV4PlUolzKvV6klt5iJ7+w8Ara2tSEhI\n",
              "QHJyMl5//XVXl+oWjvjdZ/3Vrky8hIQEdHZ2Qi6Xo7OzExkZGVAqlbj//vvdXdqsN6f2EGFhYeju\n",
              "7hYew09E0Ov1CA8Pt2kXHh6Ojo4OYb69vX1Sm7nI3v77+flBLpcDAEJDQ/HAAw+gpqbG5fW6miN+\n",
              "9zkVCHuvks3MzMQnn3yCnp4eEBHeeOMNbNiwwR0lO5S9/e/u7hbeFjs0NIRPP/0Uq1atcnm9ruaQ\n",
              "3326Bzfu0tjYSDfeeCMtW7aMEhMTqaGhgYiINm/eTB9//LHQ7q233qLIyEiKjIykRx55hEZHR91V\n",
              "skPZ0/+SkhKKjY2l66+/nmJjYyk/P58sFos7y56xLVu2UEhICHl4eFBgYCBFRUURkeN/d76WiTEr\n",
              "c2rIxJizcSAYs8KBYMwKB4IxKxwIxqxwIBizwoFgzAoHgjErHAjGrHAgGLPCgWDMyv8AfivrnDpo\n",
              "7QUAAAAASUVORK5CYII=\n",
              "\">\n",
              "        \n",
              "      </div>\n",
              "      <script></script>\n",
              "      <script type=\"text/javascript\">\n",
              "        (() => {\n",
              "          const chartElement = document.getElementById(\"chart-6f57d468-f03e-4315-a06c-b99c237b2418\");\n",
              "          async function getCodeForChartHandler(event) {\n",
              "            const chartCodeResponse =  await google.colab.kernel.invokeFunction(\n",
              "                'getCodeForChart', [\"chart-6f57d468-f03e-4315-a06c-b99c237b2418\"], {});\n",
              "            const responseJson = chartCodeResponse.data['application/json'];\n",
              "            await google.colab.notebook.addCell(responseJson.code, 'code');\n",
              "          }\n",
              "          chartElement.onclick = getCodeForChartHandler;\n",
              "        })();\n",
              "      </script>\n",
              "      <style>\n",
              "        .colab-quickchart-chart-with-code  {\n",
              "            display: block;\n",
              "            float: left;\n",
              "            border: 1px solid transparent;\n",
              "        }\n",
              "\n",
              "        .colab-quickchart-chart-with-code:hover {\n",
              "            cursor: pointer;\n",
              "            border: 1px solid #aaa;\n",
              "        }\n",
              "      </style>"
            ]
          },
          "metadata": {}
        },
        {
          "output_type": "display_data",
          "data": {
            "text/plain": [
              "import numpy as np\n",
              "from google.colab import autoviz\n",
              "df_8585026638830413640 = autoviz.get_registered_df('df_8585026638830413640')\n",
              "\n",
              "def histogram(df, colname, num_bins=20, figsize=(2, 1)):\n",
              "  from matplotlib import pyplot as plt\n",
              "  _, ax = plt.subplots(figsize=figsize)\n",
              "  plt.hist(df[colname], bins=num_bins, histtype='stepfilled')\n",
              "  plt.ylabel('count')\n",
              "  plt.title(colname)\n",
              "  ax.spines[['top', 'right',]].set_visible(False)\n",
              "  plt.tight_layout()\n",
              "  return autoviz.MplChart.from_current_mpl_state()\n",
              "\n",
              "chart = histogram(df_8585026638830413640, *['lymphocytes'], **{})\n",
              "chart"
            ],
            "text/html": [
              "      <div class=\"colab-quickchart-chart-with-code\" id=\"chart-418dca70-4c9f-4bb6-b3cd-644a33c36b65\">\n",
              "        <img src=\"data:image/png;base64,iVBORw0KGgoAAAANSUhEUgAAAMQAAABgCAYAAABCK92TAAAAOXRFWHRTb2Z0d2FyZQBNYXRwbG90\n",
              "bGliIHZlcnNpb24zLjcuMSwgaHR0cHM6Ly9tYXRwbG90bGliLm9yZy/bCgiHAAAACXBIWXMAAA9h\n",
              "AAAPYQGoP6dpAAAORklEQVR4nO3dfVAU9R8H8PchCcLBgZ48yMHx5MOYD4lhKIzoNE0DYlKWD5kj\n",
              "Egj2RNCMUyqR9YuKikCJQkdNS20myXLKZkITFcEQoWQUDB/gQB7VBILj8T6/Pxy3uzjyVg6Oo89r\n",
              "5mbY3e/ufr7svbndYx8kRERgjAEALExdAGPDCQeCMS0cCMa0cCAY08KBYEwLB4IxLRwIxrRwIBjT\n",
              "woFgTAsHwgALFizA5s2bTbb+t956C0FBQSZb/38JB4Ld038pkBwIxrRwIERYvXo11q5dqzOuqKgI\n",
              "VlZWaGxsRGVlJSQSCXbt2oUZM2bA1tYWQUFBqKmpQUZGBpRKJRwcHBATE4Pe3l5hGRKJBKmpqfD3\n",
              "94dUKsWcOXNQVFTUZ/1btmyBq6srxo4di5iYGPT09AjTysrKEBISArlcDoVCgZiYGDQ3NwvT1Wo1\n",
              "Nm/ejEmTJsHOzg7e3t7Ys2cPWlpaIJVKceLECZ11vfTSSwgPD8e+ffuQnJyMgoICSKVSSKVSnDp1\n",
              "CgBQXl6OsLAwODs7w83NDS+88ALa2toAAESEN998EwqFAnZ2dlAoFNi4cePAN8JgI3ZPwcHBtGnT\n",
              "Jjp9+jTZ2NjQ7du3hWlRUVG0fPlyIiK6du0aAaDHHnuMGhoaqLW1lQIDA2nSpEm0YcMG6ujooIqK\n",
              "CpLJZLR//35hGQDIx8eHLly4QB0dHZSUlERyuVxYT1JSEllaWtKHH35InZ2ddOnSJXJ0dKRdu3YR\n",
              "EVFLSwtNmDCBEhISqK2tjWpra2n+/Pm0ZMkSYR2rVq0if39/unjxImk0Grp+/TqdO3eOiIiio6Pp\n",
              "2WefFdq2tbWRTCajn376SVh/YGCgzu+kqamJ5HI5paamUkdHBzU1NdGjjz5KUVFRRET0888/k5ub\n",
              "G1VVVRER0c2bNyk/P98o22MwcSAMcDcQREQzZ86kjIwMIiJqbm4mW1tbOn78OBH9HYiTJ08K86al\n",
              "pZGNjQ319PQI48LCwujVV18VhgHQ1q1bheHe3l5ycXGhvXv3EtGdN6SXl5dOTU8//TTFxsYSEdH+\n",
              "/ftJLpdTd3e3ML24uJgAUF1dHTU1NREAOnv2rN7+FRcXk5WVFd24cYOIiHbu3EleXl6k0WiE9f8z\n",
              "EB9//DEFBATojMvLy6PRo0dTT08P5ebm0rhx4+jIkSPU3t6ud73DEe8yibR+/Xps374dALBv3z4o\n",
              "FAosWLBAp42rq6vws62tLcaPH49Ro0bpjGttbdWZx8vLS/jZwsICSqUS1dXVwrgJEybotNdeRnV1\n",
              "NZRKJSwtLYXpvr6+AACVSoVr164BACZPnqy3T7NmzcKsWbOwZ88eAEBWVhaio6MhkUj6/T1UVFTg\n",
              "3LlzcHBwEF6hoaGQSCSor69HcHAwUlJS8P7778PZ2Rnz589HTk5Ov8sbLjgQIq1atQqVlZU4c+YM\n",
              "srKyEBMTY5TlVlZWCj9rNBqoVCooFAqD5nV3d4dKpdI5prhy5QoAwMPDA56engCAP/74o99lrF+/\n",
              "Hjt27EBJSQlKSkoQGRkpTLOw6Ps2cXFxQVBQEG7fvi28mpub0dHRATc3NwBAZGQkTpw4gaamJoSH\n",
              "h2Px4sV9/hAMNxwIkaRSKVavXo0XX3wRly5dwpo1a4yy3PT0dJSVlaGrqwvvvvsuurq68MQTTxg0\n",
              "76JFi2BpaYmNGzdCrVajvr4e8fHxWLx4MVxcXDB+/HisXLlSqBkA6urqUFxcLCxj2bJlaGpqQlRU\n",
              "FMLDw+Hs7CxMc3FxgUqlQkdHhzBu7dq1KCkpQWZmJtrb20FEqK6uxnfffQcAKCwsxMmTJ6FWqzF6\n",
              "9GjY2dlBIpHofFIORxyI+xAbG4vi4mI888wzGDt2rFGWuX79eqxevRpjx47F4cOHceTIETg4OBg0\n",
              "r729PXJycvD7779DoVBg9uzZ8PX1FXaBAGDHjh0IDg5GSEgIpFIpAgMDceHCBWG6tbU11q5di+Li\n",
              "YsTGxuosf/ny5Zg8eTImTJgABwcH5OXlwcPDAwUFBcjJyYGPjw8cHBzw+OOPo7S0FADw119/ISEh\n",
              "AU5OTnBwcMD27dtx6NAh2NjYDPyXNZhMfRBjjv7880+ysrKivLw8oywPAOXk5BhlWQORmZlJEydO\n",
              "FA6m/4v4E0Kk3t5efPDBB5g5cyYCAwNNXY7R3Lp1C+np6YiPj//Xg+mRjgMhQmlpKezt7ZGdnS18\n",
              "0zQSvPHGG1AoFJg+fTqio6NNXY5JSYj4NjSM3cWfEIxp4UAwpoUDwZgWDgRjWswyEOnp6aYugY1Q\n",
              "ZhmIqqoqU5fARijLezcxL56v/6h3fOX7i4a4EmaOzPITgrHBwoFgTIvoQJw/f96gcYyZI9GBiIiI\n",
              "MGgcY+bI4IPqxsZG1NfXQ61Wo7S0FHdPgWpubhbutMCYuTM4EAcOHEBaWhpqa2t1ruSSyWTYsGHD\n",
              "oBTH2FAzOBBxcXGIi4vDO++8g8TExMGsiTGTEf1/iMTERGg0GtTX1+tc1O7h4WHUwhgzBdGB2LNn\n",
              "D15++WU88MADwt0YJBIJGhsbjV4cY0NNdCDefvttnD17tt97/DBmzkR/7SqXyzkMbMQSHYjw8HCk\n",
              "paWhsbERLS0twouxkUD0LtOmTZsAAAkJCZBIJCAiSCQSnbtZA0BHRwdWrFiBixcvYsyYMXBycsJn\n",
              "n30GX19fLFiwAFVVVZDJZACANWvWID4+3gjdYWxgRAdCo9EY3HbdunUICQmBRCJBRkYGoqKikJub\n",
              "CwD45JNPEB4eLnb1jA2qQTu5z9raWrj5LQAEBATo3L+UseFIdCAsLCwwatSoPq97SU9Px5IlS4Th\n",
              "119/HdOnT8fy5ctx9erVfufr7OzUOVZpaWnps3vGmLGI3mXSvnuzWq3G3r177/kGTU5OxuXLl3Hs\n",
              "2DEAwJdffgl3d3cQET799FOEhYXh4sWLeud97733sGXLFp1xAQEBYstmzCBGuVHZI488gl9//VXv\n",
              "tI8++ghff/01jh492u/Ne62trXH9+nWMGzeuz7TOzk50dnbqjEtMTOz3umq+Yo4NxIAvIS0vL8eN\n",
              "Gzf0TktNTcWBAwd0wtDT04ObN28Kt1vPzs6Gs7Oz3jAAgJWVFaysrHTGDfdbqjPzJToQjo6OwoHy\n",
              "3XOZtm3b1qddTU0NXnvtNXh7e2PhwoUA7ry5f/nlFyxatAidnZ2wsLCAXC7H4cOHB9IHxoxGdCB+\n",
              "++23v2e2tISLi4vev9gKhQL97Y3pe8ImY8OB6EAolUq0t7cLwXB0dBz+D8FgzECiA5Gfn4+lS5fC\n",
              "xcUFANDQ0IDs7GzMnTvX6MUxNtREByIhIQEHDx4UHhaSn5+P+Ph4nDlzxujFMTbURP9jTq1W6zw5\n",
              "Z968eToP42PMnIkOhFQqxdGjR4XhY8eOwdbW1qhFMWYqoneZtm7diqeeekr4Zkmj0eDbb781emGM\n",
              "6TPY/3gVHYja2loUFRWhoaEBAODs7IzCwkKjFMOYqYneZUpMTMT48eMxbdo0TJs2DXK5nO/CwUaM\n",
              "AZ/+re/iIMbMlehA2NnZIT8/Xxg+ffo07OzsjFoUY6Yi+hgiJSUFTz75JKZMmQIAqKiowKFDh0Sv\n",
              "uKKiAmvWrMGNGzcgk8nwxRdf4MEHHxS9HMaMSXQg5s6di7KyMhQUFAC483+I/k7r/jcxMTFYt24d\n",
              "IiIicPDgQURERODs2bOil8OYMd3XMYSjoyNCQ0MRGhp6X2FobGxEUVERnnvuOQDA0qVLUV1djcuX\n",
              "L99POYwZjUkeqVVdXQ1XV1dYWt5ZvUQigYeHB1QqFXx9fXXa6rtAiA/i2WAZ9s+Y03cJ6ZQpU5CQ\n",
              "kNCnbW9vL1wLCzFnzpw+p6QnJBwb1DpNrbe3F4X99H0keUrPuN7eXsyd+z+9fVcqlYiLizN4+Ua5\n",
              "hFSsxsZG+Pr64tatW7C0tAQRwdXVFXl5eQZ9Qui7ig4AWlpaIJPJ0NzcDHt7+0Htw3DDfTdO303y\n",
              "jDknJyf4+fnhq6++AnDnMlKFQtEnDMCdN7+9vb3OS18YGDMGk+0yZWVlISIiAsnJybC3t8fu3btN\n",
              "VQpjApMFYvLkycJXt4wNFyPqsbxWVlZISkr6T+5Scd+N03eTHFQzNlyNqE8IxgaKA8GYFg4EY1rM\n",
              "LhAVFRWYN28eJk2aBH9/f1y4cEFvu507d2LixInw8fFBdHQ0uru7h7jSwWFI/3NzczFmzBg89NBD\n",
              "wkutVpugWuN55ZVX4OnpCYlEonOzvH8a8HYnM7Nw4ULavXs3ERF988039PDDD/dpc/XqVXJ1daW6\n",
              "ujrSaDS0ePFiysjIGOJKB4ch/T9+/DjNnDlzaAsbZCdOnKDq6mpSKpVUUlKit40xtrtZBaKhoYHs\n",
              "7Oyou7ubiIg0Gg05OztTRUWFTruUlBSKiYkRhn/88UcKDAwc0loHg6H9H4mBuOvfAmGM7W5Wu0z/\n",
              "dpasNpVKBaVSKQx7enr2aWOODO0/AFy5cgV+fn7w9/dHZmbmUJdqEsbY7sP+bFcmnp+fH2pqaiCT\n",
              "yVBTU4PQ0FDI5XIsW7bM1KUNe2b1CeHu7o66ujrhNvxEBJVKBQ8PD512Hh4eqKqqEoYrKyv7tDFH\n",
              "hvbf3t5eeMKrQqHAypUrcerUqSGvd6gZY7ubVSAMPUt26dKlOHz4MOrr60FE+Pzzz7FixQpTlGxU\n",
              "hva/rq5OeFpsa2srfvjhB8yaNWvI6x1qRtnu93twYyrl5eUUEBBAEydOpNmzZ9P58+eJiOj555+n\n",
              "77//Xmi3fft28vb2Jm9vb4qMjKSuri5TlWxUhvR/27ZtNHXqVJoxYwZNnTqVkpKSSKPRmLLsAVu3\n",
              "bh25ubnRqFGjyMnJiXx8fIjI+Nudz2ViTItZ7TIxNtg4EIxp4UAwpoUDwZgWDgRjWjgQjGnhQDCm\n",
              "hQPBmBYOBGNaOBCMaeFAMKbl/wiGCCMdMF+cAAAAAElFTkSuQmCC\n",
              "\">\n",
              "        \n",
              "      </div>\n",
              "      <script></script>\n",
              "      <script type=\"text/javascript\">\n",
              "        (() => {\n",
              "          const chartElement = document.getElementById(\"chart-418dca70-4c9f-4bb6-b3cd-644a33c36b65\");\n",
              "          async function getCodeForChartHandler(event) {\n",
              "            const chartCodeResponse =  await google.colab.kernel.invokeFunction(\n",
              "                'getCodeForChart', [\"chart-418dca70-4c9f-4bb6-b3cd-644a33c36b65\"], {});\n",
              "            const responseJson = chartCodeResponse.data['application/json'];\n",
              "            await google.colab.notebook.addCell(responseJson.code, 'code');\n",
              "          }\n",
              "          chartElement.onclick = getCodeForChartHandler;\n",
              "        })();\n",
              "      </script>\n",
              "      <style>\n",
              "        .colab-quickchart-chart-with-code  {\n",
              "            display: block;\n",
              "            float: left;\n",
              "            border: 1px solid transparent;\n",
              "        }\n",
              "\n",
              "        .colab-quickchart-chart-with-code:hover {\n",
              "            cursor: pointer;\n",
              "            border: 1px solid #aaa;\n",
              "        }\n",
              "      </style>"
            ]
          },
          "metadata": {}
        },
        {
          "output_type": "display_data",
          "data": {
            "text/plain": [
              "import numpy as np\n",
              "from google.colab import autoviz\n",
              "df_7448493052825423579 = autoviz.get_registered_df('df_7448493052825423579')\n",
              "\n",
              "def histogram(df, colname, num_bins=20, figsize=(2, 1)):\n",
              "  from matplotlib import pyplot as plt\n",
              "  _, ax = plt.subplots(figsize=figsize)\n",
              "  plt.hist(df[colname], bins=num_bins, histtype='stepfilled')\n",
              "  plt.ylabel('count')\n",
              "  plt.title(colname)\n",
              "  ax.spines[['top', 'right',]].set_visible(False)\n",
              "  plt.tight_layout()\n",
              "  return autoviz.MplChart.from_current_mpl_state()\n",
              "\n",
              "chart = histogram(df_7448493052825423579, *['metamyelocytes'], **{})\n",
              "chart"
            ],
            "text/html": [
              "      <div class=\"colab-quickchart-chart-with-code\" id=\"chart-30e7e8bd-379c-4516-b44d-df35098277ea\">\n",
              "        <img src=\"data:image/png;base64,iVBORw0KGgoAAAANSUhEUgAAAMQAAABgCAYAAABCK92TAAAAOXRFWHRTb2Z0d2FyZQBNYXRwbG90\n",
              "bGliIHZlcnNpb24zLjcuMSwgaHR0cHM6Ly9tYXRwbG90bGliLm9yZy/bCgiHAAAACXBIWXMAAA9h\n",
              "AAAPYQGoP6dpAAAO/klEQVR4nO3de1BUZdwH8O8KK4rsLVeBcWE3UFYFAlFRVAxTm6QsgyxtKnZk\n",
              "Aq0Uoxl9q3FIfRWzdCgdB3QavKImajU6OSkpYth4HxxGCtQE5SZegHCFZff3/uFw3t2A2iMLy+X3\n",
              "mdkZ93D2nN+zhy/n2eOzz5EQEYExBgDo5+wCGOtOOBCMWeFAMGaFA8GYFQ4EY1Y4EIxZ4UAwZoUD\n",
              "wZgVDgRjVjgQfcgXX3yBKVOmOLuMbo0D0UHbt2+HRqNxdhndzqlTpyCRSNDc3OzsUkThQDBmpc8F\n",
              "IioqCosXL8Zbb70FuVwOjUaDffv24erVq4iIiIBMJkN4eDj++OMPAIDZbMaGDRswatQoKBQKjB07\n",
              "Fjk5OQCAvLw8LFy4EOXl5fDw8ICHhwf27NkDAEhISIBOp4OHhweeffZZpKSkwGKxPHUdOTk5kMvl\n",
              "+Pvvv23aExwcjLS0NADA48eP8dlnn8Hf3x8qlQpTp07F5cuX230vHj58iISEBGg0GqjVasyaNUvY\n",
              "X4sdO3YgNDQUCoUCnp6eSEpKAgBERkZi5cqVNutmZ2fD09MTpaWlmDVrFgBAqVTCw8MDa9euFfa5\n",
              "aNEiaLVaDB48GNHR0bhx44awje+//x6BgYGQy+VQq9WYMWOGHUfVgaiPef7550mhUFBubi6ZzWZK\n",
              "S0sjd3d3io6Opps3b1JjYyPFxMTQiy++SEREKSkpFBISQkVFRWQ2m+nQoUPk7u5OJSUlRESUmZlJ\n",
              "w4YNa7Wfbdu2UWVlJVksFjp79iw988wzlJ6e/tR1WCwWCggIoK1btwrbOHPmDA0cOJDu379PRERx\n",
              "cXE0ffp0KisrI5PJRJs2baIhQ4bQgwcPhLZMnjxZeP0rr7xCUVFRVFFRQQ0NDZSUlEQajYbq6+uF\n",
              "NqjVajp+/DiZTCaqq6ujU6dOERHRnj17yMfHh8xms7C9GTNm0PLly4mI6OTJkwSATCaT8HOLxUJR\n",
              "UVH09ttv07179+jx48e0bNkyGjVqFDU1NVFDQwNJpVLKyckhIiKj0Sj8u6v0yUAsWLBAeP7w4UMC\n",
              "QFlZWcKy7OxsUiqVREQkl8vp2LFjNtuYMWMGrV69mojaD8Q/LVmyhGJiYp66DiKijRs30rhx44Tn\n",
              "7777LsXFxRERUU1NDQGgoqIim/0OHz6cdu3aRUS2gSgvLycAdOXKFWHdpqYmGjx4MO3du5eIiAID\n",
              "A+mrr75qsz2NjY00ZMgQOnLkCBERlZSUkIuLC12/fp2I2g7ExYsXSSqVCoEjImpubqYBAwZQXl4e\n",
              "NTQ0kLu7O23evJnu3r3b7nvZmfpclwkAvL29hX8PGjSozWX19fWoqqpCXV0d5s6dC6VSKTzy8/Nx\n",
              "586ddrdPRFizZg0CAwOhUqmgVCqRkZGB6urqp6qjhcFgQGFhIS5fvowHDx7gwIEDSExMBACUlJQA\n",
              "ACZMmGBT6507d3D79u1WNZaVlQEA/P39hWVSqRRarRalpaUAgJs3b0Kv17fZxv79+yM+Ph4ZGRkA\n",
              "gK1bt2L69Onw8/Nr930pLi5Gc3MzNBqNUN/gwYOFetzd3XHs2DGcOHECer0ewcHB+Oabb9rdXmdw\n",
              "7dK99TBKpRIDBgzAkSNHMHXq1DbX6dev9d+Uffv2IS0tDceOHUNoaChcXFyQlJSEixcvdqgelUqF\n",
              "efPmISMjAyNHjkRAQAAiIiIAAF5eXgCAgoIC+Pr6/ue2fHx8AADXr19HSEgIAKC5uRmlpaXC63U6\n",
              "Hf788892t5GYmAi9Xo8bN24gMzNTCAfQ9vvi5eWF/v374+7du5BKpW1uMzIyEpGRkSAi5Obm4qWX\n",
              "XsLo0aMxc+bM/2yTI/TJM4S93NzcsHDhQixbtgzXrl0DEcFoNOL06dPCL4qXlxdqampw79494XW1\n",
              "tbVwdXXF0KFDIZFIcPLkSezevdshNX3wwQfIysrCli1bhLMDAGi1WsyZMwcffvghbt26BQCor6/H\n",
              "zz//jIqKilbb8fb2RnR0ND755BNUVVXBaDRi+fLl6N+/P15++WUAQFJSEr788kv8+uuvMJvNqK+v\n",
              "R25urrANnU6HmTNnYu7cuZBKpZg9e7bws5aAWn9InzJlCoKCgrBo0SLhbPngwQMcPHgQjx49QmVl\n",
              "JQ4cOICHDx9CIpFAqVRCIpHA1bXr/m5zIP7D119/jfnz5wvdJp1Oh9TUVJhMJgDACy+8gNdeew0B\n",
              "AQFQKpXIysqCwWDA9OnTERwcDLVajfT0dLzzzjsOqWfcuHHQ6/UoLy9vtc2srCyMHTsWM2fOhEwm\n",
              "g16vx7Zt20DtfEt4165d0Ol0CAsLg0ajQWFhIU6cOAGZTAbgyZWy1NRULF26FCqVCiNGjMAPP/xg\n",
              "s41Fixbh0qVLiI+Pt/nFDQgIwOLFizFt2jQolUqsW7cOLi4uOH78ONzd3TFhwgTIZDKEhITg8OHD\n",
              "kEgkICKkp6fDz88PHh4eeOONN7BmzRpMmzbNIe+dPSTU3rvFuq2WS7Xbtm1zdim4du0agoKCcPPm\n",
              "Tbu6at0dB6KHuXLlCiZOnIiLFy8iMDDQqbU0NTUhPj4eTU1N2L9/v1NrcRTuMvUgkZGRmDp1Klat\n",
              "WuX0MBw9ehQqlQqFhYXYsGGDU2txJD5DMGaFzxCMWeFAMGaFA8GYFQ4EY1Z6ZCC6enwL6zs6NRA6\n",
              "nQ56vR6hoaEIDQ0VrlUXFxdj0qRJCAgIwPjx41FYWChquy1DExhztE4fJLJ//36EhobaLEtMTERC\n",
              "QgIMBgOys7NhMBhw/vz5Du9L9z9H2/3ZX+te7vD2We/X5V2m6upqXLhwQRiHExsbi7KyMmH4MmPO\n",
              "1OlniPfeew9EhPDwcKxbtw5lZWXw9vYWBoJJJBL4+vqitLQUw4cPb/X6xsZGNDY22iwzm82dXTbr\n",
              "o0SfIQoKCuxaBgCnT59GQUEBLl26BLVajbi4ONEFpqamQqFQ2DzOnTsnejuM2UN0IAwGg13LAAij\n",
              "H6VSKZYuXYq8vDz4+PigoqJCmJ6EiGy+lPJPn376KWpra20e4eHhYstmzC52d5mqq6tRWVkJo9GI\n",
              "q1evCmPsa2tr0dDQ0Gr9hoYGmEwmKJVKAMDevXsxZswYDB06FGFhYdi9ezcMBgMOHjwIjUbTZncJ\n",
              "ePIlHTc3N5tlLi4u9pbNmCh2B2Lv3r1IS0tDeXk5Xn31VWG5QqHAsmXLWq1fVVWF2NhYmM1mEBH8\n",
              "/Pywc+dOAEBGRgYMBgPWrl0LuVyOzMxMBzSFsY4TPdp19erVWLFiRWfVY5fk5GRs3Lix1XK+7Mo6\n",
              "SvRVphUrVsBisaCystJmmsLe8G0pxkQHYseOHVi8eDGkUqkws4JEImk1xQpjPZHoQKxatQrnz59v\n",
              "d74exnoy0Zdd1Wo1h4H1WqIDMWfOHKSlpaG6uhp1dXXCg7HeQHSX6fPPPwfw5EpPy1w6EomEh1Ow\n",
              "XkF0IKyndGest+mRXxBirLOIPkP069cPEomk1XLuMrHeQHQgrKdnNxqN2LlzJ4eB9Rqiu0yDBg0S\n",
              "Hmq1GsnJycjOzu6M2hjrch3+DFFUVISamhpH1MKY04nuMqlUKuEzRMtYpk2bNjm2KsacRHQgrly5\n",
              "8v8vdnWFl5cXfz+B9RqiA6HVavHo0SMhGCqVCu7u7o6uizGnEB2I/Px8xMbGCrdMqqqqwsGDB4V7\n",
              "nTHWk4kORMtVpcmTJwN4EpCPP/4Yv//+u8OLY6yrib7KZDQahTAAwKRJk/D48WOHFsWYs4gOhIeH\n",
              "B06cOCE8z8nJEe6xzFhPJ7rL9O233yImJka4smSxWHDo0CGHF8aYM4gORHl5OS5cuICqqioAgKen\n",
              "J08cxnoN0V2mFStWYMiQIQgKCkJQUBDUarXTZ+FgzFE6PHSDvxzEehPRgZDJZMjPzxee//bbb5DJ\n",
              "ZA4tijFnEf0ZYv369Xj99dcxcuRIAE9ufnL48GHROy4uLkZcXBxqamqgUCiwfft2p997mTHRgYiI\n",
              "iMC1a9dw9uxZAE/+H6Jl/lYxOuumKYx1xFPdH0KlUiE6Ovqpd9py05RffvkFwJObpnz00UcoKSlp\n",
              "d9JjxrpiqtJOv2FKW8TcNIVvmMK6klMCIUZqaipWrlxps2zkyJFITk62WWY2m+F97hzCw8PbHI6e\n",
              "nJzTqXU6m9lsxrl/aX9vENPOcrPZjIiI/22z7VqtFklJSXbvQ/Ts345QXV2N4cOH4/79+3B1dQUR\n",
              "wdvbG2fOnLHrDNHWPSPq6uqgUChQW1sLuVze6W3obvpy+x3ZdqdMQ2N90xQA/3rTFDc3N8jlcpvH\n",
              "P8PAmKM4rcvEN01h3ZHTAqHX64VLt4x1F71m5j43NzekpKT02e5UX26/I9vulA/VjHVXveYMwZgj\n",
              "cCAYs8KBYMxKjwtEcXExJk2ahICAAIwfPx6FhYVtrvfdd99hxIgR8Pf3x/vvvw+TydTFlXYOe9p/\n",
              "6tQpDBw4EKGhocLDaDQ6oVrHWbJkCXQ6HSQSic1kef/U4eNOPcy0adMoMzOTiIgOHDhA48aNa7XO\n",
              "jRs3yNvbmyoqKshisdDs2bNp8+bNXVxp57Cn/SdPnqSQkJCuLayT5ebmUllZGWm1Wrp8+XKb6zji\n",
              "uPeoQFRVVZFMJiOTyURERBaLhTw9Pam4uNhmvfXr11NiYqLw/OjRozR58uQurbUz2Nv+3hiIFv8W\n",
              "CEcc9x7VZfq3UbLWSktLodVqhec6na7VOj2Rve0HgOvXryMsLAzjx4/Hli1burpUp3DEce/2o12Z\n",
              "eGFhYbh9+zYUCgVu376N6OhoqNVqvPnmm84urdvrUWcIHx8fVFRUCNPwExFKS0vh6+trs56vry9u\n",
              "3bolPP/rr79ardMT2dt+uVwOhUIBANBoNJg/fz7y8vK6vN6u5ojj3qMCYe8o2djYWPz000+orKwE\n",
              "ESE9PR3z5s1zRskOZW/7KyoqhLvF1tfX48iRIxgzZkyX19vVHHLcn/bDjbMUFRXRxIkTacSIETR2\n",
              "7FgqKCggIqL4+Hj68ccfhfW2bt1Kfn5+5OfnRwsWLKCmpiZnlexQ9rR/06ZNNHr0aHruuedo9OjR\n",
              "lJKSQhaLxZlld1hCQgINGzaMXFxcaOjQoeTv709Ejj/uPJaJMSs9qsvEWGfjQDBmhQPBmBUOBGNW\n",
              "OBCMWeFAMGaFA8GYFQ4EY1Y4EIxZ4UAwZoUDwZiV/wM2ik0/frLjigAAAABJRU5ErkJggg==\n",
              "\">\n",
              "        \n",
              "      </div>\n",
              "      <script></script>\n",
              "      <script type=\"text/javascript\">\n",
              "        (() => {\n",
              "          const chartElement = document.getElementById(\"chart-30e7e8bd-379c-4516-b44d-df35098277ea\");\n",
              "          async function getCodeForChartHandler(event) {\n",
              "            const chartCodeResponse =  await google.colab.kernel.invokeFunction(\n",
              "                'getCodeForChart', [\"chart-30e7e8bd-379c-4516-b44d-df35098277ea\"], {});\n",
              "            const responseJson = chartCodeResponse.data['application/json'];\n",
              "            await google.colab.notebook.addCell(responseJson.code, 'code');\n",
              "          }\n",
              "          chartElement.onclick = getCodeForChartHandler;\n",
              "        })();\n",
              "      </script>\n",
              "      <style>\n",
              "        .colab-quickchart-chart-with-code  {\n",
              "            display: block;\n",
              "            float: left;\n",
              "            border: 1px solid transparent;\n",
              "        }\n",
              "\n",
              "        .colab-quickchart-chart-with-code:hover {\n",
              "            cursor: pointer;\n",
              "            border: 1px solid #aaa;\n",
              "        }\n",
              "      </style>"
            ]
          },
          "metadata": {}
        },
        {
          "output_type": "display_data",
          "data": {
            "text/plain": [
              "<google.colab._quickchart_helpers.SectionTitle at 0x7fc0800d46a0>"
            ],
            "text/html": [
              "<h4 class=\"colab-quickchart-section-title\">2-d distributions</h4>\n",
              "<style>\n",
              "  .colab-quickchart-section-title {\n",
              "      clear: both;\n",
              "  }\n",
              "</style>"
            ]
          },
          "metadata": {}
        },
        {
          "output_type": "display_data",
          "data": {
            "text/plain": [
              "import numpy as np\n",
              "from google.colab import autoviz\n",
              "df_7219938131260691178 = autoviz.get_registered_df('df_7219938131260691178')\n",
              "\n",
              "def scatter_plots(df, colname_pairs, scatter_plot_size=2.5, size=8, alpha=.6):\n",
              "  from matplotlib import pyplot as plt\n",
              "  plt.figure(figsize=(len(colname_pairs) * scatter_plot_size, scatter_plot_size))\n",
              "  for plot_i, (x_colname, y_colname) in enumerate(colname_pairs, start=1):\n",
              "    ax = plt.subplot(1, len(colname_pairs), plot_i)\n",
              "    ax.scatter(df[x_colname], df[y_colname], s=size, alpha=alpha)\n",
              "    plt.xlabel(x_colname)\n",
              "    plt.ylabel(y_colname)\n",
              "    ax.spines[['top', 'right',]].set_visible(False)\n",
              "  plt.tight_layout()\n",
              "  return autoviz.MplChart.from_current_mpl_state()\n",
              "\n",
              "chart = scatter_plots(df_7219938131260691178, *[[['basophils', 'eosinophils'], ['eosinophils', 'lymphocytes'], ['lymphocytes', 'metamyelocytes'], ['metamyelocytes', 'monocytes']]], **{})\n",
              "chart"
            ],
            "text/html": [
              "      <div class=\"colab-quickchart-chart-with-code\" id=\"chart-ed175acf-5b71-41fc-b4bc-6215aa9d2b0d\">\n",
              "        <img src=\"data:image/png;base64,iVBORw0KGgoAAAANSUhEUgAAA+IAAAD2CAYAAABStT1bAAAAOXRFWHRTb2Z0d2FyZQBNYXRwbG90\n",
              "bGliIHZlcnNpb24zLjcuMSwgaHR0cHM6Ly9tYXRwbG90bGliLm9yZy/bCgiHAAAACXBIWXMAAA9h\n",
              "AAAPYQGoP6dpAAA/qUlEQVR4nO3df3zN9f//8fvZ5kdkU+RHGPnN/JiZYck7P6OYnxEW3rL5kch4\n",
              "+xWJdwihojLx5h1v+kFvvKtv7ywUlbeUpUQ2P9rK72KbxWbb8/uHj3NpbWrHds7rnON2vVzOJef1\n",
              "ep7XeZyTu3Mer9frPF82Y4wRAAAAAABwCR+rCwAAAAAA4FZCIw4AAAAAgAvRiAMAAAAA4EI04gAA\n",
              "AAAAuBCNOAAAAAAALkQjDgAAAACAC9GIAwAAAADgQjTiAAAAAAC4EI04AAAAAAAu5BWN+Isvvmh1\n",
              "CQCcgGwD3olsA96JbAMF5xWN+A8//GB1CQCcgGwD3olsA96JbAMF5xWNOAAAAAAAnoJGHAAAAAAA\n",
              "F6IRBwAAAADAhZzaiI8dO1Y1atSQzWZTfHz8DcetWrVKderUUa1atRQVFaWrV686sywAhUS2Ae9E\n",
              "tgHvRLYB9+PURrxv377avXu3qlevfsMxx48f14wZM7Rr1y4lJibqzJkzWrFiRZHWcf7SFe08fFbn\n",
              "L10p0u0Ctyp3yfa+xNMav+FL7Us8XaTbBW5V7pJtPreBouUu2U48fVEvxX2vxNMXi3S7gCdyaiPe\n",
              "tm1bVa1a9Q/HbNy4UREREapUqZJsNptGjhypDRs2FFkNL2w7olZzP9Jf13yhVnM/0gvbjhTZtoFb\n",
              "lTtkO3xunPqu/FL//vq0+q78UuFz44ps28Ctyh2yzec2UPTcIdv9l3+mji98qsVxier4wqfqv/yz\n",
              "Its24In8rC4gKSkp1965GjVqKCkp6YbjMzIylJGRkWtZdnZ2vmPPX7qiZTsSlJUj2WxSVo60bEeC\n",
              "IlsHqvztJYvmBQDIlzOzvS/xtE6m5h57MjVD+xJPK7R2pUJUDeDP8LkNeCdnZjvx9EX978SFXMv+\n",
              "d+KCEk9fVO1KZW++aMCDedxkbfPmzVNAQECu2969e/Md++2Pqcr+vw9zPx+bbDYpO+facgDuxZFs\n",
              "/+uLnxxaDsA6fG4D3smRbL//7RmHlgO3Assb8cDAQP3www/2+ydOnFBgYOANx0+dOlUpKSm5bmFh\n",
              "YfmObVTVX74+kjFSVo6RMZKvz7XlAJzLmdke1KKKQ8sBFB0+twHv5MxsP9iookPLgVuB5Y14nz59\n",
              "tHXrVp0+fVrGGC1fvlyPPPLIDceXKFFC/v7+uW6+vr75ji1/e0mNaVdHfj6SjOTnI41pV4fT2wAX\n",
              "cGa2Q2tX0t3+JXItu9u/BKelAy7A5zbgnZyZ7dqVyqpljTtyLWtZ4w5OS8etzThRdHS0qVKlivH1\n",
              "9TUVKlQwtWrVMsYY89hjj5ktW7bYx61YscLUrFnT1KxZ0wwbNsxkZmY69Dzjx4//w/Xn0i6bHYfO\n",
              "mHNplx1/EQDycJdsf5Fwyjy5fp/5IuGU4y8CQB7ukm0+t4Gi5S7ZTjh1wby47bBJOHXB4dcAeBub\n",
              "McZYvTOgsGJiYrR48WKrywBQxMg24J3INuCdyDZQcJafmg4AAAAAwK2ERhwAAAAAABeiEQcAAAAA\n",
              "wIVoxAEAAAAAcCEacQAAAAAAXIhGHAAAAAAAF6IRBwAAAADAhWjEAQAAAABwIRpxAAAAAABciEYc\n",
              "AAAAAAAXohEHAAAAAMCFaMQBAAAAAHAhGnEAAAAAAFyIRhwAAAAAABeiEQcAAAAAwIVoxAEAAAAA\n",
              "cCEacQAAAAAAXIhGHAAAAAAAF6IRBwAAAADAhWjEAQAAAABwIRpxAAAAAABciEYcAAAAAAAXohEH\n",
              "AAAAAMCFaMQBAAAAAHAhGnEAAAAAAFyIRhwAAAAAABdyaiOekJCg8PBw1a1bVy1atNDBgwfzjMnJ\n",
              "yVFMTIwaNmyoJk2aqF27dkpMTHRmWQAKiWwD3olsA96JbAPux6mN+IgRIxQdHa0jR45o8uTJGjp0\n",
              "aJ4xW7du1aeffqqvv/5aBw4cUIcOHTRt2jRnlgWgkMg24J3INuCdyDbgfpzWiJ89e1b79u1TZGSk\n",
              "JKlPnz5KTk7Os2fNZrMpIyNDV65ckTFGqampqlq1qrPKAlBIZBvwTmQb8E5kG3BPfs7acHJysipX\n",
              "riw/v2tPYbPZFBgYqKSkJNWuXds+rnv37tqxY4cqVaqkMmXKqEqVKvr4449vuN2MjAxlZGTkWpad\n",
              "ne2cFwEgD7INeCeyDXgnsg24J8sna9u3b5++/fZb/fTTTzp58qQ6dOigkSNH3nD8vHnzFBAQkOu2\n",
              "d+9eF1YMoCDINuCdyDbgncg24FpOa8SrVaumU6dOKSsrS5JkjFFSUpICAwNzjXv99dfVvn17lS1b\n",
              "Vj4+PhoyZIh27Nhxw+1OnTpVKSkpuW5hYWHOehkAfodsA96JbAPeiWwD7slpjXiFChUUEhKidevW\n",
              "SZI2bdqkqlWr5joFRpJq1qyp7du3KzMzU5L07rvvqlGjRjfcbokSJeTv75/r5uvr66yXAeB3yDbg\n",
              "ncg24J3INuCenPYbcUmKjY3V0KFDNXfuXPn7+2v16tWSpOHDhysiIkIRERF6/PHHdejQITVt2lTF\n",
              "ihVTpUqVtHz5cmeWBaCQyDbgncg24J3INuB+bMYYY3URhRUTE6PFixdbXQaAIka2Ae9EtgHvRLaB\n",
              "grN8sjYAAAAAAG4lNOIAAAAAALgQjTgAAAAAAC5EIw4AAAAAgAvRiAMA4MWSk5PtlyP69NNPtWzZ\n",
              "MqWlpVlcFQAAtzYacQAAvFiPHj2Uk5Ojn376SY888og+/fRTDRs2zOqyAAC4pdGIAwDg5UqWLKn3\n",
              "3ntPI0aM0IYNG3TkyBGrSwIA4JZGIw4AgBfLyMhQRkaGtm3bpnbt2lldDgAAEI04AABebcCAAapU\n",
              "qZKSkpIUHh6uU6dOqVSpUlaXBQDALY1GHAAALzZ9+nQdP35cn3/+uWw2m8qUKaONGzdaXRYAALc0\n",
              "GnEAALxYVlaWVq1apTFjxkiSzpw5o++//97iqgAAuLX5WV0AAABwnjFjxig7O1u7d++WJJUrV079\n",
              "+/fXvn37LK4MAIBbF404AABebM+ePYqPj1ezZs0kSWXLltXVq1ctrgoAgFsbp6YDAODFSpYsmet+\n",
              "dna2cnJyLKoGAABINOIAAHi1Jk2aaN26dcrJyVFiYqJGjhyp+++/3+qyAAC4pdGIA5Ak/ec//1Fq\n",
              "aqok6fnnn1ffvn317bffWlwVgMJavHixdu3apdOnT+vee++Vj4+PnnvuOavLAgDglkYjDkCS9NRT\n",
              "T8nf319ff/211q1bp06dOmnUqFFWlwWgkK5cuaLY2FidOXNGZ86cUWxsrC5fvmx1WQAA3NJoxAFI\n",
              "kvz8rs3d+OGHHyo6OlojRoxQenq6xVUBKKzOnTsXaBkAAHAdZk0HIOnaBE7/+9//tGnTJq1evVqS\n",
              "mFkZ8GCZmZm6cuWKsrOzlZaWJmOMJCklJYWdbAAAWIwj4gAkSc8++6xGjBihe++9Vw0aNND333+v\n",
              "unXrWl0WgJs0b948lS1bVt98840CAgJUtmxZlS1bVo0bN1ZkZKTV5QEAcEtzuBF/+umndfHiRRlj\n",
              "9NBDD6l8+fLatGmTM2oD4ELdu3dXfHy8Fi1aJEmqV68e2QY82MyZM5WTk6MRI0YoJyfHfrt48aJm\n",
              "zJhhdXkAColJVgHP5nAjvmXLFpUtW1ZxcXHy8/PTp59+qmeffdYZtQFwoeTkZHXr1k3BwcGSpPj4\n",
              "eC1ZssTaogAUWnBwMJOzAV6ISVYBz+ZwI+7jc+0hH3/8sR5++GHVq1dPNputyAsD4FojRozQI488\n",
              "Yv8daaNGjfSPf/zD4qoAFNYnn3yie+65R+PHj1diYqLV5QAoIkyyCng2hxvx0qVLa/78+XrjjTfU\n",
              "qVMnGWOUmZnpjNoAuNDZs2cVGRlp39nm5+dn/5AH4Ln+9a9/6euvv1a5cuXUoUMHde3aVe+//77V\n",
              "ZQEopN9OstquXTtJTLIKeBKHG/E1a9bo1KlTWrBggSpWrKijR48y6QvgBfz8/OxHwyXpwoULue4D\n",
              "8FwVK1bU9OnT9c9//lMHDx5UZGSk6tevr48++sjq0gDcJCZZBTybw4e7ateurRdeeCHX/SlTphRl\n",
              "TQAs8PDDD2vEiBFKTU3VypUrtXz5cg0fPtzqsgAU0pUrV7Ru3Tq9/PLLKlWqlBYuXKi+fftq//79\n",
              "6tu3r06cOGF1iQBuQvfu3dW9e3f7fSZZBTxLgRvxXr16/eFvwd95550iKQiANSZMmKANGzYoJSVF\n",
              "H374oWJiYjRw4ECrywJQSDVq1FCnTp20YsUKtWjRwr48NDRUnTp1srAyAIWRnJysUaNG6ccff1R8\n",
              "fLzi4+O1Y8cOjR8/3urSABRAgU9N79mzp3r06HHDW34SEhIUHh6uunXrqkWLFjp48GC+47755hvd\n",
              "f//9atCggRo0aEBTD1jggw8+0IABA/Tmm2/qrbfe0sCBA/XBBx/kO5ZsA55j//79Wrt2ba4m/LrX\n",
              "Xnst132yDXgORyZZJduAGzJO1K5dO7N69WpjjDFvv/22CQ0NzTMmPT3d3HPPPWbXrl3GGGOysrLM\n",
              "2bNnHXqe8ePHF7pW4FbXrFmzAi0zhmwDnuTpp58258+ft98/d+6ceeaZZ/IdS7YBz9G8eXNjjDHB\n",
              "wcH2Zb/982+RbcD9FPjU9EWLFmnChAmKiYnJd/3ixYtz3T979qz27dunDz/8UJLUp08fjRkzRomJ\n",
              "iapdu7Z93Pr169WqVSu1adNGkuTr66u77rrL4R0KAG7OkSNHdPjwYaWkpGjr1q325SkpKfr111/z\n",
              "jCfbgGfZsmWLZs2aZb9fvnx5bdmyRTNnzsw1jmwDnqWgk6ySbcA9FbgRv/322yVJAQEBBRqfnJys\n",
              "ypUr2y9/ZLPZFBgYqKSkpFyh/+6771SiRAl169ZNP/74o5o0aaJFixbdMPgZGRnKyMjItSw7O7ug\n",
              "LwPA73z++edas2aNzp49qyVLltiX+/v7a9GiRXnGk23As+Tk5ORZlt9lR8k24FkKOskq2QbcU4Eb\n",
              "8REjRkhSnj3ohZWVlaW4uDjt2bNHd999t6ZNm6ZRo0Zp48aN+Y6fN29erj37ktSqVasirQm4lQwZ\n",
              "MkRDhgzRqlWr9NhjjxXZdsk24B7q1aunBQsWaMKECTLGaNGiRapfv/5Nb49sA+6hqCdZJduAazl8\n",
              "HfGsrCy9+eabmjt3rmbPnm2//V61atV06tQpZWVlSZKMMUpKSlJgYGCucYGBgWrXrp2qVKkim82m\n",
              "yMhI7dmz54bPP3XqVKWkpOS6hYWFOfoyAPzOtm3b9Nlnn/3pOLINeJYXX3xRH3zwgW677TaVLl1a\n",
              "cXFxWrZsWZ5xZBvwLAWdZJVsA+7J4Ub8kUce0dKlS3X+/HmlpaXZb79XoUIFhYSEaN26dZKkTZs2\n",
              "qWrVqrlOgZGkfv366YsvvlBqaqok6f3331fTpk1v+PwlSpSQv79/rpuvr6+jLwPA73To0EGjR49W\n",
              "SEiIVq1apStXruQ7jmwDnuXuu+/W9u3bdeHCBf3yyy/atm2bKlWqlGcc2QY8y7Rp0wq0jGwD7qnA\n",
              "p6Zf98033+jw4cN/eE3x62JjYzV06FDNnTtX/v7+Wr16tSRp+PDhioiIUEREhAIDAzVt2jSFh4fL\n",
              "x8dHVapU0YoVKxx/JQAKJSoqSlFRUdq9e7deeeUVTZ8+XY8++qgef/xxVa9ePddYsg14lrffflvb\n",
              "tm2TJD3wwAPq06dPvuPINuD+HJ1kVSLbgDuymfymV/wDHTt21HvvvacSJUo4qyaHxcTE5Jm1HcDN\n",
              "OXfunJYvX64VK1aoWbNm2r9/v8aMGaPJkye7vBayDRTe7NmztXnzZg0ePFg2m01r165Vz549NX36\n",
              "dMtqItvAzfvnP/+pNWvWaN++fQoNDbUv9/f3V3R0tB566CHLaiPbQMEV+Ij4Sy+9JEmqXbu27r//\n",
              "fvXq1UslS5a0rx87dmzRVwfAZfbs2aOlS5dq586dGjp0qPbs2aMqVaooPT1dDRo0sKQRB1B4Gzdu\n",
              "1J49e1SqVClJ146AtW7d2tJGHMDNc9YkqwBcq8CN+P79++1/rl+/vg4dOmS/X5DT1AG4t+joaI0b\n",
              "N06rVq3KtZOtdOnSeuqppyysDEBhGGPsTbh0LdMOngwHwA1t27ZNDRo0UHh4uNWlALgJBW7Er/+W\n",
              "BIB3OnDgwA3XXb98IQDPExYWpkcffVRRUVGSpFWrVjGzMeAFrk+y6uPjo8cff1yDBg3KtSMdgHtz\n",
              "eNb0jIwMPffcc+rYsaM6deqkBQsWKCMjwxm1AXChBx98UD///LP9/vnz59WtWzcLKwJQFF566SXd\n",
              "fffdiomJUUxMjCpXrmz/uRkAzxUVFaX4+Hi99NJL+uijj3TPPfdo0qRJ+uGHH6wuDUABODxr+siR\n",
              "I/Xzzz/riSeekHTtSPmhQ4c4Yg54uJMnT6pcuXL2++XLl9fJkyctrAhAUShdurTmz59vdRkAnKRe\n",
              "vXpq0KCBdu3apcOHD6tNmzaWTbIKoOAcbsQ///xzHTp0yP678G7duikoKKjICwPgWtnZ2crKypKf\n",
              "37V/FjIzM5WZmWlxVQBu1p8d9WaSVcCzMckq4NkcbsTLlSuny5cv2yd+ycjIUPny5Yu8MACu1bVr\n",
              "Vz388MMaN26cJOnFF1/Ugw8+aHFVAG7WbydZ/T0mWQU8H5OsAp7N4Ua8fv36atmypfr16yfp2mVR\n",
              "WrRoYd/zzh52wDPNmTNHc+fO1aRJkyRJERER7E0HPBg/GQO8G5OsAp7N4cnacnJyFBoaqmPHjunY\n",
              "sWMKCQlRdna29u/fr/j4eCeUCMAVihUrppkzZ2rv3r3au3evpk+frmLFilldFoBCSklJ0ZgxY9S9\n",
              "e3dJ0nfffacNGzZYXBWAwmKSVcCzOXxEnD3sgHdKS0vTlClTtG3bNknSAw88oLlz56pMmTIWVwag\n",
              "MEaMGKFGjRpp586dkqR77rlHAwcO1IABA6wtDEChMMkq4NkcPiKelZWlhQsXqnPnzurcubMWLVqk\n",
              "rKwsZ9QGwIVGjx6trKwsvfXWW3r77beVnZ2t0aNHW10WgEI6cuRIrjNcbrvtNhljLK4KQGFdn2T1\n",
              "OiZZBTyLw0fEY2JidPToUY0ePVo2m00rV67UDz/8wDVJAQ934MABff311/b7r7zyipo2bWphRQCK\n",
              "QvHixXPdv3z5Mo044AWYZBXwbA434jt37lR8fLx8fK4dTH/ooYcUEhJS5IUBcK3s7GylpaXZT0W/\n",
              "dOmSsrOzLa4KQGG1a9dOc+bM0ZUrVxQXF6clS5aod+/eVpcFoJCYZBXwbA434sYY5eTk2BtxYwx7\n",
              "1gEvMGTIELVq1Ur9+/eXJL311lv661//anFVAArr73//uxYuXCh/f39NmzZNPXv25Ms64AWuT7I6\n",
              "c+ZMq0sBcBMcbsS7dOmizp07a+jQoZKk119/XV27di3qugC42N/+9jc1atRIH330kSTp+eefV5cu\n",
              "XSyuCkBh+fj4aOrUqZo6darVpQAoQkyyCng2hxvx+fPnKzY2Vlu3bpUk9e3bV9HR0UVeGADX69q1\n",
              "KzvWAC9To0YNjRw5UtHR0SpfvrzV5QAoIqNHj1apUqX01ltvyWazKTY2VqNHj9batWutLg1AATjc\n",
              "iPv4+GjUqFEaNWqUM+oBYJETJ05o/vz5Onr0aK5ZWLdv325hVQAKa9u2bXr11VcVFBSkzp07a8yY\n",
              "MWrZsqXVZQEoJCZZBTybw434xYsXFRsbm+fL+j/+8Y8iLQyAa/Xr108dOnTQmDFj5Ovra3U5AIpI\n",
              "vXr19MILL2ju3Llat26d+vXrpwoVKmj8+PEaMGCAbDab1SUCuAlMsgp4Nocb8b59++quu+5S69at\n",
              "+bIOeJErV65o3rx5VpcBwAmMMfrwww/15ptv6vbbb9eAAQO0YcMGvf322/r3v/9tdXkAbgKTrAKe\n",
              "zeFG/NSpU4qLi3NGLQAs1KhRIyUlJSkwMNDqUgAUoXnz5mnFihUKCgrS5MmT1blzZ0lSTEyM6tSp\n",
              "Y3F1AG4Wk6wCns3hRrxWrVq6ePGiypYt64RyALhar169ZLPZlJaWpqZNm6p169YqWbKkff0777xj\n",
              "YXUACuvkyZP673//q7p16+ZZ98Ybb1hQEYCiwiSrgOdyuBEvVaqUQkJC1KVLl1xf1hcvXlykhQFw\n",
              "jZ49e9r/HBkZaV0hAJxi6dKlN1zXvHlzF1YCoCgxySrg2RxuxBs0aKAGDRo4oxYAFhgyZEiu+8YY\n",
              "SWICJ8BLfPLJJ5o4caISExOVlZUlY4xsNptSU1OtLg1AITDJKuDZHG7EZ86c6Yw6AFgsKSlJUVFR\n",
              "+vjjjyVJ7dq1U2xsLL8ZBzxcVFSU5syZo7CwML6sA16ESVYBz1bgRnzDhg0aMGCAXnrppXzXjx07\n",
              "tsiKAuB6gwcP1kMPPaS33npLxhitXLlSgwcP1s6dO60uDUAh+Pv7q2/fvlaXAaCIMckq4NkK3Igf\n",
              "PnxYkrR///486ziFFfB8586d09/+9jf7/YkTJ2rNmjXWFQSgSPTp00dr165V//79Vbx4cavLAVBE\n",
              "zp07xySrgAcrcCM+a9YsSdLq1asLvPGEhAQNGTJE58+fV0BAgNasWaOgoKB8xxpj1KFDB3311Ve6\n",
              "ePFigZ8DQNGoXbu2jhw5Yp9Z+ciRIze8tBHZBjxHgwYNFBkZqaFDh0qS/Tfi2dnZecaSbcBzREZG\n",
              "FniSVbINuB8fRx8QGxurlJQUSdKYMWMUGhqqTz75JN+xI0aMUHR0tI4cOaLJkyfbvwTkZ8mSJapV\n",
              "q5aj5QAoIpcuXVLTpk3VoUMHdejQQcHBwUpLS1Pv3r3Vu3fvXGPJNuA5xo8fry1btujChQtKTU1V\n",
              "WlraDSdqI9uA5xgyZIiGDBmiwYMHa/Dgwfb7+SHbgPtxuBF/+eWXFRAQoE8//VTffPON5syZo4kT\n",
              "J+YZd/bsWe3bt8++p65Pnz5KTk5WYmJinrEHDx7U5s2bNWXKlJt4CQCKwuDBg7V8+XL7B/qrr76q\n",
              "Rx99VD169FCPHj3s48g24FkqVKig9u3by9/fX6VLl7bffo9sA57l1KlTevDBB1WqVCmVKlVK3bp1\n",
              "06lTp/KMI9uAe3J41nQ/v2sP2b59uwYPHqwHHnhAU6dOzTMuOTlZlStXto+32WwKDAxUUlKSateu\n",
              "bR939epVRUVFadWqVQWazTUjI0MZGRm5luV3eh0Ax9xoL/rvkW3As0RERGjZsmXq169frt+R+vv7\n",
              "5xpHtgHPEh0drTZt2mj9+vWSpOXLlys6Olr/+c9/co0j24B7cviIuI+Pj9588029+eab6tixoyQp\n",
              "MzPzpguYNWuWevfuXeBrk8+bN08BAQG5bnv37r3p5wdwzalTpzR58mT17t1bERER9tvNItuAe5g+\n",
              "fbrGjh2rSpUq6Y477lDZsmV1xx133PT2yDbgHpKTkzVt2jSVLVtWZcuW1ZQpU5ScnHzT2yPbgGvd\n",
              "1KnpGzZsUFRUlKpXr64jR46offv2ecZVq1ZNp06dUlZWlqRrEz/kd4mFjz/+WEuXLlWNGjXUpk0b\n",
              "paamqkaNGjp37ly+zz916lSlpKTkuoWFhTn6MgD8Tu/evZWenq6ePXuqf//+9tvvkW3As+Tk5Nhv\n",
              "2dnZ9v/+HtkGPIsxRqdPn7bfP336tIwxecaRbcA9OXxqesuWLbV582YZY2SMUd26dfO9tniFChUU\n",
              "EhKidevWaejQodq0aZOqVq2a6xQYSdq1a5f9zydOnFBwcLBOnDhxw+cvUaKESpQokWtZQU6fAfDH\n",
              "0tPTtWzZsj8dR7YB70S2Ac8yceJENWvWTF27dpUkffDBB1q4cGGecWQbcE8OHxEv6MQQ0rUZ1mNj\n",
              "Y1W3bl0999xz9kufDR8+XFu3bi1c5QCKVPPmzZWQkFCgsWQb8BwJCQnq2rWr7r77bt155532W37I\n",
              "NuA5Hn30UW3btk0hISEKCQnRtm3bNGjQoHzHkm3A/dhMfuew/IHu3burdevWGj16tKRrE0N8+umn\n",
              "eSaGcKWYmBgtXrzYsucHvME333yj9u3bq06dOrkmdNq+fbtlNZFtoPDuv/9+jRo1SrNnz9Ybb7xh\n",
              "P/V02rRpltVEtgHvRLaBgnP41PTk5ORcTfeUKVMUHBxclDUBsEBkZKRGjRql0NBQTi0DvEhqaqr6\n",
              "9++vZ599Vo0bN1ZsbKxatmxpaSMOoPA++eQTTZw4UYmJicrKypIxRjabTampqVaXBqAAHG7Er08M\n",
              "UalSJUk3nhgCgOeZPXu21SUAKGLFihWTJJUpU0YnTpxQpUqVdP78eYurAlBYUVFRmjNnjsLCwtiB\n",
              "Dngghxvxgk4MAcCz3HvvvYqPj+cMF8DLtG3bVj///LPGjBmj5s2bq3jx4vleEQGAZ/H391ffvn2t\n",
              "LgPATXK4EX/00UdVvXp1xcfHy8fHR+PHj1e9evWcURsAF9q1a5dWrlyp2rVr5/qN+FdffWVhVQAK\n",
              "6/rO8oEDB+q+++5TSkqKGjVqZHFVAAqrT58+Wrt2rfr376/ixYtbXQ4ABznciG/atEkxMTGy2Ww6\n",
              "ceKEvv76a/Xs2VPvv/++M+oD4CIFuXQZAM/Ts2dPbd68WdK16wlXq1Yt1zIAnqlBgwaKjIzU0KFD\n",
              "Jcn+G/Hs7GxrCwNQIA434nPnztVXX32ljh07SpKaNm2qH374ocgLA+BaFStWVP369a0uA0ARS0pK\n",
              "yrPs6NGjFlQCoCiNHz9eW7ZsYZJVwEM53Ij7+vqqXLlyuZZxOgzg+bp06aI6deroiSeeUPfu3WWz\n",
              "2awuCUAhxMbGavny5Tpy5IhCQkLsy1NSUhQUFGRhZQCKQoUKFdS+fXurywBwkxxuxMuUKaMzZ87Y\n",
              "v6R/9NFHuvPOO4u8MACudezYMW3ZskVLly7Vk08+qZEjR2r48OHkG/BQXbp0Ub169TRq1CgtWbLE\n",
              "vtzf319NmjSxsDIARSEiIkLLli1Tv379cs3t4u/vb2FVAArK4UZ8/vz56tq1q44dO6Y2bdro+PHj\n",
              "eu+995xRGwAX8vHxUa9evdSrVy99+eWX6tWrl5555hkNGjRIs2bN0t133211iQAcUL16dVWvXl2H\n",
              "Dh3S1atXlZSUpFq1alldFoAiMn36dEnS2LFjZbPZ+I044GF8HH1AaGioduzYoQ0bNmjatGk6ePAg\n",
              "lzsCvERCQoKefPJJRURE6KGHHtLu3btVr149denSxerSANykjz/+WNWrV1e7du0kSV988YUiIyMt\n",
              "rgpAYeXk5Nhv2dnZ9v8C8AwOHxGXpICAAPt1xAF4hwceeEAJCQkaPXq0Dh48qLJly0qSQkJCtGbN\n",
              "GktrA3DzJk+erF27dtmvN9yiRQvt37/f4qoAALi13VQjDsD7REdHq1evXvLxyXuizLfffmtBRQCK\n",
              "QnZ2dp5T0plkFQAAa9GIA7e41NRUSVKnTp106dKlPOuZ9AXwbCVLltSlS5fsk6x+8803uu222yyu\n",
              "CgCAWxuNOHCLK1u2rP0LujFGkpj0BfAiM2bMUOfOnfXTTz8pMjJScXFxWr9+vdVlAQBwS6MRB25x\n",
              "OTk5VpcAwIk6d+6sOnXq6IMPPpAxRrNmzWL2dAAALEYjDgCAl7vnnns0atQoq8sAAAD/x+HLlwEA\n",
              "AM/xySefKCwsTHfeeaf8/f1VpkwZ5n4AAMBiHBEHAMCLRUVFac6cOQoLC5Ovr6/V5QAAANGIAwDg\n",
              "1fz9/e3XEAcAAO6BU9MBAPBiffr00dq1a5WZmWl1KQAA4P/QiAMA4MUaNGig0aNH67bbbpOvr698\n",
              "fHw4RR0AAItxajoAAF5s/Pjx2rJli0JDQ2nAAQBwEzTiAAB4sQoVKqh9+/ZWlwEAAH6DU9MBAPBi\n",
              "ERERWrZsmc6ePavU1FT7DQAAWIcj4gAAeLHp06dLksaOHSubzSZjjGw2m7Kzsy2uDACAWxeNOAAA\n",
              "XiwnJ8fqEgAAwO9wajoAAAAAAC7k1EY8ISFB4eHhqlu3rlq0aKGDBw/mGbN9+3aFhYWpYcOGCgoK\n",
              "0qRJk9h7D7g5sg14J7INeCeyDbgfpzbiI0aMUHR0tI4cOaLJkydr6NChecbccccdeuONN/Tdd9/p\n",
              "yy+/1GeffabXX3/dmWUBKCSyDXgnsg14J7INuB+nNeJnz57Vvn37FBkZKUnq06ePkpOTlZiYmGtc\n",
              "s2bNVLNmTUlSyZIlFRwcrBMnTjirLACFRLYB70S2Ae9EtgH35LTJ2pKTk1W5cmX5+V17CpvNpsDA\n",
              "QCUlJal27dr5Pub06dPauHGj3n333RtuNyMjQxkZGbmWMfMr4DpkG/BOZBvwTmQbcE9uM1lbamqq\n",
              "unfvrkmTJik0NPSG4+bNm6eAgIBct71797qwUgCOINuAdyLbgHci24BrOK0Rr1atmk6dOqWsrCxJ\n",
              "kjFGSUlJCgwMzDM2LS1NXbp0UY8ePRQTE/OH2506dapSUlJy3cLCwpzyGgDkRbYB70S2Ae9EtgH3\n",
              "5LRGvEKFCgoJCdG6deskSZs2bVLVqlXznAJz6dIldenSRV26dNH06dP/dLslSpSQv79/rpuvr69T\n",
              "XgOAvMg24J3INuCdyDbgnpx6anpsbKxiY2NVt25dPffcc1q9erUkafjw4dq6dask6cUXX9TevXv1\n",
              "zjvvKDg4WMHBwZozZ44zywJQSGQb8E5kG/BOZBtwPzZjjLG6iMKKiYnR4sWLrS4DQBEj24B3ItuA\n",
              "dyLbQMG5zWRtAAAAAADcCmjEAQAAAABwIRpxAAAAAABciEYcAAAAAAAXohEHAAAAAMCFaMQBAAAA\n",
              "AHAhGnEAAAAAAFyIRhwAAAAAABeiEQcAAAAAwIVoxAEAAAAAcCEacQAAAAAAXIhGHAAAAAAAF6IR\n",
              "BwAAAADAhWjEAQAAAABwIRpxAAAAAABciEYcAAAAAAAXohEHAAAAAMCFaMQBAAAAAHAhGnEAAAAA\n",
              "AFyIRhwAAAAAABeiEQcAAAAAwIVoxAEAAAAAcCEacQAAAAAAXIhGHAAAAAAAF6IRBwAAAADAhWjE\n",
              "AQAAAABwIac24gkJCQoPD1fdunXVokULHTx4MN9xq1atUp06dVSrVi1FRUXp6tWrziwLQCGRbcA7\n",
              "kW3AO5FtwP04tREfMWKEoqOjdeTIEU2ePFlDhw7NM+b48eOaMWOGdu3apcTERJ05c0YrVqwo0jqG\n",
              "rNihGlPe05AVO4p0u4Az/ZqZpaPnLunXzCyrS8nDXbI9Yd3/VGPKe5qw7n9Ful3Amc5fuqKdh8/q\n",
              "/KUrVpeSB9kGbt6+xNMav+FL7Us8bXUpebhLth9f86lqTHlPj6/5tEi3CziTsz63ndaInz17Vvv2\n",
              "7VNkZKQkqU+fPkpOTlZiYmKucRs3blRERIQqVaokm82mkSNHasOGDUVWR40p7+njY79Kkj4+9qtq\n",
              "THmvyLYNOMv2w2f10Eu71W/553ropd3afvis1SXZuVO2N317XpK06dvzZBse4YVtR9Rq7kf665ov\n",
              "1GruR3ph2xGrS7Ij28DNC58bp74rv9S/vz6tviu/VPjcOKtLsnOnbL93+KIk6b3DF8k2PIIzP7ed\n",
              "1ognJyercuXK8vPzkyTZbDYFBgYqKSkp17ikpCRVr17dfr9GjRp5xvxWRkaGUlNTc92ys7PzHXuj\n",
              "I+AcGYc7+zUzS39/9zudTb2iYn4+Opt6RX9/9zu3OTLuDtm+0VEyjp7BnZ2/dEXLdiQoK0eSTcrK\n",
              "kZbtSHCbI+NkG7g5+xJP62RqRq5lJ1Mz3ObIuDtk+0ZHwDkyDnfm7M9tj5usbd68eQoICMh127t3\n",
              "b75jrx8JL+hywB2cSrmi1MtXVea2Yipd3E9lbium1MtXdSrFPb6sO4sj2b5+tKygywF38O2PqcrO\n",
              "kWw2yc/HJptNys65ttybkW14u3998ZNDy72FI9m+fiS8oMsBd+Dsz22nNeLVqlXTqVOnlJV17Sie\n",
              "MUZJSUkKDAzMNS4wMFA//PCD/f6JEyfyjPmtqVOnKiUlJdctLCws37F/qVnKoeWAO6gcUFL+txVT\n",
              "2uWrSs/MUtrlq/K/rZgqB5S0ujRJ7pHtPo3KO7QccAeNqvrL10cyRsrKMTJG8vW5ttwdkG3g5gxq\n",
              "UcWh5a7mDtl+qH5Zh5YD7sDZn9tOa8QrVKigkJAQrVu3TpK0adMmVa1aVbVr1841rk+fPtq6datO\n",
              "nz4tY4yWL1+uRx555IbbLVGihPz9/XPdfH198x37z+h2Di0H3EGp4n6a0a2hKviX1NWsHFXwL6kZ\n",
              "3RqqVHE/q0uT5B7ZXhTZ0qHlgDsof3tJjWlXR34+kozk5yONaVdH5W93j51sZBu4OaG1K+lu/xK5\n",
              "lt3tX0KhtStZVFFu7pDtl4fe69BywB04/XPbONHhw4dNq1atTJ06dUzz5s3NgQMHjDHGPPbYY2bL\n",
              "li32cStWrDA1a9Y0NWvWNMOGDTOZmZkOPc/48eP/cP3g2O2m+uR3zeDY7Y6/CMAi6RlXTeLZNJOe\n",
              "cdXqUvJwl2zHrN1jqk9+18Ss3eP4iwAsci7tstlx6Iw5l3bZ6lLyINvAzfsi4ZR5cv0+80XCKatL\n",
              "ycNdsj169W5TffK7ZvTq3Y6/CMAizvrcthljTNG09NaJiYnR4sWLrS4DQBEj24B3ItuAdyLbQMF5\n",
              "3GRtAAAAAAB4MhpxAAAAAABciEYcAAAAAAAXohEHAAAAAMCFvGKytt69e6tGjRo3XJ+dna29e/cq\n",
              "LCzshpdVcBeeVKvkWfV6Uq1SweqtXr26xo0b5+LKXIdsW8eT6vWkWiWyLZFtK3lSvZ5Uq0S2JbJt\n",
              "JU+q15NqlZyXba9oxP9MamqqAgIClJKSIn//orkAu7N4Uq2SZ9XrSbVKnlevFTzpPfKkWiXPqteT\n",
              "apU8r14reNJ75Em1Sp5VryfVKnlevVbwpPfIk2qVPKteT6pVcl69nJoOAAAAAIAL0YgDAAAAAOBC\n",
              "NOIAAAAAALjQLdGIlyhRQjNnzlSJEiWsLuVPeVKtkmfV60m1Sp5XrxU86T3ypFolz6rXk2qVPK9e\n",
              "K3jSe+RJtUqeVa8n1Sp5Xr1W8KT3yJNqlTyrXk+qVXJevbfEZG0AAAAAALiLW+KIOAAAAAAA7oJG\n",
              "HAAAAAAAF6IRBwAAAADAhTy6EU9ISFB4eLjq1q2rFi1a6ODBg/mOW7VqlerUqaNatWopKipKV69e\n",
              "LdA6V9e6fft2hYWFqWHDhgoKCtKkSZOUk5MjSTpx4oR8fX0VHBxsvx09etQptRa03p07d+q2227L\n",
              "VdPly5ft693pvV29enWuOsuXL6/evXtLcv17O3bsWNWoUUM2m03x8fE3HOcOf2+tQrbJdkFrJdue\n",
              "hWyT7YLWSrY9C9km2wWtlWz/hvFg7dq1M6tXrzbGGPP222+b0NDQPGOOHTtmKleubE6dOmVycnJM\n",
              "9+7dzbJly/50nRW1fvXVV+bo0aPGGGMuX75s7r33Xvtjjh8/bgICApxSW34KUu+OHTtM06ZN8328\n",
              "u723vxcUFGQ2btxojHH9e/vxxx+b5ORkU716dbN///58x7jL31urkG3nIdvOQ7b/HNl2HrLtPGT7\n",
              "z5Ft5yHbzmN1tj22ET9z5owpU6aMuXr1qjHGmJycHFOxYkWTkJCQa9yCBQvMiBEj7Pffe+89c++9\n",
              "9/7pOitq/b3HH3/czJw50xjj2r+YBa33j0Lvzu/tnj17zF133WUyMzONMa4P/XV/FHp3+HtrFbLt\n",
              "PGTbNch2/si285Bt1yDb+SPbzkO2XcOqbHvsqenJycmqXLmy/Pz8JEk2m02BgYFKSkrKNS4pKUnV\n",
              "q1e3369Ro4Z9zB+ts6LW3zp9+rQ2btyobt262Zelp6erRYsWCgkJ0ezZs5WdnV3ktTpa79GjRxUS\n",
              "EqIWLVrolVdesS935/d21apVevTRR1WsWDH7Mle9twXlDn9vrUK2ybajtV5Htt0b2SbbjtZ6Hdl2\n",
              "b2SbbDta63W3erb9iq5MFJXU1FR1795dkyZNUmhoqCSpcuXK+umnn1ShQgX98ssv6t+/vxYtWqRJ\n",
              "kyZZVmdISIh+/PFHBQQE6Mcff9SDDz6o8uXLq1+/fpbV9GfS09P1xhtvaM+ePfZl7vjewjuRbech\n",
              "27AS2XYesg0rkW3nIdsePFlbtWrVdOrUKWVlZUmSjDFKSkpSYGBgrnGBgYH64Ycf7PdPnDhhH/NH\n",
              "66yoVZLS0tLUpUsX9ejRQzExMfblJUqUUIUKFSRJd955p4YNG6Zdu3YVea2O1Ovv76+AgABJUtWq\n",
              "VTVgwAB7Te743krS22+/raCgIDVs2NC+zJXvbUG5w99bq5Btsu1IrdeRbfdHtsm2I7VeR7bdH9km\n",
              "247Ueh3ZlmdP1vaXv/wl14QAzZs3zzPm6NGjeX5Ev3Tp0j9dZ0WtaWlpJjw83MyaNSvPujNnzth/\n",
              "P3HlyhXTt29fM2PGDKfUWtB6T548abKzs40xxqSmpprw8HCzatUqY4z7vbfXtWnTxrz22mu5lrn6\n",
              "vb3uj36P4i5/b61Ctsl2QWu9jmx7BrJNtgta63Vk2zOQbbJd0FqvI9sePFmbMcYcPnzYtGrVytSp\n",
              "U8c0b97cHDhwwBhjzGOPPWa2bNliH7dixQpTs2ZNU7NmTTNs2DD7/+A/W+fqWp999lnj5+dnmjZt\n",
              "ar89++yzxhhjNm3aZIKCgkyTJk1Mw4YNzZgxY8yVK1ecUmtB6126dKlp2LChvaaZM2eanJwc+zbc\n",
              "6b29Pu722283qampuR7v6vc2OjraVKlSxfj6+poKFSqYWrVq5VuvO/y9tQrZJtsFrfX6OLLtGcg2\n",
              "2S5ordfHkW3PQLbJdkFrvT6ObBtjM8aYIjt2DwAAAAAA/pDH/kYcAAAAAABPRCMOAAAAAIAL0Yh7\n",
              "MZvNposXL1paw9ChQ/XCCy/ku2758uVauHChJGnNmjXq2bOn6woDbkFPP/20/vWvfzlt++QduDFX\n",
              "fia7MmNr1qzR4cOHXfJcgCc5ceKEli9fbnUZdn/0GV1YzzzzjK5cueKUbXszriMOy4wcOdLqEoBb\n",
              "yuzZsy17bvIOeKc1a9aobNmyql+/vtWlAG7leiN+K3z+zZo1S08++aRKlixpdSkehSPiXu75559X\n",
              "s2bNVLdu3VxHwgYNGqTQ0FA1adJEDz30kE6fPi1JOnfunDp37qzGjRurSZMm+utf/ypJys7O1t/+\n",
              "9jc1atRIjRo10hNPPKHMzExJ1/awDRs2TOHh4apbt66GDBmiy5cv25/r0KFD6tChg+rWravevXvb\n",
              "H/fMM8/oySefzFNzQkKC7r33XjVt2lSNGzfW9OnTnfX2AB7hiy++UPv27RUaGqpmzZrp7bffliSt\n",
              "XbtWTZo0sef4p59+kiTt2bNHzZs3V3BwsBo1aqRXX31VUu694c8884z69++v7t27q2HDhmrfvr1+\n",
              "+eUXSeQdcKaNGzeqc+fO9vvZ2dmqXr26vvvuO+3cuVONGjXSqFGj1KRJEzVu3FgHDhzQ0KFD1bhx\n",
              "Y7Vs2dKe8zVr1qh9+/aKiIhQw4YN1bZtW504ccK+3UuXLmnAgAFq3LixQkNDdezYMfu6hQsXKigo\n",
              "SI0bN9agQYOUkpIiScrMzLRnv2nTpurSpYskqXHjxvrss8/sj1+xYoX69++vlStXat++fRo/fryC\n",
              "g4P1/vvvS7r23SMsLEwhISHq0qWL/Tq7//nPf9SkSRP7v01btmxxzpsMFJLNZtOcOXPUsmVL1ahR\n",
              "Q5s3b9a8efMUGhqqOnXqaOfOnfax//3vf9WmTRs1b95cYWFh2rFjh6RrO6C///57BQcHKyIiQpI0\n",
              "ceJEtWjRQsHBwWrbtq2+//57h59zzJgxmjt3rv1x33//vapVq6asrCxdvXpVU6ZMUVhYmIKDg9Wv\n",
              "Xz9duHAhz+u7dOmShg0bZv+cnzVrln3dTz/9pL59+9p7gRkzZujkyZOqWLGifv31V/u4gQMH6tVX\n",
              "X7XvaLjvvvsUHByss2fPKi0tTVFRUQoLC1OTJk0UHR1t/z7w7LPPqkGDBgoODlZwcHCu63Dfcopq\n",
              "+ne4H0lm+vTpxphr17m74447zPHjx40xxpw9e9Y+bt68eWbEiBHGGGMWL15soqOj7et+/vlnY4wx\n",
              "r7zyivnLX/5irly5Yq5evWq6du1qnnvuOWOMMUOGDDENGzY0qampJisry3Tr1s3MmTPHvi4sLMyk\n",
              "p6ebrKwsEx4ebtavX2+MMWbmzJlm3LhxxhhjVq9ebXr06GGMMWbs2LFm7ty5eWoAbkUXLlwwwcHB\n",
              "5uTJk8YYY86dO2eqVatmdu7caSpWrGh+/PFHY8y1S6106dLFGGNMRESEPWfGGPPLL78YY67lccmS\n",
              "JcaYa/mrXr26OX/+vDHGmP79+9tzR96BoifJXLhwwWRlZZnq1aubw4cPG2OMeeedd0z79u2NMcbs\n",
              "2LHD+Pr6mn379hljjJk+fbopV66cOXTokDHGmNGjR5uJEycaY67lqHjx4ua7774zxhgzf/5806lT\n",
              "J/s6f39/c+zYMWOMMZMnT7Z/tr///vumfv365sKFC8YYY6KioszIkSONMcY888wzJiIiwn65oOvf\n",
              "FVasWGEGDBhgfy1NmjQxn3zyiTHm2nWD//3vf9vX/etf/zLDhw83WVlZxhhjXn/9dfPggw/aH/fZ\n",
              "Z58ZY4zJzs621wC4G0nmhRdeMMYYExcXZ0qXLm2/PvZbb71lQkNDjTHXvl+3atXKpKSkGGOMSUhI\n",
              "MJUqVTJXrlwxO3bsME2bNs213d9+/96wYYN54IEHHH7Ow4cPm+rVq9szNnbsWDN79mxjjDFz5syx\n",
              "/9kYY2bPnm1Gjx5tjMn9HWDSpElm4MCBJjs721y6dMkEBwebN954wxhjzP3335/rc/l6zQMHDjSx\n",
              "sbHGGGNOnz5t7rrrLpOWlmav/bd5joqKMv/85z+NMcbk5OSYxx57zCxYsMD88ssvJiAgwPz666/G\n",
              "GGPS09PN5cuX/+h/hVfjiLiXGz58uCSpZs2aatu2rT755BNJ0vr16xUaGqpGjRpp5cqVio+PlyS1\n",
              "atVK/+///T9NmDBBW7ZsUenSpSVJcXFxGjp0qEqUKCE/Pz9FRUVp27Zt9ufp16+fypQpI19fXz32\n",
              "2GOKi4uzr+vVq5dKlSolX19fhYWF6ejRo39Yc9u2bfXaa6/pqaee0ocffqiyZcsW4TsCeJbPPvtM\n",
              "x44dU9euXRUcHKyOHTtKkuLj49WlSxdVqVJFkjR69Ght375d2dnZateunf7+979r9uzZ2r17t+64\n",
              "4458t92lSxeVK1dOktS6dWt7Nsk74Dy+vr4aPXq0Xn75ZUnSyy+/rDFjxtjX165dW82bN5ckhYaG\n",
              "qnbt2vbTvsPCwpSQkGAfGx4ergYNGkiSoqOjtXPnTmVnZ0u6lul77rnH/uff5rt///72rI0aNcqe\n",
              "73fffVfjxo1TiRIlJEl33XWXJCkyMlI7duzQmTNntHv3btlsNt133335vr7NmzcrLi7OflbOggUL\n",
              "lJSUJEnq0KGDxo0bpwULFujAgQPkHW6tf//+kq7lMD09XY888oik3Dn84IMPlJiYqLZt2yo4OFh9\n",
              "+/aVj4+P/e/8723btk2tW7dWo0aNNHv2bPv3b0ees169emrYsKG2bNmi9PR0bdiwQdHR0ZKu5W/d\n",
              "unX2o80bNmzQ8ePH89QRFxenqKgo+fj4qHTp0ho8eLC2bdumS5cuaffu3ZowYYJ97PV/B8aNG2f/\n",
              "d+u1117TgAEDdPvtt+f7Ojdv3qyFCxcqODhYzZo1065du5SYmCh/f3/VqVNHkZGRio2N1S+//HJL\n",
              "n87Ob8RvMTabTbt379ZLL72kzz//XBUqVNDWrVv19NNPS7r2YR0fH6+4uDi98847mjFjhvbv35/v\n",
              "dv7sea77bcB8fX2VlZX1h4/t06ePwsPDtW3bNi1btkwvvPCC/XQ34FZjjFFQUFCu00IlaenSpbnu\n",
              "/zZzTz75pHr06KG4uDhNmzZNjRo10iuvvJJn2wXNJnkHilZUVJQaNmyowYMHKzEx0X7aqpQ3Q45m\n",
              "6kbbudl8S9Jtt92moUOHKjY2VocOHdLjjz9+w7HGGE2dOtXeGPzW4sWLdfDgQe3YsUNDhgzRoEGD\n",
              "NGnSpAK8GsD1rmfI19c3z/3reTLGqFOnTlq/fn2ex1//Gcl1SUlJGjNmjL744gvVqlVLBw4cUNu2\n",
              "bR1+TulaUzx//nydO3dOnTp1UsWKFe31LF26NNfPXwqiIP8OhIWFqVSpUtqxY4dWrFiRayf87xlj\n",
              "tGnTJtWtWzfPuj179uizzz7Tzp071apVK23YsOGGO/a8HUfEvdzq1aslXZswYteuXbrvvvt04cIF\n",
              "lSlTRuXKlVNmZqZiY2Pt448fP67bb79d/fr109KlS3XkyBFdunRJHTt21Ouvv67MzExlZWVp5cqV\n",
              "uUK+ceNGXbp0SdnZ2Vq9erX9qN3NSEhIUMWKFTV48GAtWLBAe/bsufk3APBw4eHhOn78eK4PvPj4\n",
              "eP3lL3/RBx98oJMnT0q6Nit5hw4d5Ovrq++//1733HOPoqKiNG3aNIczRN4B57rjjjvUo0cP9erV\n",
              "SyNGjLB/6XbU559/bp+xfOXKlWrXrt2fbqtjx4566623lJqaKkmKjY215zsiIkIvvviiMjIyJF2b\n",
              "N+a6xx9/XCtWrND27ds1aNAg+3J/f3/7b8wlqWfPnlq+fLl9zomrV6/ad+gfPnxYQUFBGjNmjEaN\n",
              "GkXe4fEeeOABxcXF6cCBA/Zle/fulZQ3GykpKSpWrJgqV64sY4yWLVt208/buXNnnT59Ws8++2yu\n",
              "M2p69uypJUuW2H/L/euvv+rgwYN5Ht+xY0etWrVKxhilp6dr7dq16ty5s26//Xa1bdtWixYtso/9\n",
              "7b8D48aN0+DBg9WgQYNcTXaZMmXy/Dswf/58+86DCxcuKDExUWlpaTpz5ozuu+8+zZgxQ23atMn3\n",
              "gN+tgiPiXi47O1vNmjVTenq6XnrpJdWoUUNVqlTRunXrVK9ePZUrV04dO3a077XbuXOnFi9ebN/z\n",
              "tnDhQgUEBCg6OlpHjx5VSEiIJOn+++/PNfFSixYt9MADD+jcuXNq3bp1vpMyFdTGjRu1bt06FS9e\n",
              "XDk5OW516QfA1e644w699957mjhxoiZMmKCrV68qMDDQftrX9cmUqlWrptdee02StGzZMm3fvl3F\n",
              "ixeXr69vrg/UgiDvgPNFRUVpzZo1ioqKuulthIeHa/LkyUpMTFS5cuX0+uuv/+ljunbtqm+//Vat\n",
              "W7eWj4+PmjRpYj9jZvLkyXrqqacUEhKiYsWK6e6777afoVK1alX75K+lSpWyby86OloTJkzQkiVL\n",
              "NHfuXA0aNEg///yz2rVrJ0nKysrSsGHD1KxZM02bNk3ff/+9ihcvrlKlStknkgQ8Ve3atbV+/XqN\n",
              "GDFCv/76qzIzM9WsWTOtX79eTZo0UVBQkBo1aqSaNWtq69ateuSRRxQUFKRy5coV6hKDNptNjz32\n",
              "mNavX6/WrVvbl0+ePFkZGRlq2bKl/Sj35MmTFRQUlOvxM2bM0NixY9W4cWNJ0sMPP6x+/fpJujYR\n",
              "7BNPPKGgoCAVK1ZMPXr0sE/m1rdvX40aNSpX8y9JEyZMUKdOnVSqVCl9+OGHWrJkiaZMmaLg4GD5\n",
              "+PjIz89PCxYsUMmSJdW3b1+lp6fLZrOpTp06GjJkyE2/D57OZowxVhcBzzZ06FAFBwcX6ss4AM9A\n",
              "3oGi8fzzz+vQoUNatWrVTT1+zZo12rx5szZv3ly0hd1Aenq66tWrp127dtl/ew7AOt26dVP//v31\n",
              "6KOPuuw59+3bp4EDB+rw4cPy8eHE6sLiHQQAAHChoKAgrVmzJtclg9zZ8uXLVb9+fY0ePZomHLDY\n",
              "vn37VLt2bfn4+GjgwIEue97hw4erd+/eWrZsGU14EeGIOAAAAAAALsTuDAAAAAAAXIhGHAAAAAAA\n",
              "F6IRBwAAAADAhWjEAQAAAABwIRpxAAAAAABciEYcAAAAAAAXohEHAAAAAMCFaMQBAAAAAHAhGnEA\n",
              "AAAAAFzo/wP4mFINBi0wmwAAAABJRU5ErkJggg==\n",
              "\">\n",
              "        \n",
              "      </div>\n",
              "      <script></script>\n",
              "      <script type=\"text/javascript\">\n",
              "        (() => {\n",
              "          const chartElement = document.getElementById(\"chart-ed175acf-5b71-41fc-b4bc-6215aa9d2b0d\");\n",
              "          async function getCodeForChartHandler(event) {\n",
              "            const chartCodeResponse =  await google.colab.kernel.invokeFunction(\n",
              "                'getCodeForChart', [\"chart-ed175acf-5b71-41fc-b4bc-6215aa9d2b0d\"], {});\n",
              "            const responseJson = chartCodeResponse.data['application/json'];\n",
              "            await google.colab.notebook.addCell(responseJson.code, 'code');\n",
              "          }\n",
              "          chartElement.onclick = getCodeForChartHandler;\n",
              "        })();\n",
              "      </script>\n",
              "      <style>\n",
              "        .colab-quickchart-chart-with-code  {\n",
              "            display: block;\n",
              "            float: left;\n",
              "            border: 1px solid transparent;\n",
              "        }\n",
              "\n",
              "        .colab-quickchart-chart-with-code:hover {\n",
              "            cursor: pointer;\n",
              "            border: 1px solid #aaa;\n",
              "        }\n",
              "      </style>"
            ]
          },
          "metadata": {}
        }
      ]
    },
    {
      "cell_type": "markdown",
      "source": [
        "VGG16 model has been trained.It is achieving around 73% accuracy on the test data.So, More work has to be done to improve it."
      ],
      "metadata": {
        "id": "tkNZ_DovBWqw"
      }
    },
    {
      "cell_type": "code",
      "source": [
        "from google.colab import files\n",
        "from IPython.display import Image\n",
        "\n",
        "uploaded = files.upload\n",
        "Image(filename='thank-you-g10d0e3d99_1280.png',width=500)"
      ],
      "metadata": {
        "colab": {
          "base_uri": "https://localhost:8080/",
          "height": 467
        },
        "id": "K4p-y_cWDIr3",
        "outputId": "e75d7ece-323a-4a53-f9fb-cbb011ff143b"
      },
      "execution_count": null,
      "outputs": [
        {
          "output_type": "execute_result",
          "data": {
            "image/png": "[encoded data removed]",
            "text/plain": [
              "<IPython.core.display.Image object>"
            ]
          },
          "metadata": {
            "image/png": {
              "width": 500
            }
          },
          "execution_count": 63
        }
      ]
    },
    {
      "cell_type": "code",
      "source": [],
      "metadata": {
        "id": "GC9HCnitEERt"
      },
      "execution_count": null,
      "outputs": []
    }
  ]
}